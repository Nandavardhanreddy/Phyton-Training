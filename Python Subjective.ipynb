{
 "cells": [
  {
   "cell_type": "markdown",
   "metadata": {},
   "source": [
    "Q1. Write a Python program to get the string from the given string where\n",
    "all the occurrence of its first char has been changed to '$,' except first\n",
    "char itself?"
   ]
  },
  {
   "cell_type": "code",
   "execution_count": 3,
   "metadata": {},
   "outputs": [
    {
     "name": "stdout",
     "output_type": "stream",
     "text": [
      "pros$ect\n"
     ]
    }
   ],
   "source": [
    "s =\"prospect\"\n",
    "sList = list(s)\n",
    "\n",
    "for i in range(1, len(sList)):\n",
    "    if(sList[0]==sList[i]):\n",
    "        sList[i]=\"$\"\n",
    "        \n",
    "s =\"\".join(sList)\n",
    "\n",
    "print(s)"
   ]
  },
  {
   "cell_type": "markdown",
   "metadata": {},
   "source": [
    "Q2. Write a Python program to get the single string from the two given\n",
    "strings, and separated by the space and swap the first two characters of\n",
    "each string?\n",
    " Sample String : 'abc', 'xyz'.\n",
    "Expected Result: 'xyc abz'"
   ]
  },
  {
   "cell_type": "code",
   "execution_count": 5,
   "metadata": {},
   "outputs": [
    {
     "name": "stdout",
     "output_type": "stream",
     "text": [
      "xyzd abcw\n"
     ]
    }
   ],
   "source": [
    "s1= \"abcd\"\n",
    "s2 = \"xyzw\"\n",
    "\n",
    "s3 = s2[:len(s2)-1]+s1[-1]+\" \"+s1[:len(s1)-1]+s2[-1]\n",
    "\n",
    "print(s3)"
   ]
  },
  {
   "cell_type": "markdown",
   "metadata": {},
   "source": [
    "Q3. Write the Python program to add 'ing' at the end of the given string\n",
    "(length of the string should be at least 3). If given string already ends\n",
    "with 'ing,' then add 'ly' instead. If string length of the given string is less\n",
    "than 3, leave it unchanged?\n",
    "\n",
    "Sample string: ' abc '\n",
    "Expected result: ' abcing '\n",
    "Sample string: ' string '\n",
    "Expected result: ' stringly '"
   ]
  },
  {
   "cell_type": "code",
   "execution_count": 10,
   "metadata": {},
   "outputs": [
    {
     "name": "stdout",
     "output_type": "stream",
     "text": [
      "Stringly\n"
     ]
    }
   ],
   "source": [
    "#s1 = \"abc\"\n",
    "s1=\"String\"\n",
    "s2 =\"\"\n",
    "\n",
    "if(len(s1)>3):\n",
    "    k=s1[-3:]\n",
    "    \n",
    "    if(k==\"ing\"):\n",
    "        s2=s1+\"ly\"\n",
    "    else:\n",
    "        s2 = s1+\"ing\"\n",
    "        \n",
    "else:\n",
    "    s2 = s1\n",
    "    \n",
    "print(s2)"
   ]
  },
  {
   "cell_type": "markdown",
   "metadata": {},
   "source": [
    "Q4. Write the Python program to find the first appearance of the\n",
    "substring 'not' and 'poor' from the given string, if 'not' follows the 'poor',\n",
    "replace the whole 'not'...' poor' substring with 'good'.Return the resulting\n",
    "string.\n",
    "Sample string: 'The lyrics are not that poor!'\n",
    "'The lyrics are poor!'\n",
    "Expected Result: 'The lyrics are good!'\n",
    "'The lyrics are poor!"
   ]
  },
  {
   "cell_type": "code",
   "execution_count": 51,
   "metadata": {},
   "outputs": [
    {
     "name": "stdout",
     "output_type": "stream",
     "text": [
      "The lyrics are poor!\n"
     ]
    }
   ],
   "source": [
    "#s1 =\"The lyrics are not that poor!\"\n",
    "s1 = \"The lyrics are poor!\"\n",
    "\n",
    "if(s1.count(\"not\")>0):\n",
    "    if(s1.count(\"poor\")>0):\n",
    "        k =s1.index(\"not\")\n",
    "        s1 = s1[:k]+\"good!\"\n",
    "\n",
    "print(s1)\n"
   ]
  },
  {
   "cell_type": "code",
   "execution_count": 52,
   "metadata": {},
   "outputs": [
    {
     "name": "stdout",
     "output_type": "stream",
     "text": [
      "The lyrics are good!\n"
     ]
    }
   ],
   "source": [
    "s1 =\"The lyrics are not that poor!\"\n",
    "\n",
    "if(s1.count(\"not\")>0):\n",
    "    if(s1.count(\"poor\")>0):\n",
    "        k =s1.index(\"not\")\n",
    "        s1 = s1[:k]+\"good!\"\n",
    "\n",
    "print(s1)\n"
   ]
  },
  {
   "cell_type": "markdown",
   "metadata": {},
   "source": [
    "Q5. Write the Python program to remove the characters which have odd\n",
    "index values of a given string."
   ]
  },
  {
   "cell_type": "code",
   "execution_count": 11,
   "metadata": {},
   "outputs": [
    {
     "data": {
      "text/plain": [
       "'RmvOdhrce'"
      ]
     },
     "execution_count": 11,
     "metadata": {},
     "output_type": "execute_result"
    }
   ],
   "source": [
    "s =\"RemoveOddCharacter\"\n",
    "\n",
    "s[::2]"
   ]
  },
  {
   "cell_type": "markdown",
   "metadata": {},
   "source": [
    "Q6. Write the Python function to get a string made of 4 copies of the last\n",
    "two characters of the specified string (length must be at least 2).\n",
    "\n",
    "Sample function and result :\n",
    "insert-end ('Python') -> abababab\n",
    "insert-end('Exercises') -> jkjkjkjk"
   ]
  },
  {
   "cell_type": "code",
   "execution_count": 32,
   "metadata": {},
   "outputs": [
    {
     "name": "stdout",
     "output_type": "stream",
     "text": [
      "eseseses\n"
     ]
    }
   ],
   "source": [
    "#s =\"Python\"\n",
    "s =\"Exercises\"\n",
    "s=s[-2:]\n",
    "print(s*4)"
   ]
  },
  {
   "cell_type": "markdown",
   "metadata": {},
   "source": [
    "Q7. Write the python function to get a string made of its first three\n",
    "characters of a specified string. If the length of the string is less than 3\n",
    "then return the original string.\n",
    "Sample function and result :\n",
    "first-three('ipy') -> ipy\n",
    "first-three('python') -> pyt"
   ]
  },
  {
   "cell_type": "code",
   "execution_count": 17,
   "metadata": {},
   "outputs": [
    {
     "name": "stdout",
     "output_type": "stream",
     "text": [
      "Fir\n"
     ]
    }
   ],
   "source": [
    "s =\"FirstThreeCharacters\"\n",
    "\n",
    "if(len(s)>3):\n",
    "    s=s[:3]\n",
    "    \n",
    "print(s)    "
   ]
  },
  {
   "cell_type": "markdown",
   "metadata": {},
   "source": [
    "Q8. Write the python program to print the following floating numbers up\n",
    "to 2 decimal places?"
   ]
  },
  {
   "cell_type": "code",
   "execution_count": 18,
   "metadata": {
    "scrolled": true
   },
   "outputs": [
    {
     "name": "stdout",
     "output_type": "stream",
     "text": [
      "11.09\n"
     ]
    }
   ],
   "source": [
    "i = 11.086754\n",
    "\n",
    "print(round(i,2))"
   ]
  },
  {
   "cell_type": "markdown",
   "metadata": {},
   "source": [
    "Q9. Write the Python program to format a number with a percentage?"
   ]
  },
  {
   "cell_type": "code",
   "execution_count": 47,
   "metadata": {},
   "outputs": [
    {
     "name": "stdout",
     "output_type": "stream",
     "text": [
      "33.33333333333333%\n",
      "33.33%\n"
     ]
    }
   ],
   "source": [
    "#i=10\n",
    "i=1/3\n",
    "\n",
    "#print(str((i)*100)+\"%\")\n",
    "print(\"{0:.2%}\".format(i))\n"
   ]
  },
  {
   "cell_type": "markdown",
   "metadata": {},
   "source": [
    "Q10. Write the Python program to count occurrences of a substring in a\n",
    "String?"
   ]
  },
  {
   "cell_type": "code",
   "execution_count": 19,
   "metadata": {},
   "outputs": [
    {
     "data": {
      "text/plain": [
       "3"
      ]
     },
     "execution_count": 19,
     "metadata": {},
     "output_type": "execute_result"
    }
   ],
   "source": [
    "s =\"I felt happy because I saw the others were happy and because I knew I should feel happy\"\n",
    "\n",
    "subString =\"happy\"\n",
    "\n",
    "l1 = s.split(\" \")\n",
    "\n",
    "l1.count(\"happy\")"
   ]
  },
  {
   "cell_type": "markdown",
   "metadata": {},
   "source": [
    "Q11. Write the Python program to count repeated characters in a string.\n",
    "Sample string: ' thequickbrownjumpsoverthelazydog '\n",
    "Expected output:\n",
    "o 3\n",
    "e 3\n",
    "u 2\n",
    "h 2"
   ]
  },
  {
   "cell_type": "code",
   "execution_count": 23,
   "metadata": {},
   "outputs": [
    {
     "name": "stdout",
     "output_type": "stream",
     "text": [
      "t is repeated 2 times\n",
      "h is repeated 2 times\n",
      "e is repeated 3 times\n",
      "q is repeated 1 times\n",
      "u is repeated 2 times\n",
      "i is repeated 1 times\n",
      "c is repeated 1 times\n",
      "k is repeated 1 times\n",
      "b is repeated 1 times\n",
      "r is repeated 2 times\n",
      "o is repeated 3 times\n",
      "w is repeated 1 times\n",
      "n is repeated 1 times\n",
      "j is repeated 1 times\n",
      "m is repeated 1 times\n",
      "p is repeated 1 times\n",
      "s is repeated 1 times\n",
      "v is repeated 1 times\n",
      "l is repeated 1 times\n",
      "a is repeated 1 times\n",
      "z is repeated 1 times\n",
      "y is repeated 1 times\n",
      "d is repeated 1 times\n",
      "g is repeated 1 times\n"
     ]
    }
   ],
   "source": [
    "s = \"thequickbrownjumpsoverthelazydog\"\n",
    "l1= list(s)\n",
    "\n",
    "while(len(l1)!=0):\n",
    "    print( l1[0]+\" is repeated \"+ str(l1.count(l1[0]))+\" times\")\n",
    "    l1 = list(filter(lambda a: a!=l1[0], l1))"
   ]
  },
  {
   "cell_type": "markdown",
   "metadata": {},
   "source": [
    "Q12. Write the Python program to print the square and cube symbol in\n",
    "the area of a rectangle and volume of a cylinder?\n",
    "Sample outputThe area of the rectangle is 1256.66cm2\n",
    "The volume of the cylinder is 1254.725cm3\n"
   ]
  },
  {
   "cell_type": "code",
   "execution_count": 25,
   "metadata": {},
   "outputs": [
    {
     "name": "stdout",
     "output_type": "stream",
     "text": [
      "The area of the rectangle is 1256.66cm²\n",
      "The volume of the rectangle is 1254.725cm³\n"
     ]
    }
   ],
   "source": [
    "area = 1256.66\n",
    "volume = 1254.725\n",
    "\n",
    "\n",
    "print(\"The area of the rectangle is \"+str(area)+\"cm\\u00b2\")\n",
    "print(\"The volume of the rectangle is \"+str(volume)+\"cm\\u00b3\")"
   ]
  },
  {
   "cell_type": "markdown",
   "metadata": {},
   "source": [
    "Q13. Write the Python program to check if a string contains all letters of\n",
    "the alphabet?"
   ]
  },
  {
   "cell_type": "code",
   "execution_count": 28,
   "metadata": {},
   "outputs": [
    {
     "name": "stdout",
     "output_type": "stream",
     "text": [
      "True\n"
     ]
    }
   ],
   "source": [
    "import string\n",
    "\n",
    "alphabets = set(string.ascii_lowercase)\n",
    "\n",
    "#givenString =\"check if given string contains all letters of alphabet\"\n",
    "givenString =\"abcdefghijklmnopqrstuvzxyw\"\n",
    "\n",
    "setString = set(givenString)\n",
    "\n",
    "if(setString>=alphabets):\n",
    "    print(True)\n",
    "    \n",
    "else:\n",
    "    print(False)"
   ]
  },
  {
   "cell_type": "markdown",
   "metadata": {},
   "source": [
    "Q14. Write the Python program to find the second most repeated word\n",
    "in a given string?"
   ]
  },
  {
   "cell_type": "code",
   "execution_count": 81,
   "metadata": {},
   "outputs": [
    {
     "name": "stdout",
     "output_type": "stream",
     "text": [
      "second most repated word is happy\n"
     ]
    }
   ],
   "source": [
    "s =\"I felt happy because I saw the others were happy and because I knew I should feel happy\"\n",
    "\n",
    "l1 =s.split(\" \")\n",
    "l2 = {}\n",
    "\n",
    "\n",
    "while(len(l1)>0):\n",
    "    l2[l1[0]] = l1.count(l1[0])\n",
    "    l1=list(filter(lambda a:a!=l1[0],l1))\n",
    "\n",
    "valueList = sorted(l2.values(), reverse= True)\n",
    "#print(l2)\n",
    "\n",
    "for key, val in l2.items(): \n",
    "    if val == valueList[1]: \n",
    "        print(\"second most repated word is \"+ key)\n",
    "   \n",
    "    "
   ]
  },
  {
   "cell_type": "markdown",
   "metadata": {},
   "source": [
    "Q15. Write the Python program to find the minimum window in the given\n",
    "string, which will contains all the characters of another given\n",
    "strings?\n",
    "\n",
    "Example 1\n",
    "Input : string1 = \" PRWSOERIUSFK \"\n",
    "string2 = \" OSU \"\n",
    "Output: Minimum window is \"OERIUS\""
   ]
  },
  {
   "cell_type": "code",
   "execution_count": 1,
   "metadata": {},
   "outputs": [
    {
     "data": {
      "text/plain": [
       "'SOERIU'"
      ]
     },
     "execution_count": 1,
     "metadata": {},
     "output_type": "execute_result"
    }
   ],
   "source": [
    "\n",
    "def findMinWidow(st1,st2):\n",
    "    l1=len(st1)\n",
    "    l2=len(st2)\n",
    "    li1=list(st1)\n",
    "    li=wLi=[]\n",
    "    c=0\n",
    "    while l2<=l1:\n",
    "        for i in range(0,l1-l2+1):\n",
    "            s=''\n",
    "            li.append(s.join(li1[i:i+l2]))\n",
    "        c=c+1\n",
    "        l2=len(st2)+c\n",
    "    for i in li:\n",
    "        cntr=0\n",
    "        for j in list(st2):\n",
    "            if(j in i):\n",
    " #print(j+' found in '+i)\n",
    "                cntr=cntr+1\n",
    "            else:\n",
    "                break\n",
    "        if(cntr==len(st2)):\n",
    "            break\n",
    "        else:\n",
    "            continue\n",
    "    return i\n",
    "st1='PRWSOERIUSFK'\n",
    "st2='OSU'\n",
    "findMinWidow(st1,st2)"
   ]
  },
  {
   "cell_type": "markdown",
   "metadata": {},
   "source": [
    "Q16. Write the Python program to find smallest window that contains all\n",
    "characters of the given string?"
   ]
  },
  {
   "cell_type": "code",
   "execution_count": 3,
   "metadata": {},
   "outputs": [
    {
     "data": {
      "text/plain": [
       "'aswtryjhguui'"
      ]
     },
     "execution_count": 3,
     "metadata": {},
     "output_type": "execute_result"
    }
   ],
   "source": [
    "def smallestWindow(st1):\n",
    "    st=set(st1)\n",
    "    st2=''.join(st)\n",
    "    l1=len(st1)\n",
    "    l2=len(st2)\n",
    "    li1=list(st1)\n",
    "    li=wLi=[]\n",
    "    c=0\n",
    "    while l2<=l1:\n",
    "        for i in range(0,l1-l2+1):\n",
    "            s=''\n",
    "            li.append(s.join(li1[i:i+l2]))\n",
    "        c=c+1\n",
    "        l2=len(st2)+c\n",
    "    for i in li:\n",
    "        cntr=0\n",
    "        for j in list(st2):\n",
    "            if(j in i):\n",
    "                cntr=cntr+1\n",
    "            else:\n",
    "                break\n",
    "        if(cntr==len(st2)):\n",
    "            break\n",
    "        else:\n",
    "            continue\n",
    "    return i\n",
    "st1='saswtryjhguuiiuhh'\n",
    "smallestWindow(st1)"
   ]
  },
  {
   "cell_type": "markdown",
   "metadata": {},
   "source": [
    "Q17. Write the Python program to count number of substrings from a\n",
    "given string of lowercase alphabets with exactly k distinct (given)\n",
    "characters?\n",
    "\n",
    "Input a string (lowercase alphabets): wolf\n",
    "Input k: 4\n",
    "Number of substrings with exactly 4 distinct characters: 1"
   ]
  },
  {
   "cell_type": "code",
   "execution_count": 4,
   "metadata": {},
   "outputs": [
    {
     "data": {
      "text/plain": [
       "1"
      ]
     },
     "execution_count": 4,
     "metadata": {},
     "output_type": "execute_result"
    }
   ],
   "source": [
    "def countSubstrings(st1,l):\n",
    "    st1=''.join(set(st1))\n",
    "    l1=len(st1)\n",
    "    l2=l\n",
    "    li1=list(st1)\n",
    "    li=wLi=[]\n",
    "    c=0\n",
    "    for i in range(0,l1-l2+1):\n",
    "        s=''\n",
    "        li.append(s.join(li1[i:i+l2]))\n",
    "    return len(li)\n",
    "st1='wolf'\n",
    "l=4\n",
    "countSubstrings(st1,l)"
   ]
  },
  {
   "cell_type": "markdown",
   "metadata": {},
   "source": [
    "Q18. Write the Python program to count number of non-empty\n",
    "substrings of the given string?"
   ]
  },
  {
   "cell_type": "code",
   "execution_count": 84,
   "metadata": {},
   "outputs": [
    {
     "name": "stdout",
     "output_type": "stream",
     "text": [
      "55\n"
     ]
    }
   ],
   "source": [
    "s = \"w3resource\"\n",
    "\n",
    "print(len(s)*(len(s)+1)//2)"
   ]
  },
  {
   "cell_type": "markdown",
   "metadata": {},
   "source": [
    "Q19. Write the Python program to count number of substrings with same\n",
    "first and last characters of the given string?\n",
    "\n",
    "Input a string: abcd\n",
    "4\n"
   ]
  },
  {
   "cell_type": "code",
   "execution_count": 5,
   "metadata": {},
   "outputs": [
    {
     "data": {
      "text/plain": [
       "4"
      ]
     },
     "execution_count": 5,
     "metadata": {},
     "output_type": "execute_result"
    }
   ],
   "source": [
    "def countSubStrWithSameFirstLastChr(st1):\n",
    "    l1=len(st1)\n",
    "    l=1\n",
    "    li1=list(st1)\n",
    "    li=wLi=[]\n",
    "    l2=1\n",
    "    c=0\n",
    "    while l2<=l1:\n",
    "        for i in range(0,l1-l2+1):\n",
    "            s=''\n",
    "            li.append(s.join(li1[i:i+l2]))\n",
    "        c=c+1\n",
    "        l2=l+c\n",
    "    cntr=0\n",
    "    for i in li:\n",
    "        if(i[0]==i[-1]):\n",
    "            cntr=cntr+1\n",
    "    return cntr\n",
    "st1='abcd'\n",
    "countSubStrWithSameFirstLastChr(st1)"
   ]
  },
  {
   "cell_type": "markdown",
   "metadata": {},
   "source": [
    "Q20. Write the Python program to count the number of strings where the\n",
    "string length is 2 or more, and first and last character are same\n",
    "from a given list of strings.\n",
    " \n",
    "Sample List : ['abc', 'xyz', 'wxw', '1331']\n",
    "Expected Result: 2"
   ]
  },
  {
   "cell_type": "code",
   "execution_count": 90,
   "metadata": {},
   "outputs": [
    {
     "name": "stdout",
     "output_type": "stream",
     "text": [
      "2\n"
     ]
    }
   ],
   "source": [
    "l1 = ['abc', 'xyz', 'wxw', '1331']\n",
    "count=0\n",
    "\n",
    "for i in l1:\n",
    "    if(len(l1)>2 and i[0]==i[-1]):\n",
    "        count+=1\n",
    "            \n",
    "print(str(count))"
   ]
  },
  {
   "cell_type": "markdown",
   "metadata": {},
   "source": [
    "Q21. Write the Python program to get a list, sorted in increasing order by\n",
    "the last element in each tuple from the given list of non-empty\n",
    "tuples?\n",
    "\n",
    "Sample List - [ (2, 5), (1, 2), (4, 4), (2, 3), (2, 1) ]\n",
    "Expected Result - [ (2, 1), (1, 2), (2, 3), (4, 4), (2, 5) ]"
   ]
  },
  {
   "cell_type": "code",
   "execution_count": 96,
   "metadata": {},
   "outputs": [
    {
     "name": "stdout",
     "output_type": "stream",
     "text": [
      "[(2, 1), (1, 2), (2, 3), (4, 4), (2, 5)]\n"
     ]
    }
   ],
   "source": [
    "l1 = [ (2, 5), (1, 2), (4, 4), (2, 3), (2, 1) ]\n",
    "\n",
    "def last(n): return n[-1]\n",
    "\n",
    "l2 = sorted(l1, key=last)\n",
    "\n",
    "print(l2)"
   ]
  },
  {
   "cell_type": "markdown",
   "metadata": {},
   "source": [
    "Q22. Write the Python program to remove duplicates from a list?"
   ]
  },
  {
   "cell_type": "code",
   "execution_count": 97,
   "metadata": {},
   "outputs": [
    {
     "name": "stdout",
     "output_type": "stream",
     "text": [
      "{1, 2, 3, 4, 5, 6, 7, 8}\n"
     ]
    }
   ],
   "source": [
    "l1=[1,1,1,2,2,2,3,3,4,5,8,4,6,6,5,7]\n",
    "\n",
    "l1= set(l1)\n",
    "\n",
    "print(l1)"
   ]
  },
  {
   "cell_type": "markdown",
   "metadata": {},
   "source": [
    "Q23. Write the Python program to find the list of words that are longer\n",
    "than n from a given list of words?"
   ]
  },
  {
   "cell_type": "code",
   "execution_count": 99,
   "metadata": {},
   "outputs": [
    {
     "name": "stdout",
     "output_type": "stream",
     "text": [
      "['aaa', 'aaaa', 'aaaaa', 'aaaaaa']\n"
     ]
    }
   ],
   "source": [
    "l1 = ['a','aa','aaa','aaaa','aaaaa','aaaaaa']\n",
    "\n",
    "number =2\n",
    "\n",
    "l2 = list(filter(lambda a: len(a)>number,l1))\n",
    "\n",
    "print(l2)"
   ]
  },
  {
   "cell_type": "markdown",
   "metadata": {},
   "source": [
    "Q24. Write the Python program to print a specified list after removing the\n",
    "0th, 4th, and 5th elements?\n",
    "Sample List - ['Red', 'Green', 'White', 'Black', 'Pink', 'Yellow']\n",
    "Expected Output - ['Green', 'White', 'Black']"
   ]
  },
  {
   "cell_type": "code",
   "execution_count": 5,
   "metadata": {},
   "outputs": [
    {
     "data": {
      "text/plain": [
       "['Green', 'White', 'Black']"
      ]
     },
     "execution_count": 5,
     "metadata": {},
     "output_type": "execute_result"
    }
   ],
   "source": [
    "l1 =['Red', 'Green', 'White', 'Black', 'Pink', 'Yellow']\n",
    "\n",
    "[x for (i,x) in enumerate(l1) if i not in (0,4,5)]"
   ]
  },
  {
   "cell_type": "markdown",
   "metadata": {},
   "source": [
    "Q25. Write the Python program to generate all permutations of a list in\n",
    "Python?\n"
   ]
  },
  {
   "cell_type": "code",
   "execution_count": 8,
   "metadata": {},
   "outputs": [
    {
     "name": "stdout",
     "output_type": "stream",
     "text": [
      "[('Red', 'Green', 'White'), ('Red', 'White', 'Green'), ('Green', 'Red', 'White'), ('Green', 'White', 'Red'), ('White', 'Red', 'Green'), ('White', 'Green', 'Red')]\n"
     ]
    }
   ],
   "source": [
    "l1 =['Red', 'Green', 'White']\n",
    "\n",
    "from itertools import permutations\n",
    "print(list(permutations(l1)))"
   ]
  },
  {
   "cell_type": "markdown",
   "metadata": {},
   "source": [
    "Q26. Write the Python program to convert a pair of values into a sorted\n",
    "unique array?\n",
    " Original List- [ (1, 2), (3, 4), (1, 2), (5, 6), (7, 8), (1, 2), (3, 4), (3, 4), (7, 8), (9, 10) ]\n",
    " Sorted Unique Data- [ 1, 2, 3, 4, 5, 6, 7, 8, 9, 10 ] "
   ]
  },
  {
   "cell_type": "code",
   "execution_count": 11,
   "metadata": {},
   "outputs": [
    {
     "name": "stdout",
     "output_type": "stream",
     "text": [
      "(1, 2) (3, 4) (1, 2) (5, 6) (7, 8) (1, 2) (3, 4) (3, 4) (7, 8) (9, 10)\n",
      "[1, 2, 3, 4, 5, 6, 7, 8, 9, 10]\n"
     ]
    }
   ],
   "source": [
    "l1= [ (1, 2), (3, 4), (1, 2), (5, 6), (7, 8), (1, 2), (3, 4), (3, 4), (7, 8), (9, 10) ]\n",
    "\n",
    "print(sorted(set().union(*l1)))\n",
    "\n"
   ]
  },
  {
   "cell_type": "markdown",
   "metadata": {},
   "source": [
    "Q27. Write the Python class to convert an integer to a roman numeral?"
   ]
  },
  {
   "cell_type": "code",
   "execution_count": 14,
   "metadata": {},
   "outputs": [
    {
     "name": "stdout",
     "output_type": "stream",
     "text": [
      "CCXXXIV\n"
     ]
    }
   ],
   "source": [
    "class InttoRoman:\n",
    "     def int_to_Roman(self, num):\n",
    "            \n",
    "        ROMAN_NUMERAL_TABLE = ( (\"M\", 1000), (\"CM\", 900), (\"D\", 500), (\"CD\", 400), (\"C\", 100), (\"XC\", 90),(\"L\", 50),   (\"XL\", 40),  (\"X\", 10),  (\"IX\", 9),   (\"V\", 5),   (\"IV\", 4), (\"I\", 1))\n",
    "        \n",
    "        roman_numerals = []\n",
    "        for numeral, value in ROMAN_NUMERAL_TABLE:\n",
    "            count = num // value\n",
    "            num -= count * value\n",
    "            roman_numerals.append(numeral * count)\n",
    "            \n",
    "        return(\"\".join(roman_numerals))\n",
    "            \n",
    "print(InttoRoman().int_to_Roman(234))\n"
   ]
  },
  {
   "cell_type": "markdown",
   "metadata": {},
   "source": [
    "Q28 Write the Python class to convert a Roman numeral to an integer?"
   ]
  },
  {
   "cell_type": "code",
   "execution_count": 13,
   "metadata": {},
   "outputs": [
    {
     "name": "stdout",
     "output_type": "stream",
     "text": [
      "234\n"
     ]
    }
   ],
   "source": [
    "class RomanToInt:\n",
    "     def roman_To_Int(self, num):\n",
    "            \n",
    "        ROMAN_TABLE = ('M','CM','D','CD','C','XC','L','XL','X','IX','V','IV','I')\n",
    "        INT_TABLE = ('1000','900','500','400','100','90','50','40','10','9','5','4','1')\n",
    "                \n",
    "        a=0\n",
    "        c=len(num)\n",
    "        b=0\n",
    "        while c>0:\n",
    "            if(ROMAN_TABLE[a]==num[0:len(ROMAN_TABLE[a])]):\n",
    "                num=num[len(ROMAN_TABLE[a]):]\n",
    "                c=len(num)\n",
    "                b=b+int(INT_TABLE[a])\n",
    "            else:\n",
    "                 a=a+1\n",
    "        return b\n",
    "    \n",
    "    \n",
    "print(RomanToInt().roman_To_Int(\"CCXXXIV\"))\n",
    "#RomanToInt().roman_To_Int(\"CCXXXIV\")\n"
   ]
  },
  {
   "cell_type": "markdown",
   "metadata": {},
   "source": [
    "Q29. Write the Python class to find the validity of the string of the\n",
    "parentheses, '(', ')', '{', '}', '[' and '] and the brackets must be closed\n",
    "in the correct order, example - \"()\" and \"()[]{}\" are valid but \"[)\",\n",
    "\"({[)]\" and \"{{{\" are invalid."
   ]
  },
  {
   "cell_type": "code",
   "execution_count": 14,
   "metadata": {},
   "outputs": [
    {
     "name": "stdout",
     "output_type": "stream",
     "text": [
      "[({[())]]} are valid\n"
     ]
    }
   ],
   "source": [
    "class pattern:\n",
    "    def findPattern(self,ser):\n",
    "        li=['()','[]','{}']\n",
    "        aL=bL=[]\n",
    "        cntr=0\n",
    "        for i in li:\n",
    "            a=i[0]\n",
    "            b=i[1]\n",
    "            if(ser.count(a)==ser.count(b)):\n",
    "                c=ser.count(a)\n",
    "                x=0\n",
    "                y=0\n",
    "                while c>0:\n",
    "                    x=ser.index(a,x)\n",
    "                    aL.append(x)\n",
    "                    x=x+1\n",
    "                    y=ser.index(b,y)\n",
    "                    aL.append(y)\n",
    "                    y=y+1\n",
    "                    c=c-1\n",
    "                    if(x>y):\n",
    "                        cntr=cntr+1\n",
    "            else:\n",
    "                cntr=cntr+1\n",
    "                break\n",
    "        if(cntr>0):\n",
    "            return '{} are invalid'.format(ser)\n",
    "        else:\n",
    "            return '{} are valid'.format(ser)\n",
    "print(pattern().findPattern('[({[())]]}'))"
   ]
  },
  {
   "cell_type": "markdown",
   "metadata": {},
   "source": [
    "Q30. Write the Python class to get all possible unique subsets from a set\n",
    "of distinct integers?"
   ]
  },
  {
   "cell_type": "code",
   "execution_count": 21,
   "metadata": {},
   "outputs": [
    {
     "data": {
      "text/plain": [
       "[[], [4], [4, 5], [4, 5, 6], [5], [5, 6], [6]]"
      ]
     },
     "execution_count": 21,
     "metadata": {},
     "output_type": "execute_result"
    }
   ],
   "source": [
    "class uniqueSubsets:\n",
    "    def allUniqueSubset(self,l1):\n",
    "        subset = [[]]\n",
    "        for i in range(0,len(l1)+1):\n",
    "            for j in range(i+1,len(l1)+1):\n",
    "                subset.append(l1[i:j])\n",
    "            \n",
    "        return subset\n",
    "    \n",
    "uniqueSubsets().allUniqueSubset([4,5,6])"
   ]
  },
  {
   "cell_type": "markdown",
   "metadata": {},
   "source": [
    "Q31. Write the Python class to find a pair of elements (indices of the two\n",
    "numbers) from a given array whose sum equals the specific target\n",
    "number?\n",
    "Input: numbers- [10,20,10,40,50,60,70], target=50\n",
    "Output- 3, 4"
   ]
  },
  {
   "cell_type": "code",
   "execution_count": 30,
   "metadata": {},
   "outputs": [
    {
     "name": "stdout",
     "output_type": "stream",
     "text": [
      "Pair of element Indices whose sum is 50 is 1,4\n",
      "Pair of element Indices whose sum is 50 is 3,4\n"
     ]
    }
   ],
   "source": [
    "class targetSum:\n",
    "    def indexOfSum(self, l1):\n",
    "        target=50\n",
    "        l2 =[]\n",
    "        \n",
    "        for i in range(0, len(l1)):\n",
    "            for j in range(i+1, len(l1)):\n",
    "                if((l1[i]+l1[j]) == target):\n",
    "                     l2.append(str(i+1)+\",\"+str(j+1))\n",
    "                    \n",
    "        return l2\n",
    "        \n",
    "l2 = targetSum().indexOfSum([10,20,10,40,50,60,70])\n",
    "\n",
    "for i in range(0,len(l2)):\n",
    "    print(\"Pair of element Indices whose sum is 50 is \"+l2[i])"
   ]
  },
  {
   "cell_type": "markdown",
   "metadata": {},
   "source": [
    "Q32. Write the Python class to find the three elements that sum to zero\n",
    "from the set of n real numbers?\n",
    "Input array- [-25, -10, -7, -3, 2, 4, 8, 10]\n",
    "Output - [[-10, 2, 8], [-7, -3, 10]]"
   ]
  },
  {
   "cell_type": "code",
   "execution_count": 33,
   "metadata": {},
   "outputs": [
    {
     "name": "stdout",
     "output_type": "stream",
     "text": [
      "[[-10, 2, 8], [-7, -3, 10]]\n"
     ]
    }
   ],
   "source": [
    "import itertools\n",
    "class zeroSum:\n",
    "    def sumElements(self, l1):\n",
    "        n=3\n",
    "        li=[]\n",
    "        l=[]\n",
    "        li=[list(i) for i in itertools.combinations(l1, n)]\n",
    "        for i in li:\n",
    "            sum=0\n",
    "            for j in i:\n",
    "                sum=sum+j\n",
    "            if(sum==0):\n",
    "                l.append(i)\n",
    "        return l\n",
    "    \n",
    "l1 = [-25, -10, -7, -3, 2, 4, 8, 10]\n",
    "print(zeroSum().sumElements(l1))\n"
   ]
  },
  {
   "cell_type": "markdown",
   "metadata": {},
   "source": [
    "Q33. Write the Python class to implement pow(x, n)?"
   ]
  },
  {
   "cell_type": "code",
   "execution_count": 34,
   "metadata": {},
   "outputs": [
    {
     "data": {
      "text/plain": [
       "343"
      ]
     },
     "execution_count": 34,
     "metadata": {},
     "output_type": "execute_result"
    }
   ],
   "source": [
    "class power:\n",
    "    def pow(self,x,num):\n",
    "        \n",
    "        return x**num\n",
    "\n",
    "        \n",
    "power().pow(7,3)        "
   ]
  },
  {
   "cell_type": "markdown",
   "metadata": {},
   "source": [
    "Q34. Write the Python class which has two methods get_String and\n",
    "print_String. get_String accept the string from the user and print_String print the string in upper case"
   ]
  },
  {
   "cell_type": "code",
   "execution_count": 41,
   "metadata": {},
   "outputs": [
    {
     "name": "stdout",
     "output_type": "stream",
     "text": [
      "Enter the string to be converted:capitalize this value\n",
      "CAPITALIZE THIS VALUE\n"
     ]
    }
   ],
   "source": [
    "class stringToUpper:\n",
    "    def __init__(self):\n",
    "        self.s=''\n",
    "    def get_String(self):\n",
    "        self.s=input('Enter the string to be converted:')\n",
    "    def print_String(self):\n",
    "        print(self.s.upper())\n",
    "    \n",
    "s1 = stringToUpper()\n",
    "s1.get_String()\n",
    "s1.print_String()"
   ]
  },
  {
   "cell_type": "markdown",
   "metadata": {},
   "source": [
    "Q35. Write the Python class named Rectangle constructed by a length\n",
    "and width and the method which will compute the area of the\n",
    "rectangle?"
   ]
  },
  {
   "cell_type": "code",
   "execution_count": 42,
   "metadata": {},
   "outputs": [
    {
     "data": {
      "text/plain": [
       "600"
      ]
     },
     "execution_count": 42,
     "metadata": {},
     "output_type": "execute_result"
    }
   ],
   "source": [
    "class Rectangle:\n",
    "    def __init__(self,l,w):\n",
    "        self.l=l\n",
    "        self.w=w\n",
    "    def area(self):\n",
    "        return self.l*self.w\n",
    "    \n",
    "a =Rectangle(20,30)\n",
    "a.area()"
   ]
  },
  {
   "cell_type": "markdown",
   "metadata": {},
   "source": [
    "Q36. Write the Python class named Circle constructed by the radius\n",
    "and two methods which will compute the area and perimeter of\n",
    "the circle?"
   ]
  },
  {
   "cell_type": "code",
   "execution_count": 53,
   "metadata": {},
   "outputs": [
    {
     "name": "stdout",
     "output_type": "stream",
     "text": [
      "Area of circle is 1256.6370614359173\n",
      "Perimeter of circle is 125.66370614359172\n"
     ]
    }
   ],
   "source": [
    "import math\n",
    "class Circle:\n",
    "    def __init__(self,r):\n",
    "        self.r=r\n",
    "    def area(self):\n",
    "        a=math.pi*((self.r)**2)\n",
    "        return a \n",
    "    def perimeter(self):\n",
    "        p = (2*(math.pi)*(self.r))\n",
    "        return p \n",
    "    \n",
    "a =Circle(20)\n",
    "print(\"Area of circle is \"+str(a.area()))\n",
    "print(\"Perimeter of circle is \"+str(a.perimeter()))"
   ]
  },
  {
   "cell_type": "markdown",
   "metadata": {},
   "source": [
    "Q37. Write the Python program to get the class name of an instance in\n",
    "Python?"
   ]
  },
  {
   "cell_type": "code",
   "execution_count": 54,
   "metadata": {},
   "outputs": [
    {
     "name": "stdout",
     "output_type": "stream",
     "text": [
      "c1\n",
      "c2\n"
     ]
    }
   ],
   "source": [
    "class c1():\n",
    "    pass\n",
    "class c2():\n",
    "    pass\n",
    "def getClassName(o):\n",
    "    print(o.__class__.__name__)\n",
    "o11=c1()\n",
    "o21=c2()\n",
    "getClassName(o11)\n",
    "getClassName(o21)"
   ]
  },
  {
   "cell_type": "markdown",
   "metadata": {},
   "source": [
    "Q38. Write the Python program to count the number of students of\n",
    "individual class?\n",
    "Sample dataclasses = (\n",
    "('V', 1),\n",
    "('VI', 1),\n",
    "('V', 2),\n",
    "('VI', 2),\n",
    "('VI', 3),\n",
    "('VII', 1),\n",
    ")\n",
    "Expected OutputCounter({'VI': 3, 'V': 2, 'VII': 1})"
   ]
  },
  {
   "cell_type": "code",
   "execution_count": 66,
   "metadata": {},
   "outputs": [
    {
     "data": {
      "text/plain": [
       "Counter({'V': 2, 'VI': 3, 'VII': 1})"
      ]
     },
     "execution_count": 66,
     "metadata": {},
     "output_type": "execute_result"
    }
   ],
   "source": [
    "from collections import Counter\n",
    "\n",
    "def counter():\n",
    "    dataclasses = (('V', 1),('VI', 1),('V', 2),('VI', 2),('VI', 3),('VII', 1))\n",
    "    \n",
    "    value =Counter(key for key,val in dataclasses)\n",
    "    \n",
    "    return value\n",
    "    \n",
    "counter()"
   ]
  },
  {
   "cell_type": "markdown",
   "metadata": {},
   "source": [
    "Q39. Write the Python program to create an instance of an OrderedDict\n",
    "using the given dictionary and sort dictionary during the\n",
    "creation and print members of the dictionary in reverse order?\n",
    "Expected OutputAngola 244.\n",
    "Andorra 376.\n",
    "Algeria 213.\n",
    "Afghanistan 93.\n",
    "Albania 355.\n",
    "In reverse orderAlbania 355.\n",
    "Afghanistan 93.\n",
    "Algeria 213.\n",
    "Andorra 376.\n",
    "Angola 244."
   ]
  },
  {
   "cell_type": "code",
   "execution_count": 91,
   "metadata": {},
   "outputs": [
    {
     "name": "stdout",
     "output_type": "stream",
     "text": [
      "In reverse order\n",
      "Afghanistan 93\n",
      "Albania 355\n",
      "Algeria 213\n",
      "Andorra 376\n",
      "Angola 244\n"
     ]
    }
   ],
   "source": [
    "def sortDictonary():\n",
    "    dict= { 'Albania': 355, 'Algeria': 213, 'Andorra': 376, 'Angola': 244,'Afghanistan': 93}\n",
    "    print(\"In reverse order\")\n",
    "    for key,val in sorted(dict.items()):\n",
    "        \n",
    "        print(key+\" \"+str(val))\n",
    "\n",
    "sortDictonary()"
   ]
  },
  {
   "cell_type": "markdown",
   "metadata": {},
   "source": [
    "Q40. Write the Python program to compare two unordered lists (not\n",
    "sets)?"
   ]
  },
  {
   "cell_type": "code",
   "execution_count": 98,
   "metadata": {},
   "outputs": [
    {
     "name": "stdout",
     "output_type": "stream",
     "text": [
      "False\n"
     ]
    }
   ],
   "source": [
    "l1=sorted([1,3,4,2])\n",
    "l2=sorted([2,3,1,4])\n",
    "i=0\n",
    "if(len(l1)!=len(l2)):\n",
    "    i=i+1\n",
    "else:\n",
    "    for k in range(len(l1)):\n",
    "        if(l1[k]!=l2[k]):\n",
    "            i=i+1\n",
    "            break\n",
    "if(i>0):\n",
    "    print(True)\n",
    "else:\n",
    "    print(False)"
   ]
  },
  {
   "cell_type": "markdown",
   "metadata": {},
   "source": [
    "Q41. Write the Python program to get an array buffer information?\n",
    "Expected OutputArray buffer start address in memory and number of elements.\n",
    "(25855056, 2)"
   ]
  },
  {
   "cell_type": "code",
   "execution_count": 99,
   "metadata": {},
   "outputs": [
    {
     "data": {
      "text/plain": [
       "(136043760, 5)"
      ]
     },
     "execution_count": 99,
     "metadata": {},
     "output_type": "execute_result"
    }
   ],
   "source": [
    "from array import *\n",
    "a=array('i',(1,2,3,4,5))\n",
    "a.buffer_info()"
   ]
  },
  {
   "cell_type": "markdown",
   "metadata": {},
   "source": [
    "Q42. Write the Python program to convert an array to an array of\n",
    "machine values and return the bytes representation?\n",
    "Expected OutputOriginal arrayA1: array('i', [1, 2, 3, 4, 5, 6])\n",
    "Array of bytes:\n",
    "b'010000000200000003000000040000000500000006000000'"
   ]
  },
  {
   "cell_type": "code",
   "execution_count": 103,
   "metadata": {},
   "outputs": [
    {
     "name": "stdout",
     "output_type": "stream",
     "text": [
      "Array of bytes: b'01000000020000000300000004000000'\n"
     ]
    }
   ],
   "source": [
    "from array import *\n",
    "import binascii\n",
    "A1=array('i', [1, 2, 3, 4])\n",
    "s=A1.tobytes()\n",
    "print('Array of bytes:', binascii.hexlify(s))"
   ]
  },
  {
   "cell_type": "markdown",
   "metadata": {},
   "source": [
    "Q43. Write the Python program to read a string and interpreting the\n",
    "string as an array of machine values?\n",
    "Expected Outputarray1- array('i', [7, 8, 9, 10])\n",
    "Bytes- b'0700000008000000090000000a000000'\n",
    "array2- array('i', [7, 8, 9, 10])"
   ]
  },
  {
   "cell_type": "code",
   "execution_count": 104,
   "metadata": {},
   "outputs": [
    {
     "name": "stdout",
     "output_type": "stream",
     "text": [
      "array1: array('i', [7, 8, 9, 10])\n",
      "Bytes: b'0700000008000000090000000a000000'\n",
      "array2: array('i', [7, 8, 9, 10])\n"
     ]
    }
   ],
   "source": [
    "from array import array\n",
    "import binascii\n",
    "array1 = array('i', [7, 8, 9, 10])\n",
    "print('array1:', array1)\n",
    "as_bytes = array1.tobytes()\n",
    "print('Bytes:', binascii.hexlify(as_bytes))\n",
    "array2 = array('i')\n",
    "array2.frombytes(as_bytes)\n",
    "print('array2:', array2)"
   ]
  },
  {
   "cell_type": "markdown",
   "metadata": {},
   "source": [
    "Q44. Write the Python program to push three items into the heap and\n",
    "return the smallest item from the heap. Also, return and pop the\n",
    "smallest item from the heap?\n",
    "Expected OutputItems in the heap-\n",
    "('VI', 1).\n",
    "('VII', 3).\n",
    "('VIII', 2).\n",
    "----------------------\n",
    "The smallest item in the heap:\n",
    "('VI', 1).\n",
    "----------------------\n",
    "Pop the smallest item in the heap:\n",
    "('VII', 2).\n",
    "('VIII', 3)"
   ]
  },
  {
   "cell_type": "code",
   "execution_count": 106,
   "metadata": {},
   "outputs": [
    {
     "name": "stdout",
     "output_type": "stream",
     "text": [
      "Items in the heap:\n",
      "('VI', 1)\n",
      "('VIII', 2)\n",
      "('VII', 3)\n",
      "----------------------\n",
      "The smallest item in the heap:\n",
      "('VI', 1)\n",
      "----------------------\n",
      "Pop the smallest item in the heap:\n",
      "('VII', 3)\n",
      "('VIII', 2)\n"
     ]
    }
   ],
   "source": [
    "import heapq\n",
    "heap = []\n",
    "heapq.heappush(heap, ('VII', 3))\n",
    "heapq.heappush(heap, ('VIII', 2))\n",
    "heapq.heappush(heap, ('VI', 1))\n",
    "print(\"Items in the heap:\")\n",
    "for a in heap:\n",
    "    print(a)\n",
    "print(\"----------------------\")\n",
    "print(\"The smallest item in the heap:\")\n",
    "print(heap[0])\n",
    "print(\"----------------------\")\n",
    "print(\"Pop the smallest item in the heap:\")\n",
    "heapq.heappop(heap)\n",
    "for a in heap:\n",
    "    print(a)"
   ]
  },
  {
   "cell_type": "markdown",
   "metadata": {},
   "source": [
    "Q45. Write the Python program to locate the left insertion point for a\n",
    "specified value in sorted order?\n",
    "Expected Output:\n",
    "4 2"
   ]
  },
  {
   "cell_type": "code",
   "execution_count": 107,
   "metadata": {},
   "outputs": [
    {
     "name": "stdout",
     "output_type": "stream",
     "text": [
      "4\n",
      "2\n"
     ]
    }
   ],
   "source": [
    "import bisect\n",
    "def index(a, x):\n",
    " i = bisect.bisect_left(a, x)\n",
    " return i\n",
    "\n",
    "a = [1,2,4,5]\n",
    "print(index(a, 6))\n",
    "print(index(a, 3))"
   ]
  },
  {
   "cell_type": "markdown",
   "metadata": {},
   "source": [
    "Q46. Write the Python program to create the FIFO queue?\n",
    "Expected Output:\n",
    "0 1 2 3"
   ]
  },
  {
   "cell_type": "code",
   "execution_count": 108,
   "metadata": {},
   "outputs": [
    {
     "name": "stdout",
     "output_type": "stream",
     "text": [
      "0 1 2 3 \n",
      "\n"
     ]
    }
   ],
   "source": [
    "import queue\n",
    "q = queue.Queue()\n",
    "\n",
    "for x in range(4):\n",
    "    q.put(str(x))\n",
    "\n",
    "while not q.empty():\n",
    "    print(q.get(), end=\" \")\n",
    "print(\"\\n\")"
   ]
  },
  {
   "cell_type": "code",
   "execution_count": null,
   "metadata": {},
   "outputs": [],
   "source": [
    "Q47. Write the Python program to calculate the harmonic sum of n-1.\n",
    "Note: The harmonic sum is the sum of reciprocals of the positive\n",
    "Integers?\n",
    "Example"
   ]
  },
  {
   "cell_type": "code",
   "execution_count": 112,
   "metadata": {},
   "outputs": [
    {
     "data": {
      "text/plain": [
       "1.8333333333333333"
      ]
     },
     "execution_count": 112,
     "metadata": {},
     "output_type": "execute_result"
    }
   ],
   "source": [
    "def harmonicSum(num):\n",
    "    sum = 0\n",
    "    if num==1:\n",
    "        return 1\n",
    "    else:\n",
    "        for i in range(1,num):\n",
    "            sum = sum+ (1/i) \n",
    "            \n",
    "        return sum\n",
    "    \n",
    "harmonicSum(4)"
   ]
  },
  {
   "cell_type": "markdown",
   "metadata": {},
   "source": [
    "Q48. Write the NumPy program to create a 2d array with 6 on the border\n",
    "and 0 inside?\n",
    "Expected OutputOriginal array-\n",
    "[ [6 6 6 6 6]\n",
    "[ 6 6 6 6 6]\n",
    "[ 6 6 6 6 6 ]\n",
    "[ 6 6 6 6 6 ]\n",
    "[ 6 6 6 6 ] ].\n",
    "6 on the border and 0 inside in the array-\n",
    "[[ 6 6 6 6 6]\n",
    "[ 6 0 0 0 6]\n",
    "[ 6 0 0 0 6]\n",
    "[ 6 0 0 0 6]\n",
    "[ 6 6 6 6 6]]."
   ]
  },
  {
   "cell_type": "code",
   "execution_count": 121,
   "metadata": {},
   "outputs": [
    {
     "name": "stdout",
     "output_type": "stream",
     "text": [
      "[[6 6 6 6 6]\n",
      " [6 0 0 0 6]\n",
      " [6 0 0 0 6]\n",
      " [6 0 0 0 6]\n",
      " [6 6 6 6 6]]\n"
     ]
    }
   ],
   "source": [
    "import numpy as np\n",
    "\n",
    "x = np.ones((5,5),dtype='int16')*6\n",
    "\n",
    "for i in range(5):\n",
    "    for j in range(5):\n",
    "        if((i>0 and i<4) and (j>0 and j<4)):\n",
    "            x[i][j]=int(0)\n",
    "        else:\n",
    "            x[i][j]=int(6)\n",
    "print(x)\n",
    "        "
   ]
  },
  {
   "cell_type": "markdown",
   "metadata": {},
   "source": [
    "Q49. Write the NumPy program to create a 8x8 matrix and fill it with the\n",
    "checkerboard pattern?\n",
    "Checkerboard pattern-\n",
    "[[3 9 3 9 3 9 3 9]\n",
    "[9 3 9 3 9 3 9 3]\n",
    "[3 9 3 9 3 9 3 9]\n",
    "[9 3 9 3 9 3 9 3]\n",
    "[3 9 3 9 3 9 3 9]\n",
    "[9 3 9 3 9 3 9 3]\n",
    "[3 9 3 9 3 9 3 9]\n",
    "[9 3 9 3 9 3 9 3]]."
   ]
  },
  {
   "cell_type": "code",
   "execution_count": 132,
   "metadata": {},
   "outputs": [
    {
     "name": "stdout",
     "output_type": "stream",
     "text": [
      "[[3 9 3 9 3 9 3 9]\n",
      " [9 3 9 3 9 3 9 3]\n",
      " [3 9 3 9 3 9 3 9]\n",
      " [9 3 9 3 9 3 9 3]\n",
      " [3 9 3 9 3 9 3 9]\n",
      " [9 3 9 3 9 3 9 3]\n",
      " [3 9 3 9 3 9 3 9]\n",
      " [9 3 9 3 9 3 9 3]]\n"
     ]
    }
   ],
   "source": [
    "import numpy as np\n",
    "\n",
    "x = np.ones((8,8),dtype='int16')\n",
    "\n",
    "\n",
    "for i in range(8):\n",
    "    for j in range(8):\n",
    "        if((i%2==0) and (j%2==0)):\n",
    "            x[i][j]=3\n",
    "        else:\n",
    "            x[i][j]=9\n",
    "        if((i%2!=0) and (j%2!=0)):\n",
    "            x[i][j]=3\n",
    "            \n",
    "print(x)           "
   ]
  },
  {
   "cell_type": "markdown",
   "metadata": {},
   "source": [
    "Q50. Write the NumPy program to create an empty and a full array.\n",
    "Expected Output-\n",
    "[[4.45057637e-308 1.78021527e-306 8.45549797e-307 1.37962049e-306]\n",
    "[1.11260619e-306 1.78010255e-306 9.79054228e-307 4.45057637e-308]\n",
    "[8.45596650e-307 9.34602321e-307 4.94065646e-322 0.00000000e+000]]\n",
    "[[6 6 6]\n",
    "[6 6 6]\n",
    "[6 6 6]]"
   ]
  },
  {
   "cell_type": "code",
   "execution_count": 133,
   "metadata": {},
   "outputs": [
    {
     "name": "stdout",
     "output_type": "stream",
     "text": [
      "[[1.15e-321 0.00e+000 0.00e+000 0.00e+000]\n",
      " [0.00e+000 0.00e+000 0.00e+000 0.00e+000]\n",
      " [0.00e+000 0.00e+000 0.00e+000 0.00e+000]]\n",
      "[[6 6 6]\n",
      " [6 6 6]\n",
      " [6 6 6]]\n"
     ]
    }
   ],
   "source": [
    "import numpy as np\n",
    "\n",
    "x = np.empty((3,4))\n",
    "print(x)\n",
    "\n",
    "y = np.full((3,3),6)\n",
    "print(y)"
   ]
  },
  {
   "cell_type": "markdown",
   "metadata": {},
   "source": [
    "Q51. Write the NumPy program to convert the values of Centigrade\n",
    "degrees into the Fahrenheit degrees and the centigrade values are\n",
    "stored in the NumPy array.\n",
    "Sample Array -[0, 12, 45.21 ,34, 99.91]\n",
    "Expected OutputValues in Fahrenheit degrees-\n",
    "[ 0. 12. 45.21 34. 99.91]\n",
    "Values in Centigrade degrees-\n",
    "[-17.77777778 -11.11111111 7.33888889 1.11111111 37.72777778]"
   ]
  },
  {
   "cell_type": "code",
   "execution_count": 135,
   "metadata": {},
   "outputs": [
    {
     "name": "stdout",
     "output_type": "stream",
     "text": [
      "[-17.77777778 -11.11111111   7.33888889   1.11111111  37.72777778]\n"
     ]
    }
   ],
   "source": [
    "import numpy as np\n",
    "\n",
    "def fToC():\n",
    "    f = [0, 12, 45.21, 34, 99.91]\n",
    "    fValues= np.array(f)\n",
    "    print((fValues-32 )* 5/9)\n",
    "\n",
    "fToC()"
   ]
  },
  {
   "cell_type": "markdown",
   "metadata": {},
   "source": [
    "Q52. Write the NumPy program to find the real and imaginary parts of an\n",
    "array of complex numbers?\n",
    "Expected OutputOriginal array [ 1.00000000+0.j 0.70710678+0.70710678j]\n",
    "Real part of the array-\n",
    "[ 1. 0.70710678]\n",
    "Imaginary part of the array-\n",
    "[ 0. 0.70710678]"
   ]
  },
  {
   "cell_type": "code",
   "execution_count": 136,
   "metadata": {},
   "outputs": [
    {
     "name": "stdout",
     "output_type": "stream",
     "text": [
      "[1.         0.70710678]\n",
      "[0.         0.70710678]\n"
     ]
    }
   ],
   "source": [
    "import numpy as np\n",
    "a=np.array([1.00000000+0j,0.70710678+0.70710678j])\n",
    "print(a.real)\n",
    "print(a.imag)"
   ]
  },
  {
   "cell_type": "markdown",
   "metadata": {},
   "source": [
    "Write the NumPy program to test whether each element of a 1-D\n",
    "array is also present in the second array?\n",
    "Expected OutputArray1: [ 0 10 20 40 60]\n",
    "Array2: [0, 40]\n",
    "Compare each element of array1 and array2\n",
    "[ True False False True False]"
   ]
  },
  {
   "cell_type": "code",
   "execution_count": 137,
   "metadata": {},
   "outputs": [
    {
     "name": "stdout",
     "output_type": "stream",
     "text": [
      "[ True False False  True False]\n"
     ]
    }
   ],
   "source": [
    "import numpy as np\n",
    "\n",
    "a1= np.array([0,10,20,40,60])\n",
    "a2= np.array([0,40])\n",
    "\n",
    "print(np.in1d(a1,a2))"
   ]
  },
  {
   "cell_type": "markdown",
   "metadata": {},
   "source": [
    "Q54. Write the NumPy program to find common values between two\n",
    "arrays?\n",
    "Expected OutputArray1: [ 0 10 20 40 60]\n",
    "Array2: [10, 30, 40]\n",
    "Common values between two arrays-\n",
    "[10 40]"
   ]
  },
  {
   "cell_type": "code",
   "execution_count": 138,
   "metadata": {},
   "outputs": [
    {
     "name": "stdout",
     "output_type": "stream",
     "text": [
      "[10 40]\n"
     ]
    }
   ],
   "source": [
    "import numpy as np\n",
    "\n",
    "a1= np.array([0,10,20,40,60])\n",
    "a2= np.array([10,30,40])\n",
    "\n",
    "print(np.intersect1d(a1,a2))"
   ]
  },
  {
   "cell_type": "markdown",
   "metadata": {},
   "source": [
    "Q55. Write the NumPy program to get the unique elements of an array?\n",
    "Expected OutputOriginal array-\n",
    "[10 10 20 20 30 30]\n",
    "Unique elements of the above array-\n",
    "[10 20 30]\n",
    "\n",
    "Original array-\n",
    "[[1 1]\n",
    "[2 3]]\n",
    "Unique elements of the above array-\n",
    "[1 2 3]"
   ]
  },
  {
   "cell_type": "code",
   "execution_count": 140,
   "metadata": {},
   "outputs": [
    {
     "name": "stdout",
     "output_type": "stream",
     "text": [
      "[10 20 30]\n",
      "[1 2 3]\n"
     ]
    }
   ],
   "source": [
    "import numpy as np\n",
    "\n",
    "a1=np.array([10,10,20,20,30,30])\n",
    "print(np.unique(a1))\n",
    "a2=np.array([[1,1],[2,3]] )\n",
    "print(np.unique(a2))"
   ]
  },
  {
   "cell_type": "markdown",
   "metadata": {},
   "source": [
    "Q56. Write the NumPy program to find the set exclusive-or of two arrays.\n",
    "Set exclusive-or will return the sorted, unique values that are in\n",
    "only one (not both) of the input arrays?\n",
    "Array1- [ 0 10 20 40 60 80]\n",
    "Array2- [10, 30, 40, 50, 70]\n",
    "Unique values that are in only one (not both) of the input arrays-\n",
    "[ 0 20 30 50 60 70 80]"
   ]
  },
  {
   "cell_type": "code",
   "execution_count": 142,
   "metadata": {},
   "outputs": [
    {
     "name": "stdout",
     "output_type": "stream",
     "text": [
      "[ 0 20 30 50 60 70 80]\n"
     ]
    }
   ],
   "source": [
    "import numpy as np\n",
    "\n",
    "Array1= [ 0, 10, 20, 40, 60, 80]\n",
    "Array2= [10, 30, 40, 50, 70]\n",
    "\n",
    "print(np.setxor1d(Array1,Array2))"
   ]
  },
  {
   "cell_type": "markdown",
   "metadata": {},
   "source": [
    "Q57. Write the NumPy program to test if all elements in an array\n",
    "evaluate to True ?\n",
    "Note: 0 evaluates to False in NumPy."
   ]
  },
  {
   "cell_type": "code",
   "execution_count": 143,
   "metadata": {},
   "outputs": [
    {
     "name": "stdout",
     "output_type": "stream",
     "text": [
      "False\n",
      "True\n"
     ]
    }
   ],
   "source": [
    "import numpy as np\n",
    "array1=np.array([0,10,20,0,60,80])\n",
    "array2=np.array([10,30,40,50,70])\n",
    "print(np.all(array1))\n",
    "print(np.all(array2))"
   ]
  },
  {
   "cell_type": "markdown",
   "metadata": {},
   "source": [
    "Q58 Write the NumPy program to test whether any array element along\n",
    "the given axis evaluates to True?"
   ]
  },
  {
   "cell_type": "code",
   "execution_count": 144,
   "metadata": {},
   "outputs": [
    {
     "name": "stdout",
     "output_type": "stream",
     "text": [
      "True\n",
      "True\n"
     ]
    }
   ],
   "source": [
    "import numpy as np\n",
    "array1=np.array([0,10,20,0,60,80])\n",
    "array2=np.array([10,30,40,50,70])\n",
    "print(np.any(array1))\n",
    "print(np.any(array2))"
   ]
  },
  {
   "cell_type": "markdown",
   "metadata": {},
   "source": [
    "Q59. Write the NumPy program to construct an array by repeating?\n",
    "Sample array- [1, 2, 3, 4]\n",
    "Expected OutputOriginal array\n",
    "[1, 2, 3, 4]\n",
    "Repeating 2 times\n",
    "[1 2 3 4 1 2 3 4]\n",
    "Repeating 3 times\n",
    "[1 2 3 4 1 2 3 4 1 2 3 4]"
   ]
  },
  {
   "cell_type": "code",
   "execution_count": 149,
   "metadata": {},
   "outputs": [
    {
     "name": "stdout",
     "output_type": "stream",
     "text": [
      "[1 2 3 4 1 2 3 4]\n",
      "[1 2 3 4 1 2 3 4 1 2 3 4]\n"
     ]
    }
   ],
   "source": [
    "import numpy as np\n",
    "array1=np.array([1,2,3,4])\n",
    "print(np.tile(array1,2))\n",
    "print(np.tile(array1,3))"
   ]
  },
  {
   "cell_type": "markdown",
   "metadata": {},
   "source": [
    "Q60. Write the NumPy program to find the indices of the maximum and\n",
    "minimum values with the given axis of an array?\n",
    "Original array- [1 2 3 4 5 6]\n",
    "Maximum Values- 5\n",
    "Minimum Values- 0"
   ]
  },
  {
   "cell_type": "code",
   "execution_count": 147,
   "metadata": {},
   "outputs": [
    {
     "name": "stdout",
     "output_type": "stream",
     "text": [
      "5\n",
      "0\n"
     ]
    }
   ],
   "source": [
    "import numpy as np\n",
    "array1=np.array([1,2,3,4,5,6])\n",
    "print(array1.argmax())\n",
    "print(array1.argmin())"
   ]
  },
  {
   "cell_type": "code",
   "execution_count": null,
   "metadata": {},
   "outputs": [],
   "source": [
    "Q61. Write the NumPy program compare two arrays using numpy?\n",
    "Array a- [1 2]\n",
    "Array b- [4 5]\n",
    "a > b\n",
    "[False False]\n",
    "a >= b\n",
    "[False False]\n",
    "a < b\n",
    "[ True True]\n",
    "a <= b\n",
    "[ True True]"
   ]
  },
  {
   "cell_type": "code",
   "execution_count": 150,
   "metadata": {},
   "outputs": [
    {
     "name": "stdout",
     "output_type": "stream",
     "text": [
      "[False False]\n",
      "[False False]\n",
      "[ True  True]\n",
      "[ True  True]\n"
     ]
    }
   ],
   "source": [
    "import numpy as np\n",
    "a=np.array([1,2])\n",
    "b=np.array([4,5])\n",
    "print(a>b)\n",
    "print(a>=b)\n",
    "print(a<b)\n",
    "print(a<=b)"
   ]
  },
  {
   "cell_type": "markdown",
   "metadata": {},
   "source": [
    "Q62. Write the NumPy program to sort an along the first, last axis of an\n",
    "array?\n",
    "Sample array- [[2,5],[4,4]]\n",
    "Expected OutputOriginal array:\n",
    "[[4 6]\n",
    "[2 1]]\n",
    "Sort along the first axis:\n",
    "[[2 1]\n",
    "[4 6]]\n",
    "Sort along the last axis-\n",
    "[[1 2]\n",
    "[4 6]]"
   ]
  },
  {
   "cell_type": "code",
   "execution_count": 151,
   "metadata": {},
   "outputs": [
    {
     "name": "stdout",
     "output_type": "stream",
     "text": [
      "Original array:\n",
      "[[4 6]\n",
      " [2 1]]\n",
      "Sort along the first axis: \n",
      "[[2 1]\n",
      " [4 6]]\n",
      "Sort along the last axis:\n",
      "[[1 2]\n",
      " [4 6]]\n"
     ]
    }
   ],
   "source": [
    "import numpy as np\n",
    "arr1=np.array([[4,6],[2,1]])\n",
    "print('Original array:')\n",
    "print(arr1)\n",
    "print('Sort along the first axis: ')\n",
    "arr1.sort(axis=0)\n",
    "print(arr1)\n",
    "print('Sort along the last axis:')\n",
    "arr1.sort(axis=1)\n",
    "print(arr1)"
   ]
  },
  {
   "cell_type": "markdown",
   "metadata": {},
   "source": [
    "Q63. Write the NumPy program to sort pairs of first name and last name\n",
    "return their indices (first by last name, then by first name).\n",
    "first_names - ( Betsey, Shelley, Lanell, Genesis, Margery )\n",
    "last_names - ( Battle, Brien, Plotner, Stahl, Woolum )\n",
    "Expected Output-\n",
    "[1 3 2 4 0]"
   ]
  },
  {
   "cell_type": "code",
   "execution_count": 152,
   "metadata": {},
   "outputs": [
    {
     "name": "stdout",
     "output_type": "stream",
     "text": [
      "[0 1 2 3 4]\n"
     ]
    }
   ],
   "source": [
    "import numpy as np\n",
    "first_names =    ('Betsey', 'Shelley', 'Lanell', 'Genesis', 'Margery')\n",
    "last_names = ('Battle', 'Brien', 'Plotner', 'Stahl', 'Woolum' )\n",
    "x = np.lexsort((first_names, last_names))\n",
    "print(x)"
   ]
  },
  {
   "cell_type": "markdown",
   "metadata": {},
   "source": [
    "Q64. Write the NumPy program to get the values and indices of the\n",
    "elements that are bigger than 10 in the given array?\n",
    "Original array-\n",
    "[[ 0 10 20]\n",
    "[20 30 40]]\n",
    "Values bigger than 10 = [20 20 30 40]\n",
    "Their indices are (array([0, 1, 1, 1]), array([2, 0, 1, 2]))"
   ]
  },
  {
   "cell_type": "code",
   "execution_count": 153,
   "metadata": {},
   "outputs": [
    {
     "name": "stdout",
     "output_type": "stream",
     "text": [
      "[20 20 30 40]\n",
      "(array([0, 1, 1, 1], dtype=int64), array([2, 0, 1, 2], dtype=int64))\n"
     ]
    }
   ],
   "source": [
    "import numpy as np\n",
    "arr=np.array([[0,10,20],[20,30,40]])\n",
    "print(arr[arr>10])\n",
    "print(np.nonzero(arr>10))"
   ]
  },
  {
   "cell_type": "markdown",
   "metadata": {},
   "source": [
    "Q65. Write the NumPy program to find the memory size of a NumPy\n",
    "array?\n",
    "Expected Output-\n",
    "128 bytes"
   ]
  },
  {
   "cell_type": "code",
   "execution_count": 154,
   "metadata": {},
   "outputs": [
    {
     "name": "stdout",
     "output_type": "stream",
     "text": [
      "128 bytes\n"
     ]
    }
   ],
   "source": [
    "import numpy as np\n",
    "arr=np.ones((4,4))\n",
    "print('%d bytes' %(arr.size*arr.itemsize))"
   ]
  },
  {
   "cell_type": "markdown",
   "metadata": {},
   "source": [
    "Q66. Write the NumPy program to create an array of ones and an array\n",
    "of zeros?\n",
    "Expected OutputCreate an array of zeros\n",
    "Default type is float\n",
    "[[ 0. 0.]]\n",
    "Type changes to int\n",
    "[[0 0]]\n",
    "Create an array of ones\n",
    "Default type is float\n",
    "[[ 1. 1.]]\n",
    "Type changes to int\n",
    "[[1 1]]"
   ]
  },
  {
   "cell_type": "code",
   "execution_count": 1,
   "metadata": {},
   "outputs": [
    {
     "name": "stdout",
     "output_type": "stream",
     "text": [
      "An array of zeros Default type is float\n",
      "[[0. 0.]]\n",
      "Type changes to int\n",
      "[[0 0]]\n",
      "An array of ones Default type is float\n",
      "[[1. 1.]]\n",
      "Type changes to int\n",
      "[[1 1]]\n"
     ]
    }
   ],
   "source": [
    "import numpy as np\n",
    "print('An array of zeros Default type is float')\n",
    "print(np.zeros((1,2)))\n",
    "print('Type changes to int')\n",
    "print(np.zeros((1,2),dtype=np.int32))\n",
    "print('An array of ones Default type is float')\n",
    "print(np.ones((1,2)))\n",
    "print('Type changes to int')\n",
    "print(np.ones((1,2),dtype=np.int32))"
   ]
  },
  {
   "cell_type": "markdown",
   "metadata": {},
   "source": [
    "Q67. Write the NumPy program to change the dimension of an array?\n",
    "Expected Output-\n",
    "6 rows and 0 columns\n",
    "(6,)\n",
    "(3, 3) -> 3 rows and 3 columns\n",
    "[[1 2 3]\n",
    "[4 5 6]\n",
    "[7 8 9]]\n",
    "Change array shape to (3, 3) -> 3 rows and 3 columns\n",
    "[[1 2 3]\n",
    "[4 5 6]\n",
    "[7 8 9]]"
   ]
  },
  {
   "cell_type": "code",
   "execution_count": 3,
   "metadata": {},
   "outputs": [
    {
     "name": "stdout",
     "output_type": "stream",
     "text": [
      "[1 2 3 4 5 6]\n",
      "(6,)\n",
      "[1 2 3 4 5 6 7 8 9]\n",
      "(9,)\n",
      "[[1 2 3]\n",
      " [4 5 6]\n",
      " [7 8 9]]\n",
      "(3, 3)\n"
     ]
    }
   ],
   "source": [
    "import numpy as np\n",
    "ar1=np.array([1,2,3,4,5,6])\n",
    "print(ar1)\n",
    "print(ar1.shape)\n",
    "ar2=np.array([1,2,3,4,5,6,7,8,9])\n",
    "print(ar2)\n",
    "print(ar2.shape)\n",
    "ar3=np.resize(ar2,(3,3))\n",
    "print(ar3)\n",
    "print(ar3.shape)"
   ]
  },
  {
   "cell_type": "markdown",
   "metadata": {},
   "source": [
    "Q68. Write the NumPy program to create a new shape to an array\n",
    "without changing its data ?\n",
    "Reshape 3x2-\n",
    "[[1 2]\n",
    "[3 4]\n",
    "[5 6]]\n",
    "Reshape 2x3-\n",
    "[[1 2 3]\n",
    "[4 5 6]]"
   ]
  },
  {
   "cell_type": "code",
   "execution_count": 4,
   "metadata": {},
   "outputs": [
    {
     "name": "stdout",
     "output_type": "stream",
     "text": [
      "[[1 2 3]\n",
      " [4 5 6]]\n"
     ]
    }
   ],
   "source": [
    "import numpy as np\n",
    "arr1=np.array([[1,2],[3,4],[5,6]])\n",
    "print(np.reshape(arr1,(2,3)))"
   ]
  },
  {
   "cell_type": "markdown",
   "metadata": {},
   "source": [
    "Q69. Write the NumPy program to create a new array of 3*5, filled with\n",
    "2?\n",
    "Expected Output-\n",
    "[[2 2 2 2 2]\n",
    "[2 2 2 2 2]\n",
    "[2 2 2 2 2]]\n",
    "[[2 2 2 2 2]\n",
    "[2 2 2 2 2]\n",
    "[2 2 2 2 2]]"
   ]
  },
  {
   "cell_type": "code",
   "execution_count": 7,
   "metadata": {},
   "outputs": [
    {
     "name": "stdout",
     "output_type": "stream",
     "text": [
      "[[2 2 2 2 2 2 2 2 2 2]\n",
      " [2 2 2 2 2 2 2 2 2 2]\n",
      " [2 2 2 2 2 2 2 2 2 2]]\n",
      "[[2 2 2 2 2 2 2 2 2 2]\n",
      " [2 2 2 2 2 2 2 2 2 2]\n",
      " [2 2 2 2 2 2 2 2 2 2]]\n"
     ]
    }
   ],
   "source": [
    "import numpy as np\n",
    "arr=np.ones((3,5),dtype='int16')*2\n",
    "print(np.tile(arr,2))\n",
    "print(np.tile(arr,2))"
   ]
  },
  {
   "cell_type": "markdown",
   "metadata": {},
   "source": [
    "Q70. Write the NumPy program to create a 3-D array with ones on a\n",
    "diagonal and zeros elsewhere?\n",
    "Expected Output-\n",
    "[[ 1. 0. 0.]\n",
    "[ 0. 1. 0.]\n",
    "[ 0. 0. 1.]]"
   ]
  },
  {
   "cell_type": "code",
   "execution_count": 9,
   "metadata": {},
   "outputs": [
    {
     "name": "stdout",
     "output_type": "stream",
     "text": [
      "[[1. 0. 0.]\n",
      " [0. 1. 0.]\n",
      " [0. 0. 1.]]\n"
     ]
    }
   ],
   "source": [
    "import numpy as np\n",
    "arr=np.eye(3)\n",
    "print(arr)"
   ]
  },
  {
   "cell_type": "markdown",
   "metadata": {},
   "source": [
    "Q71. Write the NumPy program to split an array of 14 elements into the\n",
    "3 arrays and each of which has 2, 4, and 8 elements in original\n",
    "order?\n",
    "Expected OutputOriginal array- [ 1 2 3 4 5 6 7 8 9 10 11 12 13 14]\n",
    "After splitting-\n",
    "[array([1, 2]), array([3, 4, 5, 6]), array([ 7, 8, 9, 10, 11, 12, 13, 14])]"
   ]
  },
  {
   "cell_type": "code",
   "execution_count": 10,
   "metadata": {},
   "outputs": [
    {
     "name": "stdout",
     "output_type": "stream",
     "text": [
      "Original array- [ 1  2  3  4  5  6  7  8  9 10 11 12 13 14]\n",
      "After splitting- [array([1, 2], dtype=int8), array([3, 4, 5, 6], dtype=int8), array([ 7,  8,  9, 10, 11, 12, 13, 14], dtype=int8)]\n"
     ]
    }
   ],
   "source": [
    "import numpy as np\n",
    "arr=np.array([ 1,2,3,4,5,6,7,8,9,10,11,12,13,14],dtype=np.int8)\n",
    "print('Original array- ',end='')\n",
    "print(arr)\n",
    "print('After splitting- ',end='')\n",
    "print(np.split(arr,[2,6]))"
   ]
  },
  {
   "cell_type": "markdown",
   "metadata": {},
   "source": [
    "Q72. Write the NumPy program to split of an array of shape 4x4 it into\n",
    "two arrays along the second axis ?\n",
    "Sample array -\n",
    "[[ 0 1 2 3]\n",
    "[ 4 5 6 7]\n",
    "[ 8 9 10 11]\n",
    "[12 13 14 15]]\n",
    "Expected Output\n",
    "[array([[ 0, 1],\n",
    "[ 4, 5],\n",
    "[ 8, 9],\n",
    "[12, 13]]), array([[ 2, 3],\n",
    "[ 6, 7],\n",
    "[10, 11],\n",
    "[14, 15]]), array([], shape=(4, 0), dtype=int64)]"
   ]
  },
  {
   "cell_type": "code",
   "execution_count": 11,
   "metadata": {},
   "outputs": [
    {
     "name": "stdout",
     "output_type": "stream",
     "text": [
      "[array([[ 0,  1],\n",
      "       [ 4,  5],\n",
      "       [ 8,  9],\n",
      "       [12, 13]]), array([[ 2,  3],\n",
      "       [ 6,  7],\n",
      "       [10, 11],\n",
      "       [14, 15]]), array([], shape=(4, 0), dtype=int32)]\n"
     ]
    }
   ],
   "source": [
    "import numpy as np\n",
    "arr=np.arange(16).reshape(4,4)\n",
    "print(np.hsplit(arr,[2,6]))"
   ]
  },
  {
   "cell_type": "markdown",
   "metadata": {},
   "source": [
    "Q73. Write the NumPy program to create a 5x5 matrix with row values\n",
    "ranging from 0 to 4?\n",
    "Original array-\n",
    "[[ 0. 0. 0. 0. 0.]\n",
    "[ 0. 0. 0. 0. 0.]\n",
    "[ 0. 0. 0. 0. 0.]\n",
    "[ 0. 0. 0. 0. 0.]\n",
    "[ 0. 0. 0. 0. 0.]]\n",
    "Row values ranging from 0 to 4.\n",
    "[[ 0. 1. 2. 3. 4.]\n",
    "[ 0. 1. 2. 3. 4.]\n",
    "[ 0. 1. 2. 3. 4.]\n",
    "[ 0. 1. 2. 3. 4.]\n",
    "[ 0. 1. 2. 3. 4.]]"
   ]
  },
  {
   "cell_type": "code",
   "execution_count": 15,
   "metadata": {},
   "outputs": [
    {
     "name": "stdout",
     "output_type": "stream",
     "text": [
      "Original array- \n",
      "[[0. 0. 0. 0. 0.]\n",
      " [0. 0. 0. 0. 0.]\n",
      " [0. 0. 0. 0. 0.]\n",
      " [0. 0. 0. 0. 0.]\n",
      " [0. 0. 0. 0. 0.]]\n",
      "Row values ranging from 0 to 4.\n",
      "[[0. 1. 2. 3. 4.]\n",
      " [0. 1. 2. 3. 4.]\n",
      " [0. 1. 2. 3. 4.]\n",
      " [0. 1. 2. 3. 4.]\n",
      " [0. 1. 2. 3. 4.]]\n"
     ]
    }
   ],
   "source": [
    "import numpy as np\n",
    "arr=np.zeros((5,5))\n",
    "print('Original array- ')\n",
    "print(arr)\n",
    "print('Row values ranging from 0 to 4.')\n",
    "print(arr+np.arange(5))"
   ]
  },
  {
   "cell_type": "markdown",
   "metadata": {},
   "source": [
    "Q74. Write the NumPy program to create an array of zeros and three\n",
    "column types (integer, float, character)?\n",
    "Expected Output-\n",
    "[(1, 2., b'Albert Einstein') (2, 2., b'Edmond Halley')\n",
    "(3, 3., b'Gertrude B. Elion')]"
   ]
  },
  {
   "cell_type": "code",
   "execution_count": 16,
   "metadata": {},
   "outputs": [
    {
     "name": "stdout",
     "output_type": "stream",
     "text": [
      "[(1, 2., b'Albert Einstein') (2, 2., b'Edmond Halley')\n",
      " (3, 3., b'Gertrude B. Elion')]\n"
     ]
    }
   ],
   "source": [
    "import numpy as np\n",
    "x = np.zeros((3,), dtype=('i2,f2,a25'))\n",
    "new_data = [(1, 2., \"Albert Einstein\"), (2, 2., \"Edmond Halley\"), (3, 3., \"Gertrude B. Elion\")]\n",
    "x[:] = new_data\n",
    "print(x)"
   ]
  },
  {
   "cell_type": "markdown",
   "metadata": {},
   "source": [
    "Q75. Write the NumPy program to remove the negative values in the\n",
    "numpy array with 0?\n",
    "Expected OutputOriginal array:\n",
    "[-1 -4 0 2 3 4 5 -6]\n",
    "Replace the negative values of the said array with 0-\n",
    "[0 0 0 2 3 4 5 0]"
   ]
  },
  {
   "cell_type": "code",
   "execution_count": 17,
   "metadata": {},
   "outputs": [
    {
     "data": {
      "text/plain": [
       "array([0, 0, 0, 2, 3, 4, 5, 0])"
      ]
     },
     "execution_count": 17,
     "metadata": {},
     "output_type": "execute_result"
    }
   ],
   "source": [
    "import numpy as np\n",
    "arr=np.array([-1,-4,0,2,3,4,5,-6])\n",
    "arr[arr<0]=0\n",
    "arr"
   ]
  },
  {
   "cell_type": "markdown",
   "metadata": {},
   "source": [
    "Q76. Write the NumPy program to compute the histogram of a set of\n",
    "data?"
   ]
  },
  {
   "cell_type": "code",
   "execution_count": 18,
   "metadata": {},
   "outputs": [
    {
     "data": {
      "text/plain": [
       "(array([0., 2., 1., 0., 0.]),\n",
       " array([0, 1, 2, 3, 4, 5]),\n",
       " <a list of 5 Patch objects>)"
      ]
     },
     "execution_count": 18,
     "metadata": {},
     "output_type": "execute_result"
    },
    {
     "data": {
      "image/png": "[encoded data removed]",
      "text/plain": [
       "<Figure size 432x288 with 1 Axes>"
      ]
     },
     "metadata": {
      "needs_background": "light"
     },
     "output_type": "display_data"
    }
   ],
   "source": [
    "import numpy as np\n",
    "import matplotlib.pyplot as plt\n",
    "%matplotlib inline\n",
    "plt.hist([1,2,1],[0,1,2,3,4,5])"
   ]
  },
  {
   "cell_type": "markdown",
   "metadata": {},
   "source": [
    "Q77. Write the NumPy program to compute the line graph of a set of\n",
    "data?"
   ]
  },
  {
   "cell_type": "code",
   "execution_count": 19,
   "metadata": {},
   "outputs": [
    {
     "data": {
      "text/plain": [
       "[<matplotlib.lines.Line2D at 0x8024788>]"
      ]
     },
     "execution_count": 19,
     "metadata": {},
     "output_type": "execute_result"
    },
    {
     "data": {
      "image/png": "[encoded data removed]",
      "text/plain": [
       "<Figure size 432x288 with 1 Axes>"
      ]
     },
     "metadata": {
      "needs_background": "light"
     },
     "output_type": "display_data"
    }
   ],
   "source": [
    "import numpy as np\n",
    "import matplotlib.pyplot as plt\n",
    "%matplotlib inline\n",
    "y,x=np.histogram(np.random.randint(1,50,10),np.arange(50))\n",
    "plt.plot(x[:-1],y)"
   ]
  },
  {
   "cell_type": "markdown",
   "metadata": {},
   "source": [
    "Q78. Write the NumPy program to extracts all the elements from second\n",
    "row from given (4x4) array?\n",
    "Sample OutputOriginal array-\n",
    "[[ 0 1 2 3]\n",
    "[ 4 5 6 7]\n",
    "[ 8 9 10 11]\n",
    "[12 13 14 15]]\n",
    "Extracted data- Second row\n",
    "[4 5 6 7]"
   ]
  },
  {
   "cell_type": "code",
   "execution_count": 21,
   "metadata": {},
   "outputs": [
    {
     "name": "stdout",
     "output_type": "stream",
     "text": [
      "Original array-[[ 0  1  2  3]\n",
      " [ 4  5  6  7]\n",
      " [ 8  9 10 11]\n",
      " [12 13 14 15]]\n",
      "Extracted data- Second row [4 5 6 7]\n"
     ]
    }
   ],
   "source": [
    "import numpy as np\n",
    "arr=np.array(np.arange(16)).reshape(4,4)\n",
    "print('Original array-',end='') \n",
    "print(arr)\n",
    "print('Extracted data- Second row ',end='') \n",
    "print((arr[1]))"
   ]
  },
  {
   "cell_type": "markdown",
   "metadata": {},
   "source": [
    "Q79. Write the NumPy program to extract first element of the second\n",
    "row and fourth element of fourth row from a given (4x4) array?\n",
    "Sample OutputOriginal array-\n",
    "[[ 0 1 2 3]\n",
    "[ 4 5 6 7]\n",
    "[ 8 9 10 11]\n",
    "[12 13 14 15]]\n",
    "Extracted data- First element of the second row and fourth element of fourth row\n",
    "[ 4 15]"
   ]
  },
  {
   "cell_type": "code",
   "execution_count": 22,
   "metadata": {},
   "outputs": [
    {
     "name": "stdout",
     "output_type": "stream",
     "text": [
      "Original array-[[ 0  1  2  3]\n",
      " [ 4  5  6  7]\n",
      " [ 8  9 10 11]\n",
      " [12 13 14 15]]\n",
      "First element of the second row and fourth element of fourth row [ 4 15]\n"
     ]
    }
   ],
   "source": [
    "import numpy as np\n",
    "arr=np.array(np.arange(16)).reshape(4,4)\n",
    "print('Original array-',end='') \n",
    "print(arr)\n",
    "print('First element of the second row and fourth element of fourth row ',end='')\n",
    "print(arr[[1,3],[0,3]])"
   ]
  },
  {
   "cell_type": "code",
   "execution_count": null,
   "metadata": {},
   "outputs": [],
   "source": [
    "Q80. Write the NumPy program to add two arrays A and B of sizes (3,3)\n",
    "and (,3)?\n",
    "Sample OutputOriginal arrayArray-1\n",
    "[[1 1 1]\n",
    "[1 1 1]\n",
    "[1 1 1]]\n",
    "Array-2\n",
    "[0 1 2]\n",
    "A + B:\n",
    "[[1 2 3]\n",
    " [1 2 3]\n",
    "[1 2 3]]"
   ]
  },
  {
   "cell_type": "code",
   "execution_count": 23,
   "metadata": {},
   "outputs": [
    {
     "name": "stdout",
     "output_type": "stream",
     "text": [
      "Array-1[[1 1 1]\n",
      " [1 1 1]\n",
      " [1 1 1]]\n",
      "Array-2[0 1 2]\n",
      "A + B:[[1 2 3]\n",
      " [1 2 3]\n",
      " [1 2 3]]\n"
     ]
    }
   ],
   "source": [
    "import numpy as np\n",
    "array1=np.ones((3,3),dtype=np.int16)\n",
    "array2=np.array(np.arange(3),dtype=np.int16)\n",
    "print('Array-1',end='')\n",
    "print(array1)\n",
    "print('Array-2',end='')\n",
    "print(array2)\n",
    "print('A + B:',end='')\n",
    "print(array1+array2)"
   ]
  },
  {
   "cell_type": "markdown",
   "metadata": {},
   "source": [
    "Q81. Write the NumPy program to copy data from a given array to\n",
    "another array?\n",
    "Sample OutputOriginal array-\n",
    "[24 27 30 29 18 14]\n",
    "Copy of the said array-\n",
    "[24 27 30 29 18 14]"
   ]
  },
  {
   "cell_type": "code",
   "execution_count": 24,
   "metadata": {},
   "outputs": [
    {
     "name": "stdout",
     "output_type": "stream",
     "text": [
      "Original array- [24 27 30 29 18 14]\n",
      "Copy of the said array- [24 27 30 29 18 14]\n"
     ]
    }
   ],
   "source": [
    "import numpy as np\n",
    "array1=np.array([24,27,30,29,18,14])\n",
    "array2=np.copy(array1)\n",
    "print('Original array- ',end='')\n",
    "print(array1)\n",
    "print('Copy of the said array- ',end='')\n",
    "print(array2)"
   ]
  },
  {
   "cell_type": "markdown",
   "metadata": {},
   "source": [
    "Q82. Write the NumPy program to calculate the sum of all columns of\n",
    "the 2D numpy array?\n",
    "Sample OutputOriginal array-\n",
    "[[ 0 1 2 3 4 5 6 7 8]\n",
    "[ 9 10 11 12 13 14 15 16 17]\n",
    "[18 19 20 21 22 23 24 25 26]\n",
    "[27 28 29 30 31 32 33 34 35]]\n",
    "Sum of all columns-\n",
    "[54 58 62 66 70 74 78 82 86]"
   ]
  },
  {
   "cell_type": "code",
   "execution_count": 25,
   "metadata": {},
   "outputs": [
    {
     "name": "stdout",
     "output_type": "stream",
     "text": [
      "Sample Output- Original array-\n",
      "[[ 0  1  2  3  4  5  6  7  8]\n",
      " [ 9 10 11 12 13 14 15 16 17]\n",
      " [18 19 20 21 22 23 24 25 26]\n",
      " [27 28 29 30 31 32 33 34 35]]\n",
      "Sum of all columns-\n",
      "[54 58 62 66 70 74 78 82 86]\n"
     ]
    }
   ],
   "source": [
    "import numpy as np\n",
    "array1=np.array(np.arange(36),dtype=np.int).reshape(4,9)\n",
    "print('Sample Output- Original array-')\n",
    "print(array1)\n",
    "print('Sum of all columns-')\n",
    "print(np.sum(array1,axis=0))"
   ]
  },
  {
   "cell_type": "markdown",
   "metadata": {},
   "source": [
    "Q83. Write the NumPy program to calculate averages without NaNs\n",
    "along the given array?\n",
    "Sample OutputOriginal array-\n",
    "[[10. 20. 30.]\n",
    "[40. 50. nan]\n",
    "[nan 6. nan]\n",
    "[nan nan nan]]\n",
    "Averages without NaNs along the said array-\n",
    "[20. 45. 6. nan]"
   ]
  },
  {
   "cell_type": "code",
   "execution_count": 27,
   "metadata": {},
   "outputs": [
    {
     "name": "stdout",
     "output_type": "stream",
     "text": [
      "Sample Output- Original array- [[10. 20. 30.]\n",
      " [40. 50. nan]\n",
      " [nan  6. nan]\n",
      " [nan nan nan]]\n",
      "Averages without NaNs along the said array- [20.0 30.0 2.0 0.0]\n"
     ]
    }
   ],
   "source": [
    "import numpy as np\n",
    "array1=np.array([[10.,20.,30.],[40.,50.,np.nan],[np.nan,6.,np.nan],[np.nan,np.nan,np.nan]])\n",
    "print('Sample Output- Original array- ',end='')\n",
    "print(array1)\n",
    "array1[np.isnan(array1)]=0\n",
    "np.mean(array1,axis=1)\n",
    "temp=np.ma.masked_array(array1,np.isnan(array1))\n",
    "m_result = np.mean(temp, axis=1)\n",
    "print('Averages without NaNs along the said array- ',end='')\n",
    "print(m_result)"
   ]
  },
  {
   "cell_type": "markdown",
   "metadata": {},
   "source": [
    "Q84. Create two arrays of six elements. Write the NumPy program to\n",
    "count the number of instances of a value occurring in one array on\n",
    "the condition of another array.\n",
    "Sample OutputOriginal arrays-\n",
    "[ 10 -10 10 -10 -10 10]\n",
    "[0.85 0.45 0.9 0.8 0.12 0.6 ]\n",
    "Number of instances of a value occurring in one array on the condition of another\n",
    "array: 3"
   ]
  },
  {
   "cell_type": "code",
   "execution_count": 30,
   "metadata": {},
   "outputs": [
    {
     "name": "stdout",
     "output_type": "stream",
     "text": [
      "Original arrays:\n",
      "[ 10 -10  10 -10 -10  10]\n",
      "[0.85 0.45 0.9  0.8  0.12 0.6 ]\n",
      "Number of instances of a value occurring in one array on the condition of another array:\n",
      "3\n"
     ]
    }
   ],
   "source": [
    "import numpy as np\n",
    "x = np.array([10,-10,10,-10,-10,10])\n",
    "y = np.array([.85,.45,.9,.8,.12,.6])\n",
    "print(\"Original arrays:\")\n",
    "print(x)\n",
    "print(y)\n",
    "result = np.sum((x == 10) & (y > .5))\n",
    "print(\"Number of instances of a value occurring in one array on the condition of another array:\")\n",
    "print(result)"
   ]
  },
  {
   "cell_type": "markdown",
   "metadata": {},
   "source": [
    "Q85. Write the NumPy program to convert a Python dictionary to a\n",
    "Numpy ndarray ?\n",
    "Original dictionary-\n",
    "{'column0': {'a': 1, 'b': 0.0, 'c': 0.0, 'd': 2.0},\n",
    "'column1': {'a': 3.0, 'b': 1, 'c': 0.0, 'd': -1.0},\n",
    "'column2': {'a': 4, 'b': 1, 'c': 5.0, 'd': -1.0},\n",
    "'column3': {'a': 3.0, 'b': -1.0, 'c': -1.0, 'd': -1.0}}\n",
    "Type: <class 'dict'>\n",
    "ndarray-\n",
    "[[ 1. 0. 0. 2.]\n",
    "[ 3. 1. 0. -1.]\n",
    "[ 4. 1. 5. -1.]\n",
    "[ 3. -1. -1. -1.]]\n",
    "Type: <class 'numpy.ndarray'>"
   ]
  },
  {
   "cell_type": "code",
   "execution_count": 31,
   "metadata": {},
   "outputs": [
    {
     "name": "stdout",
     "output_type": "stream",
     "text": [
      "Original dictionary-\n",
      "<class 'dict'>\n",
      "[[ 1.  0.  0.  2.]\n",
      " [ 3.  1.  0. -1.]\n",
      " [ 4.  1.  5. -1.]\n",
      " [ 3. -1. -1. -1.]]\n",
      "<class 'numpy.ndarray'>\n"
     ]
    }
   ],
   "source": [
    "import numpy as p\n",
    "dt={'column0': {'a': 1, 'b': 0.0, 'c': 0.0, 'd': 2.0},\n",
    "'column1': {'a': 3.0, 'b': 1, 'c': 0.0, 'd': -1.0},\n",
    "'column2': {'a': 4, 'b': 1, 'c': 5.0, 'd': -1.0},\n",
    "'column3': {'a': 3.0, 'b': -1.0, 'c': -1.0, 'd': -1.0}}\n",
    "print('Original dictionary-')\n",
    "print(type(dt))\n",
    "dt_updated=np.array([[v1 for k1,v1 in v.items()] for k,v in dt.items()])\n",
    "print(dt_updated)\n",
    "print(type(dt_updated))"
   ]
  },
  {
   "cell_type": "markdown",
   "metadata": {},
   "source": [
    "Q86. Write the Numpy program to find and store the non-zero unique\n",
    "rows in an array after comparing each row with other row in the\n",
    "given matrix?\n",
    "Original array-\n",
    "[[ 1 1 0]\n",
    "[ 0 0 0]\n",
    "[ 0 2 3]\n",
    "[ 0 0 0]\n",
    "[ 0 -1 1]\n",
    "[ 0 0 0]]\n",
    "Non-zero unique rows-\n",
    "[[ 1 1 0]\n",
    "[ 0 2 3]\n",
    "[ 0 -1 1]]"
   ]
  },
  {
   "cell_type": "code",
   "execution_count": 32,
   "metadata": {},
   "outputs": [
    {
     "name": "stdout",
     "output_type": "stream",
     "text": [
      "Original array- [[ 1  1  0]\n",
      " [ 0  0  0]\n",
      " [ 0  2  3]\n",
      " [ 0  0  0]\n",
      " [ 0 -1  1]\n",
      " [ 0  0  0]]\n",
      "Non-zero unique rows- [[ 0 -1  1]\n",
      " [ 0  2  3]\n",
      " [ 1  1  0]]\n"
     ]
    }
   ],
   "source": [
    "import numpy as np\n",
    "l=list()\n",
    "array1=np.array([[1,1,0],[0,0,0],[0,2,3],[0,0,0],[0,-1,1],[0,0,0]])\n",
    "print('Original array- ',end='')\n",
    "print(array1)\n",
    "array_u=np.unique(array1,axis=0)\n",
    "for r in array_u:\n",
    "    if(list(r)!=[0, 0, 0]):\n",
    "        l.append(list(r))\n",
    "print('Non-zero unique rows- ',end='')\n",
    "print(np.array(l))"
   ]
  },
  {
   "cell_type": "markdown",
   "metadata": {},
   "source": [
    "Q87. Write the NumPy program to multiply the matrix by another matrix\n",
    "of complex numbers and create a new matrix of complex\n",
    "numbers?\n",
    "Sample outputFirst array-\n",
    "[ 1.+2.j 3.+4.j]\n",
    "Second array-\n",
    "[ 5.+6.j 7.+8.j]\n",
    "Product of above two arrays-\n",
    "(70-8j)"
   ]
  },
  {
   "cell_type": "code",
   "execution_count": 34,
   "metadata": {},
   "outputs": [
    {
     "name": "stdout",
     "output_type": "stream",
     "text": [
      "First array-\n",
      "[1.+2.j 3.+4.j]\n",
      "Second array-\n",
      "[5.+6.j 7.+8.j]\n",
      "Product of above two arrays- (70-8j)\n"
     ]
    }
   ],
   "source": [
    "import numpy as np\n",
    "arr1=np.array([1.+2.j,3.+4.j])\n",
    "print('First array-')\n",
    "print(arr1)\n",
    "arr2=np.array([5.+6.j,7.+8.j])\n",
    "print('Second array-')\n",
    "print(arr2)\n",
    "print('Product of above two arrays- ',end='')\n",
    "print(np.vdot(arr1,arr2))"
   ]
  },
  {
   "cell_type": "markdown",
   "metadata": {},
   "source": [
    "Q88. Write a NumPy program to generate the matrix product of two\n",
    "Arrays?\n",
    "Sample OutputMatrices and vectors.\n",
    "x-\n",
    "[[1, 0], [1, 1]]\n",
    "y-\n",
    "[[3, 1], [2, 2]]\n",
    "Matrix product of above two arrays-\n",
    "[[3 1]\n",
    "[5 3]]"
   ]
  },
  {
   "cell_type": "code",
   "execution_count": 35,
   "metadata": {},
   "outputs": [
    {
     "name": "stdout",
     "output_type": "stream",
     "text": [
      "Sample Output- Matrices and vectors. x-\n",
      "[[1 0]\n",
      " [1 1]]\n",
      "y-\n",
      "[[3 1]\n",
      " [2 2]]\n",
      "Matrix product of above two arrays-\n",
      "[[3 1]\n",
      " [5 3]]\n"
     ]
    }
   ],
   "source": [
    "import numpy as np\n",
    "x=np.array([[1, 0], [1, 1]])\n",
    "print('Sample Output- Matrices and vectors. x-')\n",
    "print(x)\n",
    "y=np.array([[3, 1], [2, 2]])\n",
    "print('y-')\n",
    "print(y)\n",
    "print('Matrix product of above two arrays-')\n",
    "print(np.matmul(x,y))"
   ]
  },
  {
   "cell_type": "markdown",
   "metadata": {},
   "source": [
    "Q89. Write the NumPy program to find roots of the following\n",
    "Polynomials?\n",
    "a) (x2 - 4x + 7)\n",
    "b) x4 - 11x3 + 9x2 + 11x ? 10\n",
    "Sample outputRoots of the first polynomial-\n",
    "[ 1. 1.]\n",
    "Roots of the second polynomial-\n",
    "[ 11.04461946+0.j -0.87114210+0.j 0.91326132+0.4531004j\n",
    "0.91326132-0.4531004j ]"
   ]
  },
  {
   "cell_type": "code",
   "execution_count": 36,
   "metadata": {},
   "outputs": [
    {
     "name": "stdout",
     "output_type": "stream",
     "text": [
      "Roots of the first polynomial- Roots of the second polynomial- "
     ]
    },
    {
     "data": {
      "text/plain": [
       "array([10.+0.0000000e+00j, -1.+0.0000000e+00j,  1.+9.6357437e-09j,\n",
       "        1.-9.6357437e-09j])"
      ]
     },
     "execution_count": 36,
     "metadata": {},
     "output_type": "execute_result"
    }
   ],
   "source": [
    "print('Roots of the first polynomial- ',end='')\n",
    "np.roots([1,-4,7])\n",
    "print('Roots of the second polynomial- ',end='')\n",
    "np.roots([1,-11,9,11,-10])"
   ]
  },
  {
   "cell_type": "markdown",
   "metadata": {},
   "source": [
    "Q90. Write the NumPy program to calculate inverse of sine, cosine,\n",
    "and inverse tangent for all elements in a given array?\n",
    "Sample outputInverse sine- [-1.57079633 0. 1.57079633]\n",
    "Inverse cosine- [3.14159265 1.57079633 0. ]\n",
    "Inverse tangent- [-0.78539816 0. 0.78539816]"
   ]
  },
  {
   "cell_type": "code",
   "execution_count": 37,
   "metadata": {},
   "outputs": [
    {
     "name": "stdout",
     "output_type": "stream",
     "text": [
      "Inverse sine- \n",
      "[-1.57079633  0.          1.57079633]\n",
      "Inverse cosine- \n",
      "[3.14159265 1.57079633 0.        ]\n",
      "Inverse tangent- \n",
      "[-0.78539816  0.          0.78539816]\n"
     ]
    }
   ],
   "source": [
    "import numpy as np\n",
    "x = np.array([-1., 0, 1.])\n",
    "print('Inverse sine- ')\n",
    "print(np.arcsin(x))\n",
    "print('Inverse cosine- ')\n",
    "print(np.arccos(x))\n",
    "print('Inverse tangent- ')\n",
    "print(np.arctan(x))"
   ]
  },
  {
   "cell_type": "markdown",
   "metadata": {},
   "source": [
    "Q91. Write the NumPy program to calculate the difference between in\n",
    "neighbouring elements, element-wise of a given array?\n",
    "Sample outputOriginal array-\n",
    "[1 3 5 7 0]\n",
    "Difference between neighbouring elements, element-wise of the said array-\n",
    "[ 2 2 2 -7]"
   ]
  },
  {
   "cell_type": "code",
   "execution_count": 38,
   "metadata": {},
   "outputs": [
    {
     "name": "stdout",
     "output_type": "stream",
     "text": [
      "Sample output- Original array- [1 3 5 7 0]\n",
      "Difference between neighbouring elements, element-wise of the said array- [ 2  2  2 -7]\n"
     ]
    }
   ],
   "source": [
    "import numpy as np\n",
    "l=[]\n",
    "array1=np.array([1,3,5,7,0])\n",
    "print('Sample output- Original array- ',end='')\n",
    "print(array1)\n",
    "for i in range(np.alen(array1)-1):\n",
    "    l.append(array1[i+1]-array1[i])\n",
    "print('Difference between neighbouring elements, element-wise of the said array- ',end='')\n",
    "print(np.array(l))"
   ]
  },
  {
   "cell_type": "markdown",
   "metadata": {},
   "source": [
    "Q92. Write the Python program to find the maximum and the minimum\n",
    "value of a given flattened array?\n",
    "Expected OutputOriginal flattened array-\n",
    "[[0 1]\n",
    "[2 3]]\n",
    "Maximum value of the above flattened array-\n",
    "3\n",
    "Minimum value of the above flattened array-\n",
    "0"
   ]
  },
  {
   "cell_type": "code",
   "execution_count": 39,
   "metadata": {},
   "outputs": [
    {
     "name": "stdout",
     "output_type": "stream",
     "text": [
      "Original flattened array- [[0 1]\n",
      " [2 3]]\n",
      "Maximum value of the above flattened array- 3\n",
      "Minimum value of the above flattened array- 0\n"
     ]
    }
   ],
   "source": [
    "import numpy as np\n",
    "array1=np.array([[0,1],[2,3]])\n",
    "print('Original flattened array- ',end='')\n",
    "print(array1)\n",
    "print('Maximum value of the above flattened array- ',end='')\n",
    "print(np.amax(array1))\n",
    "print('Minimum value of the above flattened array- ',end='')\n",
    "print(np.amin(array1))"
   ]
  },
  {
   "cell_type": "markdown",
   "metadata": {},
   "source": [
    "Q93. Write the NumPy program to calculate the difference between in\n",
    "the maximum and the minimum values of a given array along the\n",
    "second axis ?\n",
    "Expected OutputOriginal array-\n",
    "[[ 0 1 2 3 4 5]\n",
    "[ 6 7 8 9 10 11]]\n",
    "Difference between the maximum and the minimum values of the said array-\n",
    "[5 5]"
   ]
  },
  {
   "cell_type": "code",
   "execution_count": 40,
   "metadata": {},
   "outputs": [
    {
     "name": "stdout",
     "output_type": "stream",
     "text": [
      "Original array-\n",
      "[[ 0  1  2  3  4  5]\n",
      " [ 6  7  8  9 10 11]]\n",
      "Difference between the maximum and the minimum values of the said array- [5 5]\n"
     ]
    }
   ],
   "source": [
    "import numpy as np\n",
    "l=[]\n",
    "array1=np.arange(12).reshape(2,6)\n",
    "print('Original array-')\n",
    "print(array1)\n",
    "print('Difference between the maximum and the minimum values of the said array- ',end='')  \n",
    "for r in array1:\n",
    "    l.append(np.amax(np.array(r))-np.amin(np.array(r)))\n",
    "print(np.array(l))"
   ]
  },
  {
   "cell_type": "markdown",
   "metadata": {},
   "source": [
    "Q94. Write the NumPy program to compute the weighted of the given\n",
    "array ?\n",
    "Sample OutputOriginal array-\n",
    "[0 1 2 3 4]\n",
    "Weighted average of the said array-\n",
    "2.6666666666666665"
   ]
  },
  {
   "cell_type": "code",
   "execution_count": 41,
   "metadata": {},
   "outputs": [
    {
     "name": "stdout",
     "output_type": "stream",
     "text": [
      "Sample Output- Original array- [0 1 2 3 4]\n",
      "Weighted average of the said array- 2.6666666666666665\n"
     ]
    }
   ],
   "source": [
    "import numpy as np\n",
    "a=np.arange(5)\n",
    "w=np.arange(1,6)\n",
    "print('Sample Output- Original array- ',end='')\n",
    "print(a)\n",
    "print('Weighted average of the said array- ',end='')\n",
    "print(np.matmul(a,w)/np.sum(w))"
   ]
  },
  {
   "cell_type": "markdown",
   "metadata": {},
   "source": [
    "Q95. Write the NumPy program to compute the mean, standard\n",
    "deviation, and the variance of a given array along the second\n",
    "axis?\n",
    "Sample outputOriginal array-\n",
    "[0 1 2 3 4 5]\n",
    "Mean- 2.5\n",
    "std- 1\n",
    "variance- 2.9166666666666665"
   ]
  },
  {
   "cell_type": "code",
   "execution_count": 42,
   "metadata": {},
   "outputs": [
    {
     "name": "stdout",
     "output_type": "stream",
     "text": [
      "Original array- [0 1 2 3 4 5]\n",
      "Mean- 2.5\n",
      "1.707825127659933\n",
      "2.9166666666666665\n"
     ]
    }
   ],
   "source": [
    "import numpy as np\n",
    "a=np.arange(6)\n",
    "print('Original array- ',end='')\n",
    "print(a)\n",
    "print('Mean- ',end='')\n",
    "print(np.mean(a))\n",
    "print(np.std(a))\n",
    "print(np.var(a))"
   ]
  },
  {
   "cell_type": "markdown",
   "metadata": {},
   "source": [
    "Q96. Write the Numpy program to compute the covariance matrix of the\n",
    "two given arrays?\n",
    "Sample OutputOriginal array1-\n",
    "[0 1 2]\n",
    "Original array1-\n",
    "[2 1 0]\n",
    "Covariance matrix of the said arrays-\n",
    "[[ 1. -1.]\n",
    "[-1. 1.]]"
   ]
  },
  {
   "cell_type": "code",
   "execution_count": 43,
   "metadata": {},
   "outputs": [
    {
     "name": "stdout",
     "output_type": "stream",
     "text": [
      "Original array1- [0 1 2]\n",
      "Original array2- [2 1 0]\n",
      "Covariance matrix of the said arrays- [[ 1. -1.]\n",
      " [-1.  1.]]\n"
     ]
    }
   ],
   "source": [
    "import numpy as np\n",
    "a1 = np.array([0, 1, 2])\n",
    "print('Original array1- ',end='')\n",
    "print(a1)\n",
    "a2 = np.array([2, 1, 0])\n",
    "print('Original array2- ',end='')\n",
    "print(a2)\n",
    "print('Covariance matrix of the said arrays- ',end='')\n",
    "print(np.cov(a1,a2))"
   ]
  },
  {
   "cell_type": "markdown",
   "metadata": {},
   "source": [
    "Q97. Write a NumPy program to compute the cross-correlation of two\n",
    "given arrays ?\n",
    "Sample OutputOriginal array1-\n",
    "[0 1 3]\n",
    "Original array1-\n",
    "[2 4 5]\n",
    "Cross-correlation of the said arrays-\n",
    "[ [ 2.33333333 2.16666667 ]\n",
    "[ 2.16666667 2.33333333 ] ]"
   ]
  },
  {
   "cell_type": "code",
   "execution_count": 44,
   "metadata": {},
   "outputs": [
    {
     "name": "stdout",
     "output_type": "stream",
     "text": [
      "Original array1-\n",
      "[0 1 3]\n",
      "Original array2-\n",
      "[2 4 5]\n",
      "Cross-correlation of the said arrays- [[2.33333333 2.16666667]\n",
      " [2.16666667 2.33333333]]\n"
     ]
    }
   ],
   "source": [
    "import numpy as np\n",
    "a1=np.array([0,1,3])\n",
    "print('Original array1-')\n",
    "print(a1)\n",
    "a2=np.array([2,4,5])\n",
    "print('Original array2-')\n",
    "print(a2)\n",
    "print('Cross-correlation of the said arrays- ',end='')\n",
    "print(np.cov(a1,a2))"
   ]
  },
  {
   "cell_type": "markdown",
   "metadata": {},
   "source": [
    "Q98. Write the NumPy program to compute Pearson product-moment\n",
    "correlation coefficients of two given arrays?\n",
    "Sample OutputOriginal array1-\n",
    "[0 1 3]\n",
    "Original array1-\n",
    "[2 4 5]\n",
    "Pearson product-moment correlation coefficients of the said arrays-\n",
    "[[1. 0.92857143]\n",
    "[0.92857143 1. ]]"
   ]
  },
  {
   "cell_type": "code",
   "execution_count": 45,
   "metadata": {},
   "outputs": [
    {
     "name": "stdout",
     "output_type": "stream",
     "text": [
      "Original array1-\n",
      "[0 1 3]\n",
      "Original array2-\n",
      "[2 4 5]\n",
      "Cross-correlation of the said arrays- [[1.         0.92857143]\n",
      " [0.92857143 1.        ]]\n"
     ]
    }
   ],
   "source": [
    "import numpy as np\n",
    "a1=np.array([0,1,3])\n",
    "print('Original array1-')\n",
    "print(a1)\n",
    "a2=np.array([2,4,5])\n",
    "print('Original array2-')\n",
    "print(a2)\n",
    "print('Cross-correlation of the said arrays- ',end='')\n",
    "print(np.corrcoef(a1,a2))"
   ]
  },
  {
   "cell_type": "markdown",
   "metadata": {},
   "source": [
    "Q99. Write the python program to count the number of occurrences of\n",
    "each value in a given array of non-negative integers?\n",
    "Note: bincount() Function- It count the occurrence of each value in an array of the\n",
    "non- negative integers in the range of the array between the minimum and maximum values\n",
    "including the values that did not occur.\n",
    "Sample OutputOriginal array-\n",
    "[0, 1, 6, 1, 4, 1, 2, 2, 7]\n",
    "Number of occurrences of each value in array-\n",
    "[1 3 2 0 1 0 1 1]"
   ]
  },
  {
   "cell_type": "code",
   "execution_count": 47,
   "metadata": {},
   "outputs": [
    {
     "name": "stdout",
     "output_type": "stream",
     "text": [
      "Original array-\n",
      "[0 1 6 1 4 1 2 2 7]\n",
      "Number of occurrences of each value in array-\n",
      "[1 3 2 0 1 0 1 1]\n"
     ]
    }
   ],
   "source": [
    "import numpy as np\n",
    "arr=np.array([0, 1, 6, 1, 4, 1, 2, 2, 7])\n",
    "print('Original array-')\n",
    "print(arr)\n",
    "print('Number of occurrences of each value in array-\\n',end='')\n",
    "print(np.bincount(arr))"
   ]
  },
  {
   "cell_type": "markdown",
   "metadata": {},
   "source": [
    "Q100. Write a Numpy program to compute the histogram of nums\n",
    "against the bins?\n",
    "Sample Outputnums- [0.5 0.7 1. 1.2 1.3 2.1]\n",
    "bins- [0 1 2 3]\n",
    "Result- (array([2, 3, 1], dtype=int64), array([0, 1, 2, 3]))"
   ]
  },
  {
   "cell_type": "code",
   "execution_count": 48,
   "metadata": {},
   "outputs": [
    {
     "name": "stdout",
     "output_type": "stream",
     "text": [
      "nums:  [0.5 0.7 1.  1.2 1.3 2.1]\n",
      "bins:  [0 1 2 3]\n",
      "Result: (array([2, 3, 1], dtype=int64), array([0, 1, 2, 3]))\n"
     ]
    },
    {
     "data": {
      "image/png": "[encoded data removed]",
      "text/plain": [
       "<Figure size 432x288 with 1 Axes>"
      ]
     },
     "metadata": {
      "needs_background": "light"
     },
     "output_type": "display_data"
    }
   ],
   "source": [
    "import numpy as np\n",
    "import matplotlib.pyplot as plt\n",
    "nums = np.array([0.5, 0.7, 1.0, 1.2, 1.3, 2.1])\n",
    "bins = np.array([0, 1, 2, 3])\n",
    "print(\"nums: \",nums)\n",
    "print(\"bins: \",bins)\n",
    "print(\"Result:\", np.histogram(nums, bins))\n",
    "plt.hist(nums, bins=bins)\n",
    "plt.show()"
   ]
  },
  {
   "cell_type": "markdown",
   "metadata": {},
   "source": [
    "Q101. Write the Python program to add, subtract, multiply and divide\n",
    "two pandas series ?\n",
    "Sample Series- [2, 4, 6, 8, 10], [1, 3, 5, 7, 9]"
   ]
  },
  {
   "cell_type": "code",
   "execution_count": 49,
   "metadata": {},
   "outputs": [
    {
     "name": "stdout",
     "output_type": "stream",
     "text": [
      "0     3\n",
      "1     7\n",
      "2    11\n",
      "3    15\n",
      "4    19\n",
      "dtype: int64\n",
      "0    1\n",
      "1    1\n",
      "2    1\n",
      "3    1\n",
      "4    1\n",
      "dtype: int64\n",
      "0     2\n",
      "1    12\n",
      "2    30\n",
      "3    56\n",
      "4    90\n",
      "dtype: int64\n",
      "0    2.000000\n",
      "1    1.333333\n",
      "2    1.200000\n",
      "3    1.142857\n",
      "4    1.111111\n",
      "dtype: float64\n"
     ]
    }
   ],
   "source": [
    "import pandas as pd\n",
    "S1=pd.Series([2, 4, 6, 8, 10])\n",
    "S2=pd.Series([1, 3, 5, 7, 9])\n",
    "print(S1+S2)\n",
    "print(S1-S2)\n",
    "print(S1*S2)\n",
    "print(S1/S2)"
   ]
  },
  {
   "cell_type": "markdown",
   "metadata": {},
   "source": [
    "Q102. Write a Python program to convert a dictionary to the Pandas\n",
    "Series?\n",
    "Sample SeriesOriginal dictionary-\n",
    "{'a': 100, 'b': 200, 'c': 300, 'd': 400, 'e': 800}\n",
    "Converted series -\n",
    "a 100\n",
    "b 200\n",
    "c 300\n",
    "d 400\n",
    "e 800\n",
    "dtype- int64"
   ]
  },
  {
   "cell_type": "code",
   "execution_count": 50,
   "metadata": {},
   "outputs": [
    {
     "name": "stdout",
     "output_type": "stream",
     "text": [
      "a    100\n",
      "b    200\n",
      "c    300\n",
      "d    400\n",
      "e    800\n",
      "dtype: int64\n"
     ]
    }
   ],
   "source": [
    "import pandas as pd\n",
    "d={'a': 100, 'b': 200, 'c': 300, 'd': 400, 'e': 800}\n",
    "s=pd.Series(d)\n",
    "print(s)"
   ]
  },
  {
   "cell_type": "markdown",
   "metadata": {},
   "source": [
    "Q103. Write a python program to change the data type of given a\n",
    "column or a Series?\n",
    "Sample SeriesOriginal Data Series-\n",
    "0 100\n",
    "1 200\n",
    "2 python\n",
    "3 300.12\n",
    "4 400\n",
    "dtype- object\n",
    "Change the said data type to numeric-\n",
    "0 100.00\n",
    "1 200.00\n",
    "2 NaN\n",
    "3 300.12\n",
    "4 400.00\n",
    "dtype- float64"
   ]
  },
  {
   "cell_type": "code",
   "execution_count": 51,
   "metadata": {},
   "outputs": [
    {
     "name": "stdout",
     "output_type": "stream",
     "text": [
      "a    100\n",
      "b    200\n",
      "c    300\n",
      "d    400\n",
      "e    800\n",
      "dtype: int64\n",
      "1    200.00\n",
      "2       NaN\n",
      "3    300.12\n",
      "4    400.00\n",
      "dtype: float64\n"
     ]
    }
   ],
   "source": [
    "import pandas as pd\n",
    "d={1:200, 2:'python', 3:300.12, 4:400}\n",
    "s1=pd.Series(d)\n",
    "print(s)\n",
    "s2=pd.to_numeric(s1,errors='coerce')\n",
    "print(s2)"
   ]
  },
  {
   "cell_type": "markdown",
   "metadata": {},
   "source": [
    "Q104. Write the python pandas program to convert the first column of a\n",
    "DataFrame as a Series?\n",
    "Sample OutputOriginal DataFramecol1 col2 col3\n",
    "0 1 4 7\n",
    "1 2 5 5\n",
    "2 3 6 8\n",
    "3 4 9 12\n",
    "4 7 5 1\n",
    "5 11 0 11\n",
    "1st column as a Series-\n",
    "0 1\n",
    "1 2\n",
    "2 3\n",
    "3 4\n",
    "4 7\n",
    "5 11\n",
    "Name- col1, dtype- int64\n",
    "<class 'pandas.core.series.Series'>"
   ]
  },
  {
   "cell_type": "code",
   "execution_count": 52,
   "metadata": {},
   "outputs": [
    {
     "name": "stdout",
     "output_type": "stream",
     "text": [
      "Original DataFrame-   col1  col2  col3\n",
      "0     1     4     7\n",
      "1     2     5     5\n",
      "2     3     6     8\n",
      "3     4     9    12\n",
      "4    11     0    11\n",
      "1st column as a Series-0     1\n",
      "1     2\n",
      "2     3\n",
      "3     4\n",
      "4    11\n",
      "Name: col1, dtype: int64\n",
      "<class 'pandas.core.series.Series'>\n"
     ]
    }
   ],
   "source": [
    "import pandas as pd\n",
    "df=pd.DataFrame([[1,4,7],[2,5,5],[3,6,8],[4,9,12],[11,0,11]],columns=['col1','col2','col3'])\n",
    "print('Original DataFrame-',end='')\n",
    "print(df)\n",
    "print('1st column as a Series-',end='')\n",
    "s=pd.Series(df['col1'])\n",
    "print(s)\n",
    "print(type(s))"
   ]
  },
  {
   "cell_type": "markdown",
   "metadata": {},
   "source": [
    "Q105. Write a pandas program to create the mean and standard\n",
    "deviation of the data of a given Series?\n",
    "Sample OutputOriginal Data Series-\n",
    "0 1\n",
    "1 2\n",
    "2 3\n",
    "3 4\n",
    "4 5\n",
    "5 6\n",
    "6 7\n",
    "7 8\n",
    "8 9\n",
    "9 5\n",
    "10 3\n",
    "dtype- int64\n",
    "Mean of the said Data Series-\n",
    "4.81818181818\n",
    "Standard deviation of the said Data Series-\n",
    "2.52262489555"
   ]
  },
  {
   "cell_type": "code",
   "execution_count": 53,
   "metadata": {},
   "outputs": [
    {
     "name": "stdout",
     "output_type": "stream",
     "text": [
      "Original Data Series- 0     1\n",
      "1     2\n",
      "2     3\n",
      "3     4\n",
      "4     5\n",
      "5     6\n",
      "6     7\n",
      "7     8\n",
      "8     9\n",
      "9     5\n",
      "10    3\n",
      "dtype: int64\n",
      "Mean of the said Data Series- 4.818181818181818\n",
      "Standard deviation of the said Data Series- 2.522624895547565\n"
     ]
    }
   ],
   "source": [
    "import pandas as pd\n",
    "s=pd.Series([1,2,3,4,5,6,7,8,9,5,3])\n",
    "print('Original Data Series- ',end='')\n",
    "print(s)\n",
    "print('Mean of the said Data Series- ',end='')\n",
    "print(s.mean())\n",
    "print('Standard deviation of the said Data Series- ',end='')\n",
    "print(s.std())"
   ]
  },
  {
   "cell_type": "markdown",
   "metadata": {},
   "source": [
    "Q106. Write a pandas program to get powers of an array values\n",
    "element-wise?\n",
    "Note First array elements raised the powers from the second array.\n",
    "Sample data: {'X ':[78,85,96,80,86], ' Y ':[84,94,89,83,86],'Z':[86,97,96,72,83]}\n",
    "Expected Output:\n",
    "X Y Z\n",
    "0 78 84 86\n",
    "1 85 94 97\n",
    "2 96 89 96\n",
    "3 80 83 72\n",
    "4 86 86 83"
   ]
  },
  {
   "cell_type": "code",
   "execution_count": 54,
   "metadata": {},
   "outputs": [
    {
     "name": "stdout",
     "output_type": "stream",
     "text": [
      "    X   Y   Z\n",
      "0  78  84  86\n",
      "1  85  94  97\n",
      "2  96  89  96\n",
      "3  80  83  72\n",
      "4  86  86  83\n"
     ]
    }
   ],
   "source": [
    "import pandas as pd\n",
    "d={'X':[78,85,96,80,86], 'Y':[84,94,89,83,86],'Z':[86,97,96,72,83]}\n",
    "df=pd.DataFrame(d)\n",
    "print(df)"
   ]
  },
  {
   "cell_type": "markdown",
   "metadata": {},
   "source": [
    "Q107. Write the pandas program to get the first 3 rows of a given\n",
    "DataFrame?\n",
    "Sample Python dictionary data and list labelsexam_data = {'name': ['Anastasia', 'Dima', 'Katherine', 'James', 'Emily', 'Michael',\n",
    "'Matthew', 'Laura', 'Kevin', 'Jonas'],\n",
    "'score': [12.5, 9, 16.5, np.nan, 9, 20, 14.5, np.nan, 8, 19],\n",
    "'attempts'- [1, 3, 2, 3, 2, 3, 1, 1, 2, 1],\n",
    "'qualify'- [ 'yes', 'no', 'yes' , 'no', ' no ', ' yes ', 'yes', 'no', 'no', 'yes' ] }\n",
    "labels = ['a', 'b', 'c', 'd', 'e', 'f', 'g', 'h', 'i', 'j' ]\n",
    "Expected OutputFirst three rows of the data frameattempts name qualify score\n",
    "a 1 Anastasia yes 12.5\n",
    "b 3 Dima no 9.0\n",
    "c 2 Katherine yes 16.5"
   ]
  },
  {
   "cell_type": "code",
   "execution_count": 55,
   "metadata": {},
   "outputs": [
    {
     "name": "stdout",
     "output_type": "stream",
     "text": [
      "First three rows of the data frame- attempts name qualify score\n",
      "   attempts       name qualify  score\n",
      "a         1  Anastasia     yes   12.5\n",
      "b         3       Dima      no    9.0\n",
      "c         2  Katherine     yes   16.5\n"
     ]
    }
   ],
   "source": [
    "import pandas as pd\n",
    "exam_data = {'name': ['Anastasia', 'Dima', 'Katherine', 'James', 'Emily', 'Michael', 'Matthew', 'Laura', 'Kevin', 'Jonas'],\n",
    "'score': [12.5, 9, 16.5, np.nan, 9, 20, 14.5, np.nan, 8, 19],\n",
    "'attempts': [1, 3, 2, 3, 2, 3, 1, 1, 2, 1],\n",
    "'qualify': [ 'yes', 'no', 'yes' , 'no', ' no ', ' yes ', 'yes', 'no', 'no', 'yes' ]}\n",
    "df=pd.DataFrame(exam_data,index=['a', 'b', 'c', 'd', 'e', 'f', 'g', 'h', 'i', 'j' ])\n",
    "print('First three rows of the data frame- attempts name qualify score')\n",
    "print(df[['attempts','name','qualify','score']].head(3))"
   ]
  },
  {
   "cell_type": "markdown",
   "metadata": {},
   "source": [
    "Q108: Write the pandas program to select the specified columns and\n",
    "the rows from a given data frame?\n",
    "Sample Python dictionary data and list labelsSelect 'name' and 'score' columns in rows 1, 3, 5, 6 from the following data frame.\n",
    "exam_data = {'name ': [ 'Anastasia', 'Dima', 'Katherine', 'James', 'Emily', 'Michael',\n",
    "'Matthew', 'Laura', 'Kevin', 'Jonas'],\n",
    "'score'- [12.5, 9, 16.5, np.nan, 9, 20, 14.5, np.nan, 8, 19],\n",
    "'attempts'- [1, 3, 2, 3, 2, 3, 1, 1, 2, 1],\n",
    "'qualify'- ['yes', 'no', 'yes', 'no', 'no', 'yes', 'yes', 'no', 'no', 'yes'] }\n",
    "labels = ['a ', ' b ', ' c ', ' d ', ' e ', ' f ', ' g ', 'h', 'i', 'j']\n",
    "Expected OutputSelect specific columns and rowsname score\n",
    "b Dima 9.0\n",
    "d James NaN\n",
    "f Michael 20.0\n",
    "g Matthew 14.5"
   ]
  },
  {
   "cell_type": "code",
   "execution_count": 56,
   "metadata": {},
   "outputs": [
    {
     "name": "stdout",
     "output_type": "stream",
     "text": [
      "Select specific columns and rows-\n",
      "      name  score\n",
      "b     Dima    9.0\n",
      "d    James    NaN\n",
      "f  Michael   20.0\n",
      "g  Matthew   14.5\n"
     ]
    }
   ],
   "source": [
    "import pandas as pd\n",
    "exam_data = {'name': [ 'Anastasia', 'Dima', 'Katherine', 'James', 'Emily', 'Michael', 'Matthew', 'Laura', 'Kevin', 'Jonas'],\n",
    "'score': [12.5, 9, 16.5, np.nan, 9, 20, 14.5, np.nan, 8, 19],\n",
    "'attempts': [1, 3, 2, 3, 2, 3, 1, 1, 2, 1],\n",
    "'qualify': ['yes', 'no', 'yes', 'no', 'no', 'yes', 'yes', 'no', 'no', 'yes'] }\n",
    "df=pd.DataFrame(exam_data,index=['a', 'b', 'c', 'd', 'e', 'f', 'g', 'h', 'i', 'j' ])\n",
    "print('Select specific columns and rows-')\n",
    "print(df.iloc[[1, 3, 5, 6], [0, 1]])"
   ]
  },
  {
   "cell_type": "markdown",
   "metadata": {},
   "source": [
    "Q109. Write the pandas program to calculate mean score for each\n",
    "different student in DataFrame?\n",
    "Sample Python dictionary data and list labelsexam_data = {'name': ['Anastasia', 'Dima', 'Katherine', 'James', 'Emily', 'Michael',\n",
    "'Matthew', 'Laura', 'Kevin', 'Jonas'],\n",
    "'score': [12.5, 9, 16.5, np.nan, 9, 20, 14.5, np.nan, 8, 19],\n",
    "'attempts'- [1, 3, 2, 3, 2, 3, 1, 1, 2, 1],\n",
    "'qualify'- ['yes', 'no', ' yes ', ' no ', ' no ', ' yes ', ' yes ', ' no ', ' no ', ' yes '] }\n",
    "labels = ['a', 'b', 'c', 'd', 'e', 'f', 'g', 'h', 'i', 'j']\n",
    "Expected OutputMean score for each different student in data frame:\n",
    "13.5625"
   ]
  },
  {
   "cell_type": "code",
   "execution_count": 58,
   "metadata": {},
   "outputs": [
    {
     "name": "stdout",
     "output_type": "stream",
     "text": [
      "Mean score for each different student in data frame:\n",
      "13.5625\n"
     ]
    }
   ],
   "source": [
    "import pandas as pd\n",
    "exam_data = {'name': [ 'Anastasia', 'Dima', 'Katherine', 'James', 'Emily', 'Michael', 'Matthew', 'Laura', 'Kevin', 'Jonas'],\n",
    "'score': [12.5, 9, 16.5, np.nan, 9, 20, 14.5, np.nan, 8, 19],\n",
    "'attempts': [1, 3, 2, 3, 2, 3, 1, 1, 2, 1],\n",
    "'qualify': ['yes', 'no', 'yes', 'no', 'no', 'yes', 'yes', 'no', 'no', 'yes'] }\n",
    "df=pd.DataFrame(exam_data,index=['a', 'b', 'c', 'd', 'e', 'f', 'g', 'h', 'i', 'j' ])\n",
    "print('Mean score for each different student in data frame:')\n",
    "print(df['score'].mean())"
   ]
  },
  {
   "cell_type": "markdown",
   "metadata": {},
   "source": [
    "Q110. Write the Pandas program to rename columns of a given\n",
    "DataFrame ?\n",
    "Sample dataOriginal data frame\n",
    "col1 col2 col3\n",
    "0 1 4 7\n",
    "1 2 5 8\n",
    "2 3 6 9\n",
    "New data frame after renaming columns:\n",
    "Column1 Column2 Column3\n",
    "0 1 4 7\n",
    "1 2 5 8\n",
    "2 3 6 9"
   ]
  },
  {
   "cell_type": "code",
   "execution_count": 59,
   "metadata": {},
   "outputs": [
    {
     "name": "stdout",
     "output_type": "stream",
     "text": [
      "Original data frame-\n",
      "   col1  col2  col3\n",
      "0     1     4     7\n",
      "1     2     5     5\n",
      "2     3     6     8\n",
      "3     4     9    12\n",
      "4    11     0    11\n",
      "New data frame after renaming columns:\n",
      "   Column1  Column2  Column3\n",
      "0        1        4        7\n",
      "1        2        5        5\n",
      "2        3        6        8\n",
      "3        4        9       12\n",
      "4       11        0       11\n"
     ]
    }
   ],
   "source": [
    "import pandas as pd\n",
    "df=pd.DataFrame([[1,4,7],[2,5,5],[3,6,8],[4,9,12],[11,0,11]],columns=['col1','col2','col3'])\n",
    "print('Original data frame-')\n",
    "print(df)\n",
    "df.columns=['Column1','Column2','Column3']\n",
    "print('New data frame after renaming columns:')\n",
    "print(df)"
   ]
  },
  {
   "cell_type": "markdown",
   "metadata": {},
   "source": [
    "Q111. Write a pandas program to count city-wise number of people from\n",
    "a given of data set (city, name of the person)?\n",
    "Sample data-\n",
    "city Number of people\n",
    "0 California 4\n",
    "1 Georgia 2\n",
    "2 Los Angeles 4"
   ]
  },
  {
   "cell_type": "code",
   "execution_count": 60,
   "metadata": {},
   "outputs": [
    {
     "name": "stdout",
     "output_type": "stream",
     "text": [
      "          city  Number of people\n",
      "0   California                 4\n",
      "1      Georgia                 2\n",
      "2  Los Angeles                 4\n"
     ]
    }
   ],
   "source": [
    "import pandas as pd\n",
    "df=pd.DataFrame({'name': ['Anastasia', 'Dima', 'Katherine', 'James', 'Emily', 'Michael', 'Matthew', 'Laura', 'Kevin', 'Jonas'],\n",
    "'city': ['California', 'Los Angeles', 'California', 'California', 'California', 'Los Angeles', 'Los Angeles', 'Georgia', 'Georgia', 'Los Angeles']})\n",
    "df_f=df.groupby(['city']).size().reset_index(name='Number of people')\n",
    "print(df_f)"
   ]
  },
  {
   "cell_type": "markdown",
   "metadata": {},
   "source": [
    "Q112. Write a pandas program to widen output display to see more\n",
    "columns?\n",
    "Sample dataOriginal data frame\n",
    "col1 col2 col3\n",
    "0 1 4 7\n",
    "1 4 5 8\n",
    "2 3 6 9\n",
    "3 4 7 0\n",
    "4 5 8 1"
   ]
  },
  {
   "cell_type": "code",
   "execution_count": 61,
   "metadata": {},
   "outputs": [
    {
     "name": "stdout",
     "output_type": "stream",
     "text": [
      "Original DataFrame\n",
      "   col1  col2  col3\n",
      "0     1     4     7\n",
      "1     4     5     8\n",
      "2     3     6     9\n",
      "3     4     7     0\n",
      "4     5     8     1\n"
     ]
    }
   ],
   "source": [
    "import pandas as pd\n",
    "d = {'col1': [1, 4, 3, 4, 5], 'col2': [4, 5, 6, 7, 8], 'col3': [7, 8, 9, 0, 1]}\n",
    "df = pd.DataFrame(data=d)\n",
    "pd.set_option('display.max_rows', 500)\n",
    "pd.set_option('display.max_columns', 500)\n",
    "pd.set_option('display.width', 1000)\n",
    "print(\"Original DataFrame\")\n",
    "print(df)"
   ]
  },
  {
   "cell_type": "markdown",
   "metadata": {},
   "source": [
    "Q113. Write a pandas program to convert the data frame column type\n",
    "from string to DateTime?\n",
    "Sample dataString Date-\n",
    "0 3/11/2000\n",
    "1 3/12/2000\n",
    "2 3/13/2000\n",
    "dtype- object\n",
    "Original DataFrame (string to datetime)-\n",
    "0\n",
    "0 2000-03-11\n",
    "1 2000-03-12\n",
    "2 2000-03-13"
   ]
  },
  {
   "cell_type": "code",
   "execution_count": 62,
   "metadata": {},
   "outputs": [
    {
     "name": "stdout",
     "output_type": "stream",
     "text": [
      "String Date:\n",
      "0    3/11/2000\n",
      "1    3/12/2000\n",
      "2    3/13/2000\n",
      "dtype: object\n",
      "Original DataFrame (string to datetime):\n",
      "           0\n",
      "0 2000-03-11\n",
      "1 2000-03-12\n",
      "2 2000-03-13\n"
     ]
    }
   ],
   "source": [
    "import pandas as pd\n",
    "import numpy as np\n",
    "s = pd.Series(['3/11/2000', '3/12/2000', '3/13/2000'])\n",
    "print(\"String Date:\")\n",
    "print(s)\n",
    "r = pd.to_datetime(pd.Series(s))\n",
    "df = pd.DataFrame(r)\n",
    "print(\"Original DataFrame (string to datetime):\")\n",
    "print(df)"
   ]
  },
  {
   "cell_type": "markdown",
   "metadata": {},
   "source": [
    "Q114. Write a pandas program to append the data to an empty\n",
    "DataFrame?\n",
    "Sample dataOriginal DataFrame- After appending some data: col1 col2 0 0 0 1 1 1 2 2 2"
   ]
  },
  {
   "cell_type": "code",
   "execution_count": 63,
   "metadata": {},
   "outputs": [
    {
     "name": "stdout",
     "output_type": "stream",
     "text": [
      "After appending some data:\n",
      "   col1  col2\n",
      "0     0     0\n",
      "1     1     1\n",
      "2     2     2\n"
     ]
    }
   ],
   "source": [
    "import pandas as pd\n",
    "df=pd.DataFrame()\n",
    "df=df.append(pd.DataFrame({'col1':range(3),'col2':range(3)}))\n",
    "print(\"After appending some data:\")\n",
    "print(df)"
   ]
  },
  {
   "cell_type": "markdown",
   "metadata": {},
   "source": [
    "Q115. Write a pandas program to count the number of columns of a\n",
    "DataFrame?\n",
    "Sample OutputOriginal DataFrame\n",
    "col1 col2 col3\n",
    "0 1 4 7\n",
    "1 2 5 8\n",
    "2 3 6 12\n",
    "3 4 9 1\n",
    "4 7 5 11\n",
    "Number of columns- 3"
   ]
  },
  {
   "cell_type": "code",
   "execution_count": 64,
   "metadata": {},
   "outputs": [
    {
     "name": "stdout",
     "output_type": "stream",
     "text": [
      "Original DataFrame\n",
      "   col1  col2  col3\n",
      "0     1     4     7\n",
      "1     2     5     8\n",
      "2     3     6    12\n",
      "3     4     9     1\n",
      "4     7     5    11\n",
      "\n",
      "Number of columns:\n",
      "3\n"
     ]
    }
   ],
   "source": [
    "import pandas as pd\n",
    "d = {'col1': [1, 2, 3, 4, 7], 'col2': [4, 5, 6, 9, 5], 'col3': [7, 8, 12, 1, 11]}\n",
    "df = pd.DataFrame(data=d)\n",
    "print(\"Original DataFrame\")\n",
    "print(df)\n",
    "print(\"\\nNumber of columns:\")\n",
    "print(len(df.columns))"
   ]
  },
  {
   "cell_type": "markdown",
   "metadata": {},
   "source": [
    "Q116. Write a Pandas program to remove the last n rows of a given\n",
    "DataFrame ?\n",
    "Sample Output:\n",
    "Original DataFrame\n",
    "col1 col2 col3\n",
    "0 1 4 7\n",
    "1 2 5 5\n",
    "2 3 6 8\n",
    "3 4 9 12\n",
    "4 7 5 1\n",
    "5 11 0 11\n",
    "After removing last 3 rows of the said DataFramecol1 col2 col3\n",
    "0 1 4 7\n",
    "1 2 5 5\n",
    "2 3 6 8"
   ]
  },
  {
   "cell_type": "code",
   "execution_count": 65,
   "metadata": {},
   "outputs": [
    {
     "name": "stdout",
     "output_type": "stream",
     "text": [
      "   col1  col2  col3\n",
      "0     1     4     7\n",
      "1     2     5     5\n",
      "2     3     6     8\n"
     ]
    }
   ],
   "source": [
    "import pandas as pd\n",
    "d = {'col1': [1, 2, 3, 4, 7, 11], 'col2': [4, 5, 6, 9, 5, 0], 'col3': [7, 5, 8, 12, 1, 11]}\n",
    "df = pd.DataFrame(data=d)\n",
    "print(df.iloc[0:df.shape[0]-3])"
   ]
  },
  {
   "cell_type": "markdown",
   "metadata": {},
   "source": [
    "Q117. Write a Pandas program to import excel data (coalpublic2013.xlsx\n",
    ") into a Pandas data frame."
   ]
  },
  {
   "cell_type": "code",
   "execution_count": 72,
   "metadata": {},
   "outputs": [
    {
     "data": {
      "text/html": [
       "<div>\n",
       "<style scoped>\n",
       "    .dataframe tbody tr th:only-of-type {\n",
       "        vertical-align: middle;\n",
       "    }\n",
       "\n",
       "    .dataframe tbody tr th {\n",
       "        vertical-align: top;\n",
       "    }\n",
       "\n",
       "    .dataframe thead th {\n",
       "        text-align: right;\n",
       "    }\n",
       "</style>\n",
       "<table border=\"1\" class=\"dataframe\">\n",
       "  <thead>\n",
       "    <tr style=\"text-align: right;\">\n",
       "      <th></th>\n",
       "      <th>Year</th>\n",
       "      <th>MSHA ID</th>\n",
       "      <th>Mine_Name</th>\n",
       "      <th>Production</th>\n",
       "      <th>Labor_Hours</th>\n",
       "    </tr>\n",
       "  </thead>\n",
       "  <tbody>\n",
       "    <tr>\n",
       "      <td>0</td>\n",
       "      <td>2013</td>\n",
       "      <td>103381</td>\n",
       "      <td>Tacoa Highwall Miner</td>\n",
       "      <td>56004</td>\n",
       "      <td>22392</td>\n",
       "    </tr>\n",
       "    <tr>\n",
       "      <td>1</td>\n",
       "      <td>2013</td>\n",
       "      <td>103404</td>\n",
       "      <td>Reid School Mine</td>\n",
       "      <td>28807</td>\n",
       "      <td>28447</td>\n",
       "    </tr>\n",
       "    <tr>\n",
       "      <td>2</td>\n",
       "      <td>2013</td>\n",
       "      <td>100759</td>\n",
       "      <td>North River #1 Underground Min</td>\n",
       "      <td>1440115</td>\n",
       "      <td>474784</td>\n",
       "    </tr>\n",
       "    <tr>\n",
       "      <td>3</td>\n",
       "      <td>2013</td>\n",
       "      <td>103246</td>\n",
       "      <td>Bear Creek</td>\n",
       "      <td>87587</td>\n",
       "      <td>29193</td>\n",
       "    </tr>\n",
       "    <tr>\n",
       "      <td>4</td>\n",
       "      <td>2013</td>\n",
       "      <td>103451</td>\n",
       "      <td>Knight Mine</td>\n",
       "      <td>147499</td>\n",
       "      <td>46393</td>\n",
       "    </tr>\n",
       "    <tr>\n",
       "      <td>5</td>\n",
       "      <td>2013</td>\n",
       "      <td>103433</td>\n",
       "      <td>Crane Central Mine</td>\n",
       "      <td>69339</td>\n",
       "      <td>47195</td>\n",
       "    </tr>\n",
       "    <tr>\n",
       "      <td>6</td>\n",
       "      <td>2013</td>\n",
       "      <td>100329</td>\n",
       "      <td>Concord Mine</td>\n",
       "      <td>0</td>\n",
       "      <td>144002</td>\n",
       "    </tr>\n",
       "    <tr>\n",
       "      <td>7</td>\n",
       "      <td>2013</td>\n",
       "      <td>100851</td>\n",
       "      <td>Oak Grove Mine</td>\n",
       "      <td>2269014</td>\n",
       "      <td>1001809</td>\n",
       "    </tr>\n",
       "    <tr>\n",
       "      <td>8</td>\n",
       "      <td>2013</td>\n",
       "      <td>102901</td>\n",
       "      <td>Shoal Creek Mine</td>\n",
       "      <td>0</td>\n",
       "      <td>12396</td>\n",
       "    </tr>\n",
       "    <tr>\n",
       "      <td>9</td>\n",
       "      <td>2013</td>\n",
       "      <td>102901</td>\n",
       "      <td>Shoal Creek Mine</td>\n",
       "      <td>1453024</td>\n",
       "      <td>1237415</td>\n",
       "    </tr>\n",
       "    <tr>\n",
       "      <td>10</td>\n",
       "      <td>2013</td>\n",
       "      <td>103180</td>\n",
       "      <td>Sloan Mountain Mine</td>\n",
       "      <td>327780</td>\n",
       "      <td>196963</td>\n",
       "    </tr>\n",
       "    <tr>\n",
       "      <td>11</td>\n",
       "      <td>2013</td>\n",
       "      <td>103182</td>\n",
       "      <td>Fishtrap</td>\n",
       "      <td>175058</td>\n",
       "      <td>87314</td>\n",
       "    </tr>\n",
       "    <tr>\n",
       "      <td>12</td>\n",
       "      <td>2013</td>\n",
       "      <td>103285</td>\n",
       "      <td>Narley Mine</td>\n",
       "      <td>154861</td>\n",
       "      <td>90584</td>\n",
       "    </tr>\n",
       "    <tr>\n",
       "      <td>13</td>\n",
       "      <td>2013</td>\n",
       "      <td>103332</td>\n",
       "      <td>Powhatan Mine</td>\n",
       "      <td>140521</td>\n",
       "      <td>61394</td>\n",
       "    </tr>\n",
       "    <tr>\n",
       "      <td>14</td>\n",
       "      <td>2013</td>\n",
       "      <td>103375</td>\n",
       "      <td>Johnson Mine</td>\n",
       "      <td>580</td>\n",
       "      <td>1900</td>\n",
       "    </tr>\n",
       "    <tr>\n",
       "      <td>15</td>\n",
       "      <td>2013</td>\n",
       "      <td>103419</td>\n",
       "      <td>Maxine-Pratt Mine</td>\n",
       "      <td>125824</td>\n",
       "      <td>107469</td>\n",
       "    </tr>\n",
       "    <tr>\n",
       "      <td>16</td>\n",
       "      <td>2013</td>\n",
       "      <td>103432</td>\n",
       "      <td>Skelton Creek</td>\n",
       "      <td>8252</td>\n",
       "      <td>220</td>\n",
       "    </tr>\n",
       "    <tr>\n",
       "      <td>17</td>\n",
       "      <td>2013</td>\n",
       "      <td>103437</td>\n",
       "      <td>Black Warrior Mine No 1</td>\n",
       "      <td>145924</td>\n",
       "      <td>70926</td>\n",
       "    </tr>\n",
       "    <tr>\n",
       "      <td>18</td>\n",
       "      <td>2013</td>\n",
       "      <td>102976</td>\n",
       "      <td>Piney Woods Preparation Plant</td>\n",
       "      <td>0</td>\n",
       "      <td>14828</td>\n",
       "    </tr>\n",
       "    <tr>\n",
       "      <td>19</td>\n",
       "      <td>2013</td>\n",
       "      <td>102976</td>\n",
       "      <td>Piney Woods Preparation Plant</td>\n",
       "      <td>0</td>\n",
       "      <td>23193</td>\n",
       "    </tr>\n",
       "    <tr>\n",
       "      <td>20</td>\n",
       "      <td>2013</td>\n",
       "      <td>103380</td>\n",
       "      <td>Calera</td>\n",
       "      <td>0</td>\n",
       "      <td>12621</td>\n",
       "    </tr>\n",
       "    <tr>\n",
       "      <td>21</td>\n",
       "      <td>2013</td>\n",
       "      <td>103380</td>\n",
       "      <td>Calera</td>\n",
       "      <td>0</td>\n",
       "      <td>1402</td>\n",
       "    </tr>\n",
       "    <tr>\n",
       "      <td>22</td>\n",
       "      <td>2013</td>\n",
       "      <td>103422</td>\n",
       "      <td>Clark No 1 Mine</td>\n",
       "      <td>122727</td>\n",
       "      <td>140250</td>\n",
       "    </tr>\n",
       "    <tr>\n",
       "      <td>23</td>\n",
       "      <td>2013</td>\n",
       "      <td>103467</td>\n",
       "      <td>Helena Surface Mine</td>\n",
       "      <td>59664</td>\n",
       "      <td>30539</td>\n",
       "    </tr>\n",
       "    <tr>\n",
       "      <td>24</td>\n",
       "      <td>2013</td>\n",
       "      <td>101247</td>\n",
       "      <td>No 4 Mine</td>\n",
       "      <td>2622528</td>\n",
       "      <td>1551141</td>\n",
       "    </tr>\n",
       "    <tr>\n",
       "      <td>25</td>\n",
       "      <td>2013</td>\n",
       "      <td>101401</td>\n",
       "      <td>No 7 Mine</td>\n",
       "      <td>5405412</td>\n",
       "      <td>2464719</td>\n",
       "    </tr>\n",
       "    <tr>\n",
       "      <td>26</td>\n",
       "      <td>2013</td>\n",
       "      <td>103172</td>\n",
       "      <td>Searles Mine No. 2, 3, 4, 5, 6</td>\n",
       "      <td>258078</td>\n",
       "      <td>119542</td>\n",
       "    </tr>\n",
       "    <tr>\n",
       "      <td>27</td>\n",
       "      <td>2013</td>\n",
       "      <td>103179</td>\n",
       "      <td>Fleetwood Mine No 1</td>\n",
       "      <td>75937</td>\n",
       "      <td>63745</td>\n",
       "    </tr>\n",
       "    <tr>\n",
       "      <td>28</td>\n",
       "      <td>2013</td>\n",
       "      <td>103303</td>\n",
       "      <td>Shannon Mine</td>\n",
       "      <td>317491</td>\n",
       "      <td>164388</td>\n",
       "    </tr>\n",
       "    <tr>\n",
       "      <td>29</td>\n",
       "      <td>2013</td>\n",
       "      <td>103323</td>\n",
       "      <td>Deerlick Mine</td>\n",
       "      <td>133452</td>\n",
       "      <td>46381</td>\n",
       "    </tr>\n",
       "    <tr>\n",
       "      <td>30</td>\n",
       "      <td>2013</td>\n",
       "      <td>103364</td>\n",
       "      <td>Brc Alabama No. 7 Llc</td>\n",
       "      <td>0</td>\n",
       "      <td>14324</td>\n",
       "    </tr>\n",
       "    <tr>\n",
       "      <td>31</td>\n",
       "      <td>2013</td>\n",
       "      <td>103436</td>\n",
       "      <td>Swann's Crossing</td>\n",
       "      <td>137511</td>\n",
       "      <td>77190</td>\n",
       "    </tr>\n",
       "    <tr>\n",
       "      <td>32</td>\n",
       "      <td>2013</td>\n",
       "      <td>100347</td>\n",
       "      <td>Choctaw Mine</td>\n",
       "      <td>537429</td>\n",
       "      <td>215295</td>\n",
       "    </tr>\n",
       "    <tr>\n",
       "      <td>33</td>\n",
       "      <td>2013</td>\n",
       "      <td>101362</td>\n",
       "      <td>Manchester Mine</td>\n",
       "      <td>219457</td>\n",
       "      <td>116914</td>\n",
       "    </tr>\n",
       "    <tr>\n",
       "      <td>34</td>\n",
       "      <td>2013</td>\n",
       "      <td>102996</td>\n",
       "      <td>Jap Creek Mine</td>\n",
       "      <td>375715</td>\n",
       "      <td>164093</td>\n",
       "    </tr>\n",
       "    <tr>\n",
       "      <td>35</td>\n",
       "      <td>2013</td>\n",
       "      <td>103155</td>\n",
       "      <td>Corinth Prep Plant</td>\n",
       "      <td>0</td>\n",
       "      <td>27996</td>\n",
       "    </tr>\n",
       "    <tr>\n",
       "      <td>36</td>\n",
       "      <td>2013</td>\n",
       "      <td>103155</td>\n",
       "      <td>Corinth Prep Plant</td>\n",
       "      <td>0</td>\n",
       "      <td>51994</td>\n",
       "    </tr>\n",
       "    <tr>\n",
       "      <td>37</td>\n",
       "      <td>2013</td>\n",
       "      <td>103195</td>\n",
       "      <td>Mccollum/Sparks Branch Mine</td>\n",
       "      <td>71910</td>\n",
       "      <td>17411</td>\n",
       "    </tr>\n",
       "    <tr>\n",
       "      <td>38</td>\n",
       "      <td>2013</td>\n",
       "      <td>103342</td>\n",
       "      <td>Reese's Branch Mine</td>\n",
       "      <td>263888</td>\n",
       "      <td>115123</td>\n",
       "    </tr>\n",
       "    <tr>\n",
       "      <td>39</td>\n",
       "      <td>2013</td>\n",
       "      <td>103370</td>\n",
       "      <td>Cresent Valley Mine</td>\n",
       "      <td>2860</td>\n",
       "      <td>621</td>\n",
       "    </tr>\n",
       "    <tr>\n",
       "      <td>40</td>\n",
       "      <td>2013</td>\n",
       "      <td>103372</td>\n",
       "      <td>Cane Creek Mine</td>\n",
       "      <td>66258</td>\n",
       "      <td>32401</td>\n",
       "    </tr>\n",
       "    <tr>\n",
       "      <td>41</td>\n",
       "      <td>2013</td>\n",
       "      <td>103376</td>\n",
       "      <td>Town Creek</td>\n",
       "      <td>299167</td>\n",
       "      <td>176499</td>\n",
       "    </tr>\n",
       "    <tr>\n",
       "      <td>42</td>\n",
       "      <td>2013</td>\n",
       "      <td>103389</td>\n",
       "      <td>Carbon Hill Mine</td>\n",
       "      <td>76241</td>\n",
       "      <td>84966</td>\n",
       "    </tr>\n",
       "    <tr>\n",
       "      <td>43</td>\n",
       "      <td>2013</td>\n",
       "      <td>103410</td>\n",
       "      <td>Coal Valley Mine</td>\n",
       "      <td>407841</td>\n",
       "      <td>158591</td>\n",
       "    </tr>\n",
       "    <tr>\n",
       "      <td>44</td>\n",
       "      <td>2013</td>\n",
       "      <td>103423</td>\n",
       "      <td>Dutton Hill Mine</td>\n",
       "      <td>37275</td>\n",
       "      <td>9162</td>\n",
       "    </tr>\n",
       "    <tr>\n",
       "      <td>45</td>\n",
       "      <td>2013</td>\n",
       "      <td>1519322</td>\n",
       "      <td>Ghm #25</td>\n",
       "      <td>25054</td>\n",
       "      <td>3108</td>\n",
       "    </tr>\n",
       "    <tr>\n",
       "      <td>46</td>\n",
       "      <td>2013</td>\n",
       "      <td>103321</td>\n",
       "      <td>Poplar Springs</td>\n",
       "      <td>189370</td>\n",
       "      <td>76366</td>\n",
       "    </tr>\n",
       "    <tr>\n",
       "      <td>47</td>\n",
       "      <td>2013</td>\n",
       "      <td>103358</td>\n",
       "      <td>Old Union</td>\n",
       "      <td>284563</td>\n",
       "      <td>161805</td>\n",
       "    </tr>\n",
       "    <tr>\n",
       "      <td>48</td>\n",
       "      <td>2013</td>\n",
       "      <td>5000030</td>\n",
       "      <td>Usibelli</td>\n",
       "      <td>1631584</td>\n",
       "      <td>286079</td>\n",
       "    </tr>\n",
       "    <tr>\n",
       "      <td>49</td>\n",
       "      <td>2013</td>\n",
       "      <td>201195</td>\n",
       "      <td>Kayenta Mine</td>\n",
       "      <td>7602722</td>\n",
       "      <td>1015333</td>\n",
       "    </tr>\n",
       "  </tbody>\n",
       "</table>\n",
       "</div>"
      ],
      "text/plain": [
       "    Year  MSHA ID                       Mine_Name  Production  Labor_Hours\n",
       "0   2013   103381            Tacoa Highwall Miner       56004        22392\n",
       "1   2013   103404                Reid School Mine       28807        28447\n",
       "2   2013   100759  North River #1 Underground Min     1440115       474784\n",
       "3   2013   103246                      Bear Creek       87587        29193\n",
       "4   2013   103451                     Knight Mine      147499        46393\n",
       "5   2013   103433              Crane Central Mine       69339        47195\n",
       "6   2013   100329                    Concord Mine           0       144002\n",
       "7   2013   100851                  Oak Grove Mine     2269014      1001809\n",
       "8   2013   102901                Shoal Creek Mine           0        12396\n",
       "9   2013   102901                Shoal Creek Mine     1453024      1237415\n",
       "10  2013   103180             Sloan Mountain Mine      327780       196963\n",
       "11  2013   103182                        Fishtrap      175058        87314\n",
       "12  2013   103285                     Narley Mine      154861        90584\n",
       "13  2013   103332                   Powhatan Mine      140521        61394\n",
       "14  2013   103375                    Johnson Mine         580         1900\n",
       "15  2013   103419               Maxine-Pratt Mine      125824       107469\n",
       "16  2013   103432                   Skelton Creek        8252          220\n",
       "17  2013   103437         Black Warrior Mine No 1      145924        70926\n",
       "18  2013   102976   Piney Woods Preparation Plant           0        14828\n",
       "19  2013   102976   Piney Woods Preparation Plant           0        23193\n",
       "20  2013   103380                          Calera           0        12621\n",
       "21  2013   103380                          Calera           0         1402\n",
       "22  2013   103422                 Clark No 1 Mine      122727       140250\n",
       "23  2013   103467             Helena Surface Mine       59664        30539\n",
       "24  2013   101247                       No 4 Mine     2622528      1551141\n",
       "25  2013   101401                       No 7 Mine     5405412      2464719\n",
       "26  2013   103172  Searles Mine No. 2, 3, 4, 5, 6      258078       119542\n",
       "27  2013   103179             Fleetwood Mine No 1       75937        63745\n",
       "28  2013   103303                    Shannon Mine      317491       164388\n",
       "29  2013   103323                   Deerlick Mine      133452        46381\n",
       "30  2013   103364           Brc Alabama No. 7 Llc           0        14324\n",
       "31  2013   103436                Swann's Crossing      137511        77190\n",
       "32  2013   100347                    Choctaw Mine      537429       215295\n",
       "33  2013   101362                 Manchester Mine      219457       116914\n",
       "34  2013   102996                  Jap Creek Mine      375715       164093\n",
       "35  2013   103155              Corinth Prep Plant           0        27996\n",
       "36  2013   103155              Corinth Prep Plant           0        51994\n",
       "37  2013   103195     Mccollum/Sparks Branch Mine       71910        17411\n",
       "38  2013   103342             Reese's Branch Mine      263888       115123\n",
       "39  2013   103370             Cresent Valley Mine        2860          621\n",
       "40  2013   103372                 Cane Creek Mine       66258        32401\n",
       "41  2013   103376                      Town Creek      299167       176499\n",
       "42  2013   103389                Carbon Hill Mine       76241        84966\n",
       "43  2013   103410                Coal Valley Mine      407841       158591\n",
       "44  2013   103423                Dutton Hill Mine       37275         9162\n",
       "45  2013  1519322                         Ghm #25       25054         3108\n",
       "46  2013   103321                  Poplar Springs      189370        76366\n",
       "47  2013   103358                       Old Union      284563       161805\n",
       "48  2013  5000030                        Usibelli     1631584       286079\n",
       "49  2013   201195                    Kayenta Mine     7602722      1015333"
      ]
     },
     "execution_count": 72,
     "metadata": {},
     "output_type": "execute_result"
    }
   ],
   "source": [
    "import pandas as pd\n",
    "df=pd.read_excel('coalpublic2013.xlsx')\n",
    "df"
   ]
  },
  {
   "cell_type": "markdown",
   "metadata": {},
   "source": [
    "Q118. Write a Pandas program to import excel data (coalpublic2013.xlsx\n",
    ") into a data frame and find details where \"Mine Name\" starts with\n",
    "\"P"
   ]
  },
  {
   "cell_type": "code",
   "execution_count": 69,
   "metadata": {},
   "outputs": [
    {
     "data": {
      "text/html": [
       "<div>\n",
       "<style scoped>\n",
       "    .dataframe tbody tr th:only-of-type {\n",
       "        vertical-align: middle;\n",
       "    }\n",
       "\n",
       "    .dataframe tbody tr th {\n",
       "        vertical-align: top;\n",
       "    }\n",
       "\n",
       "    .dataframe thead th {\n",
       "        text-align: right;\n",
       "    }\n",
       "</style>\n",
       "<table border=\"1\" class=\"dataframe\">\n",
       "  <thead>\n",
       "    <tr style=\"text-align: right;\">\n",
       "      <th></th>\n",
       "      <th>Year</th>\n",
       "      <th>MSHA ID</th>\n",
       "      <th>Mine_Name</th>\n",
       "      <th>Production</th>\n",
       "      <th>Labor_Hours</th>\n",
       "    </tr>\n",
       "  </thead>\n",
       "  <tbody>\n",
       "    <tr>\n",
       "      <td>13</td>\n",
       "      <td>2013</td>\n",
       "      <td>103332</td>\n",
       "      <td>Powhatan Mine</td>\n",
       "      <td>140521</td>\n",
       "      <td>61394</td>\n",
       "    </tr>\n",
       "    <tr>\n",
       "      <td>18</td>\n",
       "      <td>2013</td>\n",
       "      <td>102976</td>\n",
       "      <td>Piney Woods Preparation Plant</td>\n",
       "      <td>0</td>\n",
       "      <td>14828</td>\n",
       "    </tr>\n",
       "    <tr>\n",
       "      <td>19</td>\n",
       "      <td>2013</td>\n",
       "      <td>102976</td>\n",
       "      <td>Piney Woods Preparation Plant</td>\n",
       "      <td>0</td>\n",
       "      <td>23193</td>\n",
       "    </tr>\n",
       "    <tr>\n",
       "      <td>46</td>\n",
       "      <td>2013</td>\n",
       "      <td>103321</td>\n",
       "      <td>Poplar Springs</td>\n",
       "      <td>189370</td>\n",
       "      <td>76366</td>\n",
       "    </tr>\n",
       "  </tbody>\n",
       "</table>\n",
       "</div>"
      ],
      "text/plain": [
       "    Year  MSHA ID                      Mine_Name  Production  Labor_Hours\n",
       "13  2013   103332                  Powhatan Mine      140521        61394\n",
       "18  2013   102976  Piney Woods Preparation Plant           0        14828\n",
       "19  2013   102976  Piney Woods Preparation Plant           0        23193\n",
       "46  2013   103321                 Poplar Springs      189370        76366"
      ]
     },
     "execution_count": 69,
     "metadata": {},
     "output_type": "execute_result"
    }
   ],
   "source": [
    "import pandas as pd\n",
    "df=pd.read_excel('coalpublic2013.xlsx')\n",
    "df[df[\"Mine_Name\"].map(lambda x: x.startswith('P'))]"
   ]
  },
  {
   "cell_type": "markdown",
   "metadata": {},
   "source": [
    "Q119. Write a Pandas program to import excel data (employee.xlsx )\n",
    "into a Pandas dataframe and find the list of employees where\n",
    "hire_date> 01-01-07."
   ]
  },
  {
   "cell_type": "code",
   "execution_count": 74,
   "metadata": {},
   "outputs": [
    {
     "data": {
      "text/html": [
       "<div>\n",
       "<style scoped>\n",
       "    .dataframe tbody tr th:only-of-type {\n",
       "        vertical-align: middle;\n",
       "    }\n",
       "\n",
       "    .dataframe tbody tr th {\n",
       "        vertical-align: top;\n",
       "    }\n",
       "\n",
       "    .dataframe thead th {\n",
       "        text-align: right;\n",
       "    }\n",
       "</style>\n",
       "<table border=\"1\" class=\"dataframe\">\n",
       "  <thead>\n",
       "    <tr style=\"text-align: right;\">\n",
       "      <th></th>\n",
       "      <th>emp_id</th>\n",
       "      <th>first_name</th>\n",
       "      <th>last_name</th>\n",
       "      <th>hire_date</th>\n",
       "    </tr>\n",
       "  </thead>\n",
       "  <tbody>\n",
       "    <tr>\n",
       "      <td>4</td>\n",
       "      <td>104</td>\n",
       "      <td>Bruce</td>\n",
       "      <td>Ernst</td>\n",
       "      <td>2007-05-21</td>\n",
       "    </tr>\n",
       "    <tr>\n",
       "      <td>7</td>\n",
       "      <td>107</td>\n",
       "      <td>Diana</td>\n",
       "      <td>Lorentz</td>\n",
       "      <td>2007-02-07</td>\n",
       "    </tr>\n",
       "    <tr>\n",
       "      <td>13</td>\n",
       "      <td>113</td>\n",
       "      <td>Luis</td>\n",
       "      <td>Popp</td>\n",
       "      <td>2007-12-07</td>\n",
       "    </tr>\n",
       "    <tr>\n",
       "      <td>19</td>\n",
       "      <td>119</td>\n",
       "      <td>Karen</td>\n",
       "      <td>Colmenares</td>\n",
       "      <td>2007-08-10</td>\n",
       "    </tr>\n",
       "  </tbody>\n",
       "</table>\n",
       "</div>"
      ],
      "text/plain": [
       "    emp_id first_name   last_name  hire_date\n",
       "4      104      Bruce       Ernst 2007-05-21\n",
       "7      107      Diana     Lorentz 2007-02-07\n",
       "13     113       Luis        Popp 2007-12-07\n",
       "19     119      Karen  Colmenares 2007-08-10"
      ]
     },
     "execution_count": 74,
     "metadata": {},
     "output_type": "execute_result"
    }
   ],
   "source": [
    "import pandas as pd\n",
    "df=pd.read_excel('employee.xlsx')\n",
    "df[df['hire_date']>='20070101']"
   ]
  },
  {
   "cell_type": "markdown",
   "metadata": {},
   "source": [
    "Q120. Write a Pandas program to import excel data (employee.xlsx )\n",
    "into a Pandas dataframe and find a list of the employees of a specified\n",
    "year"
   ]
  },
  {
   "cell_type": "code",
   "execution_count": 75,
   "metadata": {},
   "outputs": [
    {
     "data": {
      "text/html": [
       "<div>\n",
       "<style scoped>\n",
       "    .dataframe tbody tr th:only-of-type {\n",
       "        vertical-align: middle;\n",
       "    }\n",
       "\n",
       "    .dataframe tbody tr th {\n",
       "        vertical-align: top;\n",
       "    }\n",
       "\n",
       "    .dataframe thead th {\n",
       "        text-align: right;\n",
       "    }\n",
       "</style>\n",
       "<table border=\"1\" class=\"dataframe\">\n",
       "  <thead>\n",
       "    <tr style=\"text-align: right;\">\n",
       "      <th></th>\n",
       "      <th>emp_id</th>\n",
       "      <th>first_name</th>\n",
       "      <th>last_name</th>\n",
       "      <th>hire_date</th>\n",
       "      <th>hire_year</th>\n",
       "    </tr>\n",
       "  </thead>\n",
       "  <tbody>\n",
       "    <tr>\n",
       "      <td>4</td>\n",
       "      <td>104</td>\n",
       "      <td>Bruce</td>\n",
       "      <td>Ernst</td>\n",
       "      <td>2007-05-21</td>\n",
       "      <td>2007</td>\n",
       "    </tr>\n",
       "    <tr>\n",
       "      <td>7</td>\n",
       "      <td>107</td>\n",
       "      <td>Diana</td>\n",
       "      <td>Lorentz</td>\n",
       "      <td>2007-02-07</td>\n",
       "      <td>2007</td>\n",
       "    </tr>\n",
       "    <tr>\n",
       "      <td>13</td>\n",
       "      <td>113</td>\n",
       "      <td>Luis</td>\n",
       "      <td>Popp</td>\n",
       "      <td>2007-12-07</td>\n",
       "      <td>2007</td>\n",
       "    </tr>\n",
       "    <tr>\n",
       "      <td>19</td>\n",
       "      <td>119</td>\n",
       "      <td>Karen</td>\n",
       "      <td>Colmenares</td>\n",
       "      <td>2007-08-10</td>\n",
       "      <td>2007</td>\n",
       "    </tr>\n",
       "  </tbody>\n",
       "</table>\n",
       "</div>"
      ],
      "text/plain": [
       "    emp_id first_name   last_name  hire_date hire_year\n",
       "4      104      Bruce       Ernst 2007-05-21      2007\n",
       "7      107      Diana     Lorentz 2007-02-07      2007\n",
       "13     113       Luis        Popp 2007-12-07      2007\n",
       "19     119      Karen  Colmenares 2007-08-10      2007"
      ]
     },
     "execution_count": 75,
     "metadata": {},
     "output_type": "execute_result"
    }
   ],
   "source": [
    "import pandas as pd\n",
    "df=pd.read_excel('employee.xlsx')\n",
    "df['hire_year']=df['hire_date'].dt.year.astype('str')\n",
    "yr='2007'\n",
    "df[df['hire_year'].map(lambda x: x.startswith(yr))]"
   ]
  },
  {
   "cell_type": "markdown",
   "metadata": {},
   "source": [
    "Q121. Write a pandas program to import three datasheets from a given\n",
    "excel data (coalpublic2013.xlsx ) in to a single dataframe"
   ]
  },
  {
   "cell_type": "code",
   "execution_count": 76,
   "metadata": {},
   "outputs": [
    {
     "name": "stdout",
     "output_type": "stream",
     "text": [
      "<class 'pandas.core.frame.DataFrame'>\n",
      "RangeIndex: 50 entries, 0 to 49\n",
      "Data columns (total 5 columns):\n",
      "Year           50 non-null int64\n",
      "MSHA ID        50 non-null int64\n",
      "Mine_Name      50 non-null object\n",
      "Production     50 non-null int64\n",
      "Labor_Hours    50 non-null int64\n",
      "dtypes: int64(4), object(1)\n",
      "memory usage: 2.1+ KB\n"
     ]
    }
   ],
   "source": [
    "import pandas as pd\n",
    "df1=pd.read_excel('coalpublic2013.xlsx',sheet_name=0)\n",
    "df=pd.concat([df1])\n",
    "df.info()"
   ]
  },
  {
   "cell_type": "markdown",
   "metadata": {},
   "source": [
    "Q 122. Write a pandas program to import three datasheets from a given\n",
    "excel data (employee.xlsx ) into a single data frame and export the\n",
    "result into new Excel file."
   ]
  },
  {
   "cell_type": "code",
   "execution_count": 79,
   "metadata": {},
   "outputs": [
    {
     "data": {
      "text/html": [
       "<div>\n",
       "<style scoped>\n",
       "    .dataframe tbody tr th:only-of-type {\n",
       "        vertical-align: middle;\n",
       "    }\n",
       "\n",
       "    .dataframe tbody tr th {\n",
       "        vertical-align: top;\n",
       "    }\n",
       "\n",
       "    .dataframe thead th {\n",
       "        text-align: right;\n",
       "    }\n",
       "</style>\n",
       "<table border=\"1\" class=\"dataframe\">\n",
       "  <thead>\n",
       "    <tr style=\"text-align: right;\">\n",
       "      <th></th>\n",
       "      <th>emp_id</th>\n",
       "      <th>first_name</th>\n",
       "      <th>last_name</th>\n",
       "      <th>hire_date</th>\n",
       "    </tr>\n",
       "  </thead>\n",
       "  <tbody>\n",
       "    <tr>\n",
       "      <td>0</td>\n",
       "      <td>100</td>\n",
       "      <td>Steven</td>\n",
       "      <td>King</td>\n",
       "      <td>2003-06-17</td>\n",
       "    </tr>\n",
       "    <tr>\n",
       "      <td>1</td>\n",
       "      <td>101</td>\n",
       "      <td>Neena</td>\n",
       "      <td>Kochhar</td>\n",
       "      <td>2005-09-21</td>\n",
       "    </tr>\n",
       "    <tr>\n",
       "      <td>2</td>\n",
       "      <td>102</td>\n",
       "      <td>Lex</td>\n",
       "      <td>De Haan</td>\n",
       "      <td>2001-01-13</td>\n",
       "    </tr>\n",
       "    <tr>\n",
       "      <td>3</td>\n",
       "      <td>103</td>\n",
       "      <td>Alexander</td>\n",
       "      <td>Hunold</td>\n",
       "      <td>2006-01-03</td>\n",
       "    </tr>\n",
       "    <tr>\n",
       "      <td>4</td>\n",
       "      <td>104</td>\n",
       "      <td>Bruce</td>\n",
       "      <td>Ernst</td>\n",
       "      <td>2007-05-21</td>\n",
       "    </tr>\n",
       "    <tr>\n",
       "      <td>5</td>\n",
       "      <td>105</td>\n",
       "      <td>David</td>\n",
       "      <td>Austin</td>\n",
       "      <td>2005-06-25</td>\n",
       "    </tr>\n",
       "    <tr>\n",
       "      <td>6</td>\n",
       "      <td>106</td>\n",
       "      <td>Valli</td>\n",
       "      <td>Pataballa</td>\n",
       "      <td>2006-02-05</td>\n",
       "    </tr>\n",
       "    <tr>\n",
       "      <td>7</td>\n",
       "      <td>107</td>\n",
       "      <td>Diana</td>\n",
       "      <td>Lorentz</td>\n",
       "      <td>2007-02-07</td>\n",
       "    </tr>\n",
       "    <tr>\n",
       "      <td>8</td>\n",
       "      <td>108</td>\n",
       "      <td>Nancy</td>\n",
       "      <td>Greenberg</td>\n",
       "      <td>2002-08-17</td>\n",
       "    </tr>\n",
       "    <tr>\n",
       "      <td>9</td>\n",
       "      <td>109</td>\n",
       "      <td>Daniel</td>\n",
       "      <td>Faviet</td>\n",
       "      <td>2002-08-16</td>\n",
       "    </tr>\n",
       "    <tr>\n",
       "      <td>10</td>\n",
       "      <td>110</td>\n",
       "      <td>John</td>\n",
       "      <td>Chen</td>\n",
       "      <td>2005-09-28</td>\n",
       "    </tr>\n",
       "    <tr>\n",
       "      <td>11</td>\n",
       "      <td>111</td>\n",
       "      <td>Ismael</td>\n",
       "      <td>Sciarra</td>\n",
       "      <td>2005-09-30</td>\n",
       "    </tr>\n",
       "    <tr>\n",
       "      <td>12</td>\n",
       "      <td>112</td>\n",
       "      <td>Jose Manuel</td>\n",
       "      <td>Urman</td>\n",
       "      <td>2006-03-07</td>\n",
       "    </tr>\n",
       "    <tr>\n",
       "      <td>13</td>\n",
       "      <td>113</td>\n",
       "      <td>Luis</td>\n",
       "      <td>Popp</td>\n",
       "      <td>2007-12-07</td>\n",
       "    </tr>\n",
       "    <tr>\n",
       "      <td>14</td>\n",
       "      <td>114</td>\n",
       "      <td>Den</td>\n",
       "      <td>Raphaely</td>\n",
       "      <td>2002-12-07</td>\n",
       "    </tr>\n",
       "    <tr>\n",
       "      <td>15</td>\n",
       "      <td>115</td>\n",
       "      <td>Alexander</td>\n",
       "      <td>Khoo</td>\n",
       "      <td>2003-05-18</td>\n",
       "    </tr>\n",
       "    <tr>\n",
       "      <td>16</td>\n",
       "      <td>116</td>\n",
       "      <td>Shelli</td>\n",
       "      <td>Baida</td>\n",
       "      <td>2005-12-24</td>\n",
       "    </tr>\n",
       "    <tr>\n",
       "      <td>17</td>\n",
       "      <td>117</td>\n",
       "      <td>Sigal</td>\n",
       "      <td>Tobias</td>\n",
       "      <td>2005-07-24</td>\n",
       "    </tr>\n",
       "    <tr>\n",
       "      <td>18</td>\n",
       "      <td>118</td>\n",
       "      <td>Guy</td>\n",
       "      <td>Himuro</td>\n",
       "      <td>2006-11-15</td>\n",
       "    </tr>\n",
       "    <tr>\n",
       "      <td>19</td>\n",
       "      <td>119</td>\n",
       "      <td>Karen</td>\n",
       "      <td>Colmenares</td>\n",
       "      <td>2007-08-10</td>\n",
       "    </tr>\n",
       "    <tr>\n",
       "      <td>20</td>\n",
       "      <td>120</td>\n",
       "      <td>Matthew</td>\n",
       "      <td>Weiss</td>\n",
       "      <td>2004-07-18</td>\n",
       "    </tr>\n",
       "    <tr>\n",
       "      <td>21</td>\n",
       "      <td>121</td>\n",
       "      <td>Adam</td>\n",
       "      <td>Fripp</td>\n",
       "      <td>2005-04-10</td>\n",
       "    </tr>\n",
       "    <tr>\n",
       "      <td>22</td>\n",
       "      <td>122</td>\n",
       "      <td>Payam</td>\n",
       "      <td>Kaufling</td>\n",
       "      <td>2003-05-01</td>\n",
       "    </tr>\n",
       "    <tr>\n",
       "      <td>23</td>\n",
       "      <td>123</td>\n",
       "      <td>Shanta</td>\n",
       "      <td>Vollman</td>\n",
       "      <td>2005-10-10</td>\n",
       "    </tr>\n",
       "    <tr>\n",
       "      <td>24</td>\n",
       "      <td>124</td>\n",
       "      <td>Kevin</td>\n",
       "      <td>Mourgos</td>\n",
       "      <td>2007-11-16</td>\n",
       "    </tr>\n",
       "    <tr>\n",
       "      <td>25</td>\n",
       "      <td>125</td>\n",
       "      <td>Julia</td>\n",
       "      <td>Nayer</td>\n",
       "      <td>2005-07-16</td>\n",
       "    </tr>\n",
       "    <tr>\n",
       "      <td>26</td>\n",
       "      <td>126</td>\n",
       "      <td>Irene</td>\n",
       "      <td>Mikkilineni</td>\n",
       "      <td>2006-09-28</td>\n",
       "    </tr>\n",
       "    <tr>\n",
       "      <td>27</td>\n",
       "      <td>127</td>\n",
       "      <td>James</td>\n",
       "      <td>Landry</td>\n",
       "      <td>2007-01-14</td>\n",
       "    </tr>\n",
       "    <tr>\n",
       "      <td>28</td>\n",
       "      <td>128</td>\n",
       "      <td>Steven</td>\n",
       "      <td>Markle</td>\n",
       "      <td>2008-03-08</td>\n",
       "    </tr>\n",
       "    <tr>\n",
       "      <td>29</td>\n",
       "      <td>129</td>\n",
       "      <td>Laura</td>\n",
       "      <td>Bissot</td>\n",
       "      <td>2005-08-20</td>\n",
       "    </tr>\n",
       "    <tr>\n",
       "      <td>30</td>\n",
       "      <td>130</td>\n",
       "      <td>Mozhe</td>\n",
       "      <td>Atkinson</td>\n",
       "      <td>2005-10-30</td>\n",
       "    </tr>\n",
       "    <tr>\n",
       "      <td>31</td>\n",
       "      <td>131</td>\n",
       "      <td>James</td>\n",
       "      <td>Marlow</td>\n",
       "      <td>2005-02-16</td>\n",
       "    </tr>\n",
       "    <tr>\n",
       "      <td>32</td>\n",
       "      <td>132</td>\n",
       "      <td>TJ</td>\n",
       "      <td>Olson</td>\n",
       "      <td>2007-04-10</td>\n",
       "    </tr>\n",
       "    <tr>\n",
       "      <td>33</td>\n",
       "      <td>133</td>\n",
       "      <td>Jason</td>\n",
       "      <td>Mallin</td>\n",
       "      <td>2004-06-14</td>\n",
       "    </tr>\n",
       "    <tr>\n",
       "      <td>34</td>\n",
       "      <td>134</td>\n",
       "      <td>Michael</td>\n",
       "      <td>Rogers</td>\n",
       "      <td>2006-08-26</td>\n",
       "    </tr>\n",
       "    <tr>\n",
       "      <td>35</td>\n",
       "      <td>135</td>\n",
       "      <td>Ki</td>\n",
       "      <td>Gee</td>\n",
       "      <td>2007-12-12</td>\n",
       "    </tr>\n",
       "    <tr>\n",
       "      <td>36</td>\n",
       "      <td>136</td>\n",
       "      <td>Hazel</td>\n",
       "      <td>Philtanker</td>\n",
       "      <td>2008-02-06</td>\n",
       "    </tr>\n",
       "    <tr>\n",
       "      <td>37</td>\n",
       "      <td>137</td>\n",
       "      <td>Renske</td>\n",
       "      <td>Ladwig</td>\n",
       "      <td>2003-07-14</td>\n",
       "    </tr>\n",
       "    <tr>\n",
       "      <td>38</td>\n",
       "      <td>138</td>\n",
       "      <td>Stephen</td>\n",
       "      <td>Stiles</td>\n",
       "      <td>2005-10-26</td>\n",
       "    </tr>\n",
       "    <tr>\n",
       "      <td>39</td>\n",
       "      <td>141</td>\n",
       "      <td>Trenna</td>\n",
       "      <td>Rajs</td>\n",
       "      <td>2003-10-17</td>\n",
       "    </tr>\n",
       "    <tr>\n",
       "      <td>40</td>\n",
       "      <td>142</td>\n",
       "      <td>Curtis</td>\n",
       "      <td>Davies</td>\n",
       "      <td>2005-01-29</td>\n",
       "    </tr>\n",
       "    <tr>\n",
       "      <td>41</td>\n",
       "      <td>143</td>\n",
       "      <td>Randall</td>\n",
       "      <td>Matos</td>\n",
       "      <td>2006-03-15</td>\n",
       "    </tr>\n",
       "    <tr>\n",
       "      <td>42</td>\n",
       "      <td>144</td>\n",
       "      <td>Peter</td>\n",
       "      <td>Vargas</td>\n",
       "      <td>2006-07-09</td>\n",
       "    </tr>\n",
       "    <tr>\n",
       "      <td>43</td>\n",
       "      <td>145</td>\n",
       "      <td>John</td>\n",
       "      <td>Russell</td>\n",
       "      <td>2004-10-01</td>\n",
       "    </tr>\n",
       "    <tr>\n",
       "      <td>44</td>\n",
       "      <td>146</td>\n",
       "      <td>Karen</td>\n",
       "      <td>Partners</td>\n",
       "      <td>2005-01-05</td>\n",
       "    </tr>\n",
       "    <tr>\n",
       "      <td>45</td>\n",
       "      <td>147</td>\n",
       "      <td>Alberto</td>\n",
       "      <td>Errazuriz</td>\n",
       "      <td>2005-03-10</td>\n",
       "    </tr>\n",
       "    <tr>\n",
       "      <td>46</td>\n",
       "      <td>148</td>\n",
       "      <td>Gerald</td>\n",
       "      <td>Cambrault</td>\n",
       "      <td>2007-10-15</td>\n",
       "    </tr>\n",
       "    <tr>\n",
       "      <td>47</td>\n",
       "      <td>149</td>\n",
       "      <td>Eleni</td>\n",
       "      <td>Zlotkey</td>\n",
       "      <td>2008-01-29</td>\n",
       "    </tr>\n",
       "  </tbody>\n",
       "</table>\n",
       "</div>"
      ],
      "text/plain": [
       "    emp_id   first_name    last_name  hire_date\n",
       "0      100       Steven         King 2003-06-17\n",
       "1      101        Neena      Kochhar 2005-09-21\n",
       "2      102          Lex      De Haan 2001-01-13\n",
       "3      103    Alexander       Hunold 2006-01-03\n",
       "4      104        Bruce        Ernst 2007-05-21\n",
       "5      105        David       Austin 2005-06-25\n",
       "6      106        Valli    Pataballa 2006-02-05\n",
       "7      107        Diana      Lorentz 2007-02-07\n",
       "8      108        Nancy    Greenberg 2002-08-17\n",
       "9      109       Daniel       Faviet 2002-08-16\n",
       "10     110         John         Chen 2005-09-28\n",
       "11     111       Ismael      Sciarra 2005-09-30\n",
       "12     112  Jose Manuel        Urman 2006-03-07\n",
       "13     113         Luis         Popp 2007-12-07\n",
       "14     114          Den     Raphaely 2002-12-07\n",
       "15     115    Alexander         Khoo 2003-05-18\n",
       "16     116       Shelli        Baida 2005-12-24\n",
       "17     117        Sigal       Tobias 2005-07-24\n",
       "18     118          Guy       Himuro 2006-11-15\n",
       "19     119        Karen   Colmenares 2007-08-10\n",
       "20     120      Matthew        Weiss 2004-07-18\n",
       "21     121         Adam        Fripp 2005-04-10\n",
       "22     122        Payam     Kaufling 2003-05-01\n",
       "23     123       Shanta      Vollman 2005-10-10\n",
       "24     124        Kevin      Mourgos 2007-11-16\n",
       "25     125        Julia        Nayer 2005-07-16\n",
       "26     126        Irene  Mikkilineni 2006-09-28\n",
       "27     127        James       Landry 2007-01-14\n",
       "28     128       Steven       Markle 2008-03-08\n",
       "29     129        Laura       Bissot 2005-08-20\n",
       "30     130        Mozhe     Atkinson 2005-10-30\n",
       "31     131        James       Marlow 2005-02-16\n",
       "32     132           TJ        Olson 2007-04-10\n",
       "33     133        Jason       Mallin 2004-06-14\n",
       "34     134      Michael       Rogers 2006-08-26\n",
       "35     135           Ki          Gee 2007-12-12\n",
       "36     136        Hazel   Philtanker 2008-02-06\n",
       "37     137       Renske       Ladwig 2003-07-14\n",
       "38     138      Stephen       Stiles 2005-10-26\n",
       "39     141       Trenna         Rajs 2003-10-17\n",
       "40     142       Curtis       Davies 2005-01-29\n",
       "41     143      Randall        Matos 2006-03-15\n",
       "42     144        Peter       Vargas 2006-07-09\n",
       "43     145         John      Russell 2004-10-01\n",
       "44     146        Karen     Partners 2005-01-05\n",
       "45     147      Alberto    Errazuriz 2005-03-10\n",
       "46     148       Gerald    Cambrault 2007-10-15\n",
       "47     149        Eleni      Zlotkey 2008-01-29"
      ]
     },
     "execution_count": 79,
     "metadata": {},
     "output_type": "execute_result"
    }
   ],
   "source": [
    "import pandas as pd\n",
    "df1=pd.read_excel('employee.xlsx',sheet_name=0)\n",
    "df2=pd.read_excel('employee.xlsx',sheet_name=1)\n",
    "df3=pd.read_excel('employee.xlsx',sheet_name=2)\n",
    "df=pd.concat([df1,df2,df3])\n",
    "df.to_excel(\"employee_new.xlsx\",sheet_name='Combined Data',index=False)\n",
    "\n",
    "df_new = pd.read_excel('employee_new.xlsx',sheet_name='Combined Data')\n",
    "df_new"
   ]
  },
  {
   "cell_type": "code",
   "execution_count": null,
   "metadata": {},
   "outputs": [],
   "source": [
    "Q123. Write a pandas program to create the Pivot table with multiple\n",
    "indexes from the data set of the titanic.csv."
   ]
  },
  {
   "cell_type": "code",
   "execution_count": 82,
   "metadata": {},
   "outputs": [
    {
     "data": {
      "text/html": [
       "<div>\n",
       "<style scoped>\n",
       "    .dataframe tbody tr th:only-of-type {\n",
       "        vertical-align: middle;\n",
       "    }\n",
       "\n",
       "    .dataframe tbody tr th {\n",
       "        vertical-align: top;\n",
       "    }\n",
       "\n",
       "    .dataframe thead th {\n",
       "        text-align: right;\n",
       "    }\n",
       "</style>\n",
       "<table border=\"1\" class=\"dataframe\">\n",
       "  <thead>\n",
       "    <tr style=\"text-align: right;\">\n",
       "      <th></th>\n",
       "      <th></th>\n",
       "      <th>Unnamed: 15</th>\n",
       "      <th>adult_male</th>\n",
       "      <th>alone</th>\n",
       "      <th>fare</th>\n",
       "      <th>parch</th>\n",
       "      <th>pclass</th>\n",
       "      <th>sibsp</th>\n",
       "      <th>survived</th>\n",
       "    </tr>\n",
       "    <tr>\n",
       "      <th>sex</th>\n",
       "      <th>age</th>\n",
       "      <th></th>\n",
       "      <th></th>\n",
       "      <th></th>\n",
       "      <th></th>\n",
       "      <th></th>\n",
       "      <th></th>\n",
       "      <th></th>\n",
       "      <th></th>\n",
       "    </tr>\n",
       "  </thead>\n",
       "  <tbody>\n",
       "    <tr>\n",
       "      <td rowspan=\"63\" valign=\"top\">female</td>\n",
       "      <td>0.75</td>\n",
       "      <td>0.0</td>\n",
       "      <td>0.0</td>\n",
       "      <td>0.0</td>\n",
       "      <td>38.5166</td>\n",
       "      <td>2</td>\n",
       "      <td>6</td>\n",
       "      <td>4</td>\n",
       "      <td>2</td>\n",
       "    </tr>\n",
       "    <tr>\n",
       "      <td>1.00</td>\n",
       "      <td>0.0</td>\n",
       "      <td>0.0</td>\n",
       "      <td>0.0</td>\n",
       "      <td>26.8750</td>\n",
       "      <td>3</td>\n",
       "      <td>6</td>\n",
       "      <td>1</td>\n",
       "      <td>2</td>\n",
       "    </tr>\n",
       "    <tr>\n",
       "      <td>2.00</td>\n",
       "      <td>0.0</td>\n",
       "      <td>0.0</td>\n",
       "      <td>0.0</td>\n",
       "      <td>259.4750</td>\n",
       "      <td>9</td>\n",
       "      <td>15</td>\n",
       "      <td>9</td>\n",
       "      <td>2</td>\n",
       "    </tr>\n",
       "    <tr>\n",
       "      <td>3.00</td>\n",
       "      <td>0.0</td>\n",
       "      <td>0.0</td>\n",
       "      <td>0.0</td>\n",
       "      <td>62.6542</td>\n",
       "      <td>3</td>\n",
       "      <td>5</td>\n",
       "      <td>4</td>\n",
       "      <td>1</td>\n",
       "    </tr>\n",
       "    <tr>\n",
       "      <td>4.00</td>\n",
       "      <td>0.0</td>\n",
       "      <td>0.0</td>\n",
       "      <td>0.0</td>\n",
       "      <td>114.1417</td>\n",
       "      <td>6</td>\n",
       "      <td>13</td>\n",
       "      <td>4</td>\n",
       "      <td>5</td>\n",
       "    </tr>\n",
       "    <tr>\n",
       "      <td>5.00</td>\n",
       "      <td>0.0</td>\n",
       "      <td>0.0</td>\n",
       "      <td>1.0</td>\n",
       "      <td>90.8708</td>\n",
       "      <td>5</td>\n",
       "      <td>11</td>\n",
       "      <td>7</td>\n",
       "      <td>4</td>\n",
       "    </tr>\n",
       "    <tr>\n",
       "      <td>6.00</td>\n",
       "      <td>0.0</td>\n",
       "      <td>0.0</td>\n",
       "      <td>0.0</td>\n",
       "      <td>64.2750</td>\n",
       "      <td>3</td>\n",
       "      <td>5</td>\n",
       "      <td>4</td>\n",
       "      <td>1</td>\n",
       "    </tr>\n",
       "    <tr>\n",
       "      <td>7.00</td>\n",
       "      <td>0.0</td>\n",
       "      <td>0.0</td>\n",
       "      <td>0.0</td>\n",
       "      <td>26.2500</td>\n",
       "      <td>2</td>\n",
       "      <td>2</td>\n",
       "      <td>0</td>\n",
       "      <td>1</td>\n",
       "    </tr>\n",
       "    <tr>\n",
       "      <td>8.00</td>\n",
       "      <td>0.0</td>\n",
       "      <td>0.0</td>\n",
       "      <td>0.0</td>\n",
       "      <td>47.3250</td>\n",
       "      <td>3</td>\n",
       "      <td>5</td>\n",
       "      <td>3</td>\n",
       "      <td>1</td>\n",
       "    </tr>\n",
       "    <tr>\n",
       "      <td>9.00</td>\n",
       "      <td>0.0</td>\n",
       "      <td>0.0</td>\n",
       "      <td>0.0</td>\n",
       "      <td>108.7958</td>\n",
       "      <td>7</td>\n",
       "      <td>12</td>\n",
       "      <td>10</td>\n",
       "      <td>0</td>\n",
       "    </tr>\n",
       "    <tr>\n",
       "      <td>10.00</td>\n",
       "      <td>0.0</td>\n",
       "      <td>0.0</td>\n",
       "      <td>0.0</td>\n",
       "      <td>24.1500</td>\n",
       "      <td>2</td>\n",
       "      <td>3</td>\n",
       "      <td>0</td>\n",
       "      <td>0</td>\n",
       "    </tr>\n",
       "    <tr>\n",
       "      <td>11.00</td>\n",
       "      <td>0.0</td>\n",
       "      <td>0.0</td>\n",
       "      <td>0.0</td>\n",
       "      <td>31.2750</td>\n",
       "      <td>2</td>\n",
       "      <td>3</td>\n",
       "      <td>4</td>\n",
       "      <td>0</td>\n",
       "    </tr>\n",
       "    <tr>\n",
       "      <td>13.00</td>\n",
       "      <td>0.0</td>\n",
       "      <td>0.0</td>\n",
       "      <td>1.0</td>\n",
       "      <td>26.7292</td>\n",
       "      <td>1</td>\n",
       "      <td>5</td>\n",
       "      <td>0</td>\n",
       "      <td>2</td>\n",
       "    </tr>\n",
       "    <tr>\n",
       "      <td>14.00</td>\n",
       "      <td>0.0</td>\n",
       "      <td>0.0</td>\n",
       "      <td>1.0</td>\n",
       "      <td>169.1667</td>\n",
       "      <td>2</td>\n",
       "      <td>9</td>\n",
       "      <td>3</td>\n",
       "      <td>3</td>\n",
       "    </tr>\n",
       "    <tr>\n",
       "      <td>14.50</td>\n",
       "      <td>0.0</td>\n",
       "      <td>0.0</td>\n",
       "      <td>0.0</td>\n",
       "      <td>14.4542</td>\n",
       "      <td>0</td>\n",
       "      <td>3</td>\n",
       "      <td>1</td>\n",
       "      <td>0</td>\n",
       "    </tr>\n",
       "    <tr>\n",
       "      <td>15.00</td>\n",
       "      <td>0.0</td>\n",
       "      <td>0.0</td>\n",
       "      <td>2.0</td>\n",
       "      <td>241.0459</td>\n",
       "      <td>1</td>\n",
       "      <td>10</td>\n",
       "      <td>1</td>\n",
       "      <td>4</td>\n",
       "    </tr>\n",
       "    <tr>\n",
       "      <td>16.00</td>\n",
       "      <td>0.0</td>\n",
       "      <td>0.0</td>\n",
       "      <td>3.0</td>\n",
       "      <td>246.2625</td>\n",
       "      <td>4</td>\n",
       "      <td>12</td>\n",
       "      <td>5</td>\n",
       "      <td>5</td>\n",
       "    </tr>\n",
       "    <tr>\n",
       "      <td>17.00</td>\n",
       "      <td>0.0</td>\n",
       "      <td>0.0</td>\n",
       "      <td>3.0</td>\n",
       "      <td>210.7833</td>\n",
       "      <td>2</td>\n",
       "      <td>12</td>\n",
       "      <td>6</td>\n",
       "      <td>5</td>\n",
       "    </tr>\n",
       "    <tr>\n",
       "      <td>18.00</td>\n",
       "      <td>0.0</td>\n",
       "      <td>0.0</td>\n",
       "      <td>4.0</td>\n",
       "      <td>697.0167</td>\n",
       "      <td>9</td>\n",
       "      <td>31</td>\n",
       "      <td>6</td>\n",
       "      <td>8</td>\n",
       "    </tr>\n",
       "    <tr>\n",
       "      <td>19.00</td>\n",
       "      <td>0.0</td>\n",
       "      <td>0.0</td>\n",
       "      <td>3.0</td>\n",
       "      <td>215.0959</td>\n",
       "      <td>2</td>\n",
       "      <td>13</td>\n",
       "      <td>3</td>\n",
       "      <td>7</td>\n",
       "    </tr>\n",
       "    <tr>\n",
       "      <td>20.00</td>\n",
       "      <td>0.0</td>\n",
       "      <td>0.0</td>\n",
       "      <td>1.0</td>\n",
       "      <td>18.4875</td>\n",
       "      <td>0</td>\n",
       "      <td>6</td>\n",
       "      <td>1</td>\n",
       "      <td>0</td>\n",
       "    </tr>\n",
       "    <tr>\n",
       "      <td>21.00</td>\n",
       "      <td>0.0</td>\n",
       "      <td>0.0</td>\n",
       "      <td>4.0</td>\n",
       "      <td>410.4333</td>\n",
       "      <td>4</td>\n",
       "      <td>16</td>\n",
       "      <td>5</td>\n",
       "      <td>4</td>\n",
       "    </tr>\n",
       "    <tr>\n",
       "      <td>22.00</td>\n",
       "      <td>0.0</td>\n",
       "      <td>0.0</td>\n",
       "      <td>7.0</td>\n",
       "      <td>444.1084</td>\n",
       "      <td>6</td>\n",
       "      <td>26</td>\n",
       "      <td>3</td>\n",
       "      <td>10</td>\n",
       "    </tr>\n",
       "    <tr>\n",
       "      <td>23.00</td>\n",
       "      <td>0.0</td>\n",
       "      <td>0.0</td>\n",
       "      <td>3.0</td>\n",
       "      <td>405.5417</td>\n",
       "      <td>2</td>\n",
       "      <td>10</td>\n",
       "      <td>4</td>\n",
       "      <td>4</td>\n",
       "    </tr>\n",
       "    <tr>\n",
       "      <td>24.00</td>\n",
       "      <td>0.0</td>\n",
       "      <td>0.0</td>\n",
       "      <td>7.0</td>\n",
       "      <td>772.1708</td>\n",
       "      <td>15</td>\n",
       "      <td>31</td>\n",
       "      <td>10</td>\n",
       "      <td>14</td>\n",
       "    </tr>\n",
       "    <tr>\n",
       "      <td>25.00</td>\n",
       "      <td>0.0</td>\n",
       "      <td>0.0</td>\n",
       "      <td>1.0</td>\n",
       "      <td>223.2500</td>\n",
       "      <td>4</td>\n",
       "      <td>11</td>\n",
       "      <td>3</td>\n",
       "      <td>2</td>\n",
       "    </tr>\n",
       "    <tr>\n",
       "      <td>26.00</td>\n",
       "      <td>0.0</td>\n",
       "      <td>0.0</td>\n",
       "      <td>3.0</td>\n",
       "      <td>136.7292</td>\n",
       "      <td>1</td>\n",
       "      <td>12</td>\n",
       "      <td>2</td>\n",
       "      <td>3</td>\n",
       "    </tr>\n",
       "    <tr>\n",
       "      <td>27.00</td>\n",
       "      <td>0.0</td>\n",
       "      <td>0.0</td>\n",
       "      <td>2.0</td>\n",
       "      <td>76.8916</td>\n",
       "      <td>3</td>\n",
       "      <td>15</td>\n",
       "      <td>2</td>\n",
       "      <td>5</td>\n",
       "    </tr>\n",
       "    <tr>\n",
       "      <td>28.00</td>\n",
       "      <td>0.0</td>\n",
       "      <td>0.0</td>\n",
       "      <td>4.0</td>\n",
       "      <td>110.9458</td>\n",
       "      <td>1</td>\n",
       "      <td>16</td>\n",
       "      <td>3</td>\n",
       "      <td>5</td>\n",
       "    </tr>\n",
       "    <tr>\n",
       "      <td>29.00</td>\n",
       "      <td>0.0</td>\n",
       "      <td>0.0</td>\n",
       "      <td>2.0</td>\n",
       "      <td>320.6208</td>\n",
       "      <td>7</td>\n",
       "      <td>16</td>\n",
       "      <td>3</td>\n",
       "      <td>5</td>\n",
       "    </tr>\n",
       "    <tr>\n",
       "      <td>30.00</td>\n",
       "      <td>0.0</td>\n",
       "      <td>0.0</td>\n",
       "      <td>9.0</td>\n",
       "      <td>465.9917</td>\n",
       "      <td>1</td>\n",
       "      <td>20</td>\n",
       "      <td>4</td>\n",
       "      <td>9</td>\n",
       "    </tr>\n",
       "    <tr>\n",
       "      <td>30.50</td>\n",
       "      <td>0.0</td>\n",
       "      <td>0.0</td>\n",
       "      <td>1.0</td>\n",
       "      <td>7.7500</td>\n",
       "      <td>0</td>\n",
       "      <td>3</td>\n",
       "      <td>0</td>\n",
       "      <td>0</td>\n",
       "    </tr>\n",
       "    <tr>\n",
       "      <td>31.00</td>\n",
       "      <td>0.0</td>\n",
       "      <td>0.0</td>\n",
       "      <td>2.0</td>\n",
       "      <td>359.4542</td>\n",
       "      <td>4</td>\n",
       "      <td>16</td>\n",
       "      <td>4</td>\n",
       "      <td>5</td>\n",
       "    </tr>\n",
       "    <tr>\n",
       "      <td>32.00</td>\n",
       "      <td>0.0</td>\n",
       "      <td>0.0</td>\n",
       "      <td>2.0</td>\n",
       "      <td>104.7917</td>\n",
       "      <td>1</td>\n",
       "      <td>6</td>\n",
       "      <td>1</td>\n",
       "      <td>2</td>\n",
       "    </tr>\n",
       "    <tr>\n",
       "      <td>32.50</td>\n",
       "      <td>0.0</td>\n",
       "      <td>0.0</td>\n",
       "      <td>1.0</td>\n",
       "      <td>13.0000</td>\n",
       "      <td>0</td>\n",
       "      <td>2</td>\n",
       "      <td>0</td>\n",
       "      <td>1</td>\n",
       "    </tr>\n",
       "    <tr>\n",
       "      <td>33.00</td>\n",
       "      <td>0.0</td>\n",
       "      <td>0.0</td>\n",
       "      <td>1.0</td>\n",
       "      <td>299.2000</td>\n",
       "      <td>4</td>\n",
       "      <td>10</td>\n",
       "      <td>6</td>\n",
       "      <td>6</td>\n",
       "    </tr>\n",
       "    <tr>\n",
       "      <td>34.00</td>\n",
       "      <td>0.0</td>\n",
       "      <td>0.0</td>\n",
       "      <td>2.0</td>\n",
       "      <td>79.0000</td>\n",
       "      <td>2</td>\n",
       "      <td>8</td>\n",
       "      <td>1</td>\n",
       "      <td>4</td>\n",
       "    </tr>\n",
       "    <tr>\n",
       "      <td>35.00</td>\n",
       "      <td>0.0</td>\n",
       "      <td>0.0</td>\n",
       "      <td>3.0</td>\n",
       "      <td>967.7875</td>\n",
       "      <td>1</td>\n",
       "      <td>11</td>\n",
       "      <td>5</td>\n",
       "      <td>8</td>\n",
       "    </tr>\n",
       "    <tr>\n",
       "      <td>36.00</td>\n",
       "      <td>0.0</td>\n",
       "      <td>0.0</td>\n",
       "      <td>3.0</td>\n",
       "      <td>396.0333</td>\n",
       "      <td>4</td>\n",
       "      <td>12</td>\n",
       "      <td>3</td>\n",
       "      <td>7</td>\n",
       "    </tr>\n",
       "    <tr>\n",
       "      <td>37.00</td>\n",
       "      <td>0.0</td>\n",
       "      <td>0.0</td>\n",
       "      <td>1.0</td>\n",
       "      <td>9.5875</td>\n",
       "      <td>0</td>\n",
       "      <td>3</td>\n",
       "      <td>0</td>\n",
       "      <td>0</td>\n",
       "    </tr>\n",
       "    <tr>\n",
       "      <td>38.00</td>\n",
       "      <td>0.0</td>\n",
       "      <td>0.0</td>\n",
       "      <td>3.0</td>\n",
       "      <td>423.1958</td>\n",
       "      <td>5</td>\n",
       "      <td>8</td>\n",
       "      <td>2</td>\n",
       "      <td>4</td>\n",
       "    </tr>\n",
       "    <tr>\n",
       "      <td>39.00</td>\n",
       "      <td>0.0</td>\n",
       "      <td>0.0</td>\n",
       "      <td>0.0</td>\n",
       "      <td>389.9916</td>\n",
       "      <td>13</td>\n",
       "      <td>10</td>\n",
       "      <td>5</td>\n",
       "      <td>4</td>\n",
       "    </tr>\n",
       "    <tr>\n",
       "      <td>40.00</td>\n",
       "      <td>0.0</td>\n",
       "      <td>0.0</td>\n",
       "      <td>3.0</td>\n",
       "      <td>365.1875</td>\n",
       "      <td>2</td>\n",
       "      <td>11</td>\n",
       "      <td>3</td>\n",
       "      <td>5</td>\n",
       "    </tr>\n",
       "    <tr>\n",
       "      <td>41.00</td>\n",
       "      <td>0.0</td>\n",
       "      <td>0.0</td>\n",
       "      <td>1.0</td>\n",
       "      <td>213.9000</td>\n",
       "      <td>8</td>\n",
       "      <td>9</td>\n",
       "      <td>0</td>\n",
       "      <td>2</td>\n",
       "    </tr>\n",
       "    <tr>\n",
       "      <td>42.00</td>\n",
       "      <td>0.0</td>\n",
       "      <td>0.0</td>\n",
       "      <td>2.0</td>\n",
       "      <td>266.5250</td>\n",
       "      <td>0</td>\n",
       "      <td>5</td>\n",
       "      <td>1</td>\n",
       "      <td>3</td>\n",
       "    </tr>\n",
       "    <tr>\n",
       "      <td>43.00</td>\n",
       "      <td>0.0</td>\n",
       "      <td>0.0</td>\n",
       "      <td>0.0</td>\n",
       "      <td>258.2375</td>\n",
       "      <td>7</td>\n",
       "      <td>4</td>\n",
       "      <td>1</td>\n",
       "      <td>1</td>\n",
       "    </tr>\n",
       "    <tr>\n",
       "      <td>44.00</td>\n",
       "      <td>0.0</td>\n",
       "      <td>0.0</td>\n",
       "      <td>1.0</td>\n",
       "      <td>111.7000</td>\n",
       "      <td>1</td>\n",
       "      <td>4</td>\n",
       "      <td>1</td>\n",
       "      <td>2</td>\n",
       "    </tr>\n",
       "    <tr>\n",
       "      <td>45.00</td>\n",
       "      <td>0.0</td>\n",
       "      <td>0.0</td>\n",
       "      <td>2.0</td>\n",
       "      <td>254.7209</td>\n",
       "      <td>7</td>\n",
       "      <td>14</td>\n",
       "      <td>3</td>\n",
       "      <td>3</td>\n",
       "    </tr>\n",
       "    <tr>\n",
       "      <td>47.00</td>\n",
       "      <td>0.0</td>\n",
       "      <td>0.0</td>\n",
       "      <td>0.0</td>\n",
       "      <td>67.0542</td>\n",
       "      <td>1</td>\n",
       "      <td>4</td>\n",
       "      <td>2</td>\n",
       "      <td>1</td>\n",
       "    </tr>\n",
       "    <tr>\n",
       "      <td>48.00</td>\n",
       "      <td>0.0</td>\n",
       "      <td>0.0</td>\n",
       "      <td>1.0</td>\n",
       "      <td>164.9042</td>\n",
       "      <td>5</td>\n",
       "      <td>7</td>\n",
       "      <td>3</td>\n",
       "      <td>3</td>\n",
       "    </tr>\n",
       "    <tr>\n",
       "      <td>49.00</td>\n",
       "      <td>0.0</td>\n",
       "      <td>0.0</td>\n",
       "      <td>1.0</td>\n",
       "      <td>102.6584</td>\n",
       "      <td>0</td>\n",
       "      <td>2</td>\n",
       "      <td>1</td>\n",
       "      <td>2</td>\n",
       "    </tr>\n",
       "    <tr>\n",
       "      <td>50.00</td>\n",
       "      <td>0.0</td>\n",
       "      <td>0.0</td>\n",
       "      <td>3.0</td>\n",
       "      <td>323.2333</td>\n",
       "      <td>2</td>\n",
       "      <td>8</td>\n",
       "      <td>0</td>\n",
       "      <td>4</td>\n",
       "    </tr>\n",
       "    <tr>\n",
       "      <td>51.00</td>\n",
       "      <td>0.0</td>\n",
       "      <td>0.0</td>\n",
       "      <td>0.0</td>\n",
       "      <td>77.9583</td>\n",
       "      <td>0</td>\n",
       "      <td>1</td>\n",
       "      <td>1</td>\n",
       "      <td>1</td>\n",
       "    </tr>\n",
       "    <tr>\n",
       "      <td>52.00</td>\n",
       "      <td>0.0</td>\n",
       "      <td>0.0</td>\n",
       "      <td>0.0</td>\n",
       "      <td>171.7667</td>\n",
       "      <td>1</td>\n",
       "      <td>2</td>\n",
       "      <td>2</td>\n",
       "      <td>2</td>\n",
       "    </tr>\n",
       "    <tr>\n",
       "      <td>53.00</td>\n",
       "      <td>0.0</td>\n",
       "      <td>0.0</td>\n",
       "      <td>0.0</td>\n",
       "      <td>51.4792</td>\n",
       "      <td>0</td>\n",
       "      <td>1</td>\n",
       "      <td>2</td>\n",
       "      <td>1</td>\n",
       "    </tr>\n",
       "    <tr>\n",
       "      <td>54.00</td>\n",
       "      <td>0.0</td>\n",
       "      <td>0.0</td>\n",
       "      <td>0.0</td>\n",
       "      <td>160.6667</td>\n",
       "      <td>3</td>\n",
       "      <td>4</td>\n",
       "      <td>3</td>\n",
       "      <td>3</td>\n",
       "    </tr>\n",
       "    <tr>\n",
       "      <td>55.00</td>\n",
       "      <td>0.0</td>\n",
       "      <td>0.0</td>\n",
       "      <td>1.0</td>\n",
       "      <td>16.0000</td>\n",
       "      <td>0</td>\n",
       "      <td>2</td>\n",
       "      <td>0</td>\n",
       "      <td>1</td>\n",
       "    </tr>\n",
       "    <tr>\n",
       "      <td>56.00</td>\n",
       "      <td>0.0</td>\n",
       "      <td>0.0</td>\n",
       "      <td>0.0</td>\n",
       "      <td>83.1583</td>\n",
       "      <td>1</td>\n",
       "      <td>1</td>\n",
       "      <td>0</td>\n",
       "      <td>1</td>\n",
       "    </tr>\n",
       "    <tr>\n",
       "      <td>57.00</td>\n",
       "      <td>0.0</td>\n",
       "      <td>0.0</td>\n",
       "      <td>1.0</td>\n",
       "      <td>10.5000</td>\n",
       "      <td>0</td>\n",
       "      <td>2</td>\n",
       "      <td>0</td>\n",
       "      <td>0</td>\n",
       "    </tr>\n",
       "    <tr>\n",
       "      <td>58.00</td>\n",
       "      <td>0.0</td>\n",
       "      <td>0.0</td>\n",
       "      <td>2.0</td>\n",
       "      <td>326.5333</td>\n",
       "      <td>1</td>\n",
       "      <td>3</td>\n",
       "      <td>0</td>\n",
       "      <td>3</td>\n",
       "    </tr>\n",
       "    <tr>\n",
       "      <td>60.00</td>\n",
       "      <td>0.0</td>\n",
       "      <td>0.0</td>\n",
       "      <td>0.0</td>\n",
       "      <td>75.2500</td>\n",
       "      <td>0</td>\n",
       "      <td>1</td>\n",
       "      <td>1</td>\n",
       "      <td>1</td>\n",
       "    </tr>\n",
       "    <tr>\n",
       "      <td>62.00</td>\n",
       "      <td>0.0</td>\n",
       "      <td>0.0</td>\n",
       "      <td>1.0</td>\n",
       "      <td>80.0000</td>\n",
       "      <td>0</td>\n",
       "      <td>1</td>\n",
       "      <td>0</td>\n",
       "      <td>1</td>\n",
       "    </tr>\n",
       "    <tr>\n",
       "      <td>63.00</td>\n",
       "      <td>0.0</td>\n",
       "      <td>0.0</td>\n",
       "      <td>1.0</td>\n",
       "      <td>87.5458</td>\n",
       "      <td>0</td>\n",
       "      <td>4</td>\n",
       "      <td>1</td>\n",
       "      <td>2</td>\n",
       "    </tr>\n",
       "    <tr>\n",
       "      <td rowspan=\"82\" valign=\"top\">male</td>\n",
       "      <td>0.42</td>\n",
       "      <td>0.0</td>\n",
       "      <td>0.0</td>\n",
       "      <td>0.0</td>\n",
       "      <td>8.5167</td>\n",
       "      <td>1</td>\n",
       "      <td>3</td>\n",
       "      <td>0</td>\n",
       "      <td>1</td>\n",
       "    </tr>\n",
       "    <tr>\n",
       "      <td>0.67</td>\n",
       "      <td>0.0</td>\n",
       "      <td>0.0</td>\n",
       "      <td>0.0</td>\n",
       "      <td>14.5000</td>\n",
       "      <td>1</td>\n",
       "      <td>2</td>\n",
       "      <td>1</td>\n",
       "      <td>1</td>\n",
       "    </tr>\n",
       "    <tr>\n",
       "      <td>0.83</td>\n",
       "      <td>0.0</td>\n",
       "      <td>0.0</td>\n",
       "      <td>0.0</td>\n",
       "      <td>47.7500</td>\n",
       "      <td>3</td>\n",
       "      <td>4</td>\n",
       "      <td>1</td>\n",
       "      <td>2</td>\n",
       "    </tr>\n",
       "    <tr>\n",
       "      <td>0.92</td>\n",
       "      <td>0.0</td>\n",
       "      <td>0.0</td>\n",
       "      <td>0.0</td>\n",
       "      <td>151.5500</td>\n",
       "      <td>2</td>\n",
       "      <td>1</td>\n",
       "      <td>1</td>\n",
       "      <td>1</td>\n",
       "    </tr>\n",
       "    <tr>\n",
       "      <td>1.00</td>\n",
       "      <td>0.0</td>\n",
       "      <td>0.0</td>\n",
       "      <td>0.0</td>\n",
       "      <td>183.1667</td>\n",
       "      <td>8</td>\n",
       "      <td>13</td>\n",
       "      <td>12</td>\n",
       "      <td>3</td>\n",
       "    </tr>\n",
       "    <tr>\n",
       "      <td>2.00</td>\n",
       "      <td>0.0</td>\n",
       "      <td>0.0</td>\n",
       "      <td>0.0</td>\n",
       "      <td>115.8875</td>\n",
       "      <td>4</td>\n",
       "      <td>11</td>\n",
       "      <td>12</td>\n",
       "      <td>1</td>\n",
       "    </tr>\n",
       "    <tr>\n",
       "      <td>3.00</td>\n",
       "      <td>0.0</td>\n",
       "      <td>0.0</td>\n",
       "      <td>0.0</td>\n",
       "      <td>92.0375</td>\n",
       "      <td>5</td>\n",
       "      <td>10</td>\n",
       "      <td>7</td>\n",
       "      <td>4</td>\n",
       "    </tr>\n",
       "    <tr>\n",
       "      <td>4.00</td>\n",
       "      <td>0.0</td>\n",
       "      <td>0.0</td>\n",
       "      <td>0.0</td>\n",
       "      <td>181.2916</td>\n",
       "      <td>8</td>\n",
       "      <td>13</td>\n",
       "      <td>12</td>\n",
       "      <td>2</td>\n",
       "    </tr>\n",
       "    <tr>\n",
       "      <td>6.00</td>\n",
       "      <td>0.0</td>\n",
       "      <td>0.0</td>\n",
       "      <td>0.0</td>\n",
       "      <td>12.4750</td>\n",
       "      <td>1</td>\n",
       "      <td>3</td>\n",
       "      <td>0</td>\n",
       "      <td>1</td>\n",
       "    </tr>\n",
       "    <tr>\n",
       "      <td>7.00</td>\n",
       "      <td>0.0</td>\n",
       "      <td>0.0</td>\n",
       "      <td>0.0</td>\n",
       "      <td>68.8125</td>\n",
       "      <td>2</td>\n",
       "      <td>6</td>\n",
       "      <td>8</td>\n",
       "      <td>0</td>\n",
       "    </tr>\n",
       "    <tr>\n",
       "      <td>8.00</td>\n",
       "      <td>0.0</td>\n",
       "      <td>0.0</td>\n",
       "      <td>0.0</td>\n",
       "      <td>65.8750</td>\n",
       "      <td>2</td>\n",
       "      <td>5</td>\n",
       "      <td>5</td>\n",
       "      <td>1</td>\n",
       "    </tr>\n",
       "    <tr>\n",
       "      <td>9.00</td>\n",
       "      <td>0.0</td>\n",
       "      <td>0.0</td>\n",
       "      <td>0.0</td>\n",
       "      <td>114.7125</td>\n",
       "      <td>7</td>\n",
       "      <td>12</td>\n",
       "      <td>10</td>\n",
       "      <td>2</td>\n",
       "    </tr>\n",
       "    <tr>\n",
       "      <td>10.00</td>\n",
       "      <td>0.0</td>\n",
       "      <td>0.0</td>\n",
       "      <td>0.0</td>\n",
       "      <td>27.9000</td>\n",
       "      <td>2</td>\n",
       "      <td>3</td>\n",
       "      <td>3</td>\n",
       "      <td>0</td>\n",
       "    </tr>\n",
       "    <tr>\n",
       "      <td>11.00</td>\n",
       "      <td>0.0</td>\n",
       "      <td>0.0</td>\n",
       "      <td>1.0</td>\n",
       "      <td>185.6875</td>\n",
       "      <td>4</td>\n",
       "      <td>7</td>\n",
       "      <td>6</td>\n",
       "      <td>1</td>\n",
       "    </tr>\n",
       "    <tr>\n",
       "      <td>12.00</td>\n",
       "      <td>0.0</td>\n",
       "      <td>0.0</td>\n",
       "      <td>0.0</td>\n",
       "      <td>11.2417</td>\n",
       "      <td>0</td>\n",
       "      <td>3</td>\n",
       "      <td>1</td>\n",
       "      <td>1</td>\n",
       "    </tr>\n",
       "    <tr>\n",
       "      <td>14.00</td>\n",
       "      <td>0.0</td>\n",
       "      <td>0.0</td>\n",
       "      <td>0.0</td>\n",
       "      <td>86.5875</td>\n",
       "      <td>3</td>\n",
       "      <td>6</td>\n",
       "      <td>9</td>\n",
       "      <td>0</td>\n",
       "    </tr>\n",
       "    <tr>\n",
       "      <td>15.00</td>\n",
       "      <td>0.0</td>\n",
       "      <td>0.0</td>\n",
       "      <td>0.0</td>\n",
       "      <td>7.2292</td>\n",
       "      <td>1</td>\n",
       "      <td>3</td>\n",
       "      <td>1</td>\n",
       "      <td>0</td>\n",
       "    </tr>\n",
       "    <tr>\n",
       "      <td>16.00</td>\n",
       "      <td>0.0</td>\n",
       "      <td>11.0</td>\n",
       "      <td>7.0</td>\n",
       "      <td>191.4042</td>\n",
       "      <td>5</td>\n",
       "      <td>31</td>\n",
       "      <td>8</td>\n",
       "      <td>1</td>\n",
       "    </tr>\n",
       "    <tr>\n",
       "      <td>17.00</td>\n",
       "      <td>0.0</td>\n",
       "      <td>7.0</td>\n",
       "      <td>4.0</td>\n",
       "      <td>158.2792</td>\n",
       "      <td>3</td>\n",
       "      <td>19</td>\n",
       "      <td>2</td>\n",
       "      <td>1</td>\n",
       "    </tr>\n",
       "    <tr>\n",
       "      <td>18.00</td>\n",
       "      <td>0.0</td>\n",
       "      <td>13.0</td>\n",
       "      <td>9.0</td>\n",
       "      <td>292.6333</td>\n",
       "      <td>2</td>\n",
       "      <td>33</td>\n",
       "      <td>4</td>\n",
       "      <td>1</td>\n",
       "    </tr>\n",
       "    <tr>\n",
       "      <td>19.00</td>\n",
       "      <td>0.0</td>\n",
       "      <td>18.0</td>\n",
       "      <td>15.0</td>\n",
       "      <td>481.6415</td>\n",
       "      <td>3</td>\n",
       "      <td>46</td>\n",
       "      <td>5</td>\n",
       "      <td>2</td>\n",
       "    </tr>\n",
       "    <tr>\n",
       "      <td>20.00</td>\n",
       "      <td>0.0</td>\n",
       "      <td>13.0</td>\n",
       "      <td>11.0</td>\n",
       "      <td>110.8751</td>\n",
       "      <td>1</td>\n",
       "      <td>39</td>\n",
       "      <td>2</td>\n",
       "      <td>3</td>\n",
       "    </tr>\n",
       "    <tr>\n",
       "      <td>20.50</td>\n",
       "      <td>0.0</td>\n",
       "      <td>1.0</td>\n",
       "      <td>1.0</td>\n",
       "      <td>7.2500</td>\n",
       "      <td>0</td>\n",
       "      <td>3</td>\n",
       "      <td>0</td>\n",
       "      <td>0</td>\n",
       "    </tr>\n",
       "    <tr>\n",
       "      <td>21.00</td>\n",
       "      <td>0.0</td>\n",
       "      <td>17.0</td>\n",
       "      <td>14.0</td>\n",
       "      <td>347.1416</td>\n",
       "      <td>1</td>\n",
       "      <td>46</td>\n",
       "      <td>3</td>\n",
       "      <td>1</td>\n",
       "    </tr>\n",
       "    <tr>\n",
       "      <td>22.00</td>\n",
       "      <td>0.0</td>\n",
       "      <td>15.0</td>\n",
       "      <td>14.0</td>\n",
       "      <td>244.5207</td>\n",
       "      <td>0</td>\n",
       "      <td>43</td>\n",
       "      <td>1</td>\n",
       "      <td>1</td>\n",
       "    </tr>\n",
       "    <tr>\n",
       "      <td>23.00</td>\n",
       "      <td>0.0</td>\n",
       "      <td>10.0</td>\n",
       "      <td>8.0</td>\n",
       "      <td>164.3791</td>\n",
       "      <td>2</td>\n",
       "      <td>22</td>\n",
       "      <td>2</td>\n",
       "      <td>1</td>\n",
       "    </tr>\n",
       "    <tr>\n",
       "      <td>23.50</td>\n",
       "      <td>0.0</td>\n",
       "      <td>1.0</td>\n",
       "      <td>1.0</td>\n",
       "      <td>7.2292</td>\n",
       "      <td>0</td>\n",
       "      <td>3</td>\n",
       "      <td>0</td>\n",
       "      <td>0</td>\n",
       "    </tr>\n",
       "    <tr>\n",
       "      <td>24.00</td>\n",
       "      <td>0.0</td>\n",
       "      <td>14.0</td>\n",
       "      <td>10.0</td>\n",
       "      <td>518.8999</td>\n",
       "      <td>1</td>\n",
       "      <td>35</td>\n",
       "      <td>5</td>\n",
       "      <td>1</td>\n",
       "    </tr>\n",
       "    <tr>\n",
       "      <td>24.50</td>\n",
       "      <td>0.0</td>\n",
       "      <td>1.0</td>\n",
       "      <td>1.0</td>\n",
       "      <td>8.0500</td>\n",
       "      <td>0</td>\n",
       "      <td>3</td>\n",
       "      <td>0</td>\n",
       "      <td>0</td>\n",
       "    </tr>\n",
       "    <tr>\n",
       "      <td>25.00</td>\n",
       "      <td>0.0</td>\n",
       "      <td>18.0</td>\n",
       "      <td>11.0</td>\n",
       "      <td>338.3126</td>\n",
       "      <td>2</td>\n",
       "      <td>45</td>\n",
       "      <td>7</td>\n",
       "      <td>4</td>\n",
       "    </tr>\n",
       "    <tr>\n",
       "      <td>26.00</td>\n",
       "      <td>0.0</td>\n",
       "      <td>13.0</td>\n",
       "      <td>9.0</td>\n",
       "      <td>206.8333</td>\n",
       "      <td>2</td>\n",
       "      <td>36</td>\n",
       "      <td>5</td>\n",
       "      <td>3</td>\n",
       "    </tr>\n",
       "    <tr>\n",
       "      <td>27.00</td>\n",
       "      <td>0.0</td>\n",
       "      <td>12.0</td>\n",
       "      <td>9.0</td>\n",
       "      <td>469.6125</td>\n",
       "      <td>2</td>\n",
       "      <td>25</td>\n",
       "      <td>2</td>\n",
       "      <td>6</td>\n",
       "    </tr>\n",
       "    <tr>\n",
       "      <td>28.00</td>\n",
       "      <td>0.0</td>\n",
       "      <td>18.0</td>\n",
       "      <td>14.0</td>\n",
       "      <td>414.5582</td>\n",
       "      <td>1</td>\n",
       "      <td>42</td>\n",
       "      <td>4</td>\n",
       "      <td>2</td>\n",
       "    </tr>\n",
       "    <tr>\n",
       "      <td>28.50</td>\n",
       "      <td>0.0</td>\n",
       "      <td>2.0</td>\n",
       "      <td>2.0</td>\n",
       "      <td>23.3292</td>\n",
       "      <td>0</td>\n",
       "      <td>6</td>\n",
       "      <td>0</td>\n",
       "      <td>0</td>\n",
       "    </tr>\n",
       "    <tr>\n",
       "      <td>29.00</td>\n",
       "      <td>0.0</td>\n",
       "      <td>13.0</td>\n",
       "      <td>9.0</td>\n",
       "      <td>221.1957</td>\n",
       "      <td>0</td>\n",
       "      <td>32</td>\n",
       "      <td>4</td>\n",
       "      <td>3</td>\n",
       "    </tr>\n",
       "    <tr>\n",
       "      <td>30.00</td>\n",
       "      <td>0.0</td>\n",
       "      <td>14.0</td>\n",
       "      <td>12.0</td>\n",
       "      <td>172.5500</td>\n",
       "      <td>0</td>\n",
       "      <td>35</td>\n",
       "      <td>2</td>\n",
       "      <td>1</td>\n",
       "    </tr>\n",
       "    <tr>\n",
       "      <td>30.50</td>\n",
       "      <td>0.0</td>\n",
       "      <td>1.0</td>\n",
       "      <td>1.0</td>\n",
       "      <td>8.0500</td>\n",
       "      <td>0</td>\n",
       "      <td>3</td>\n",
       "      <td>0</td>\n",
       "      <td>0</td>\n",
       "    </tr>\n",
       "    <tr>\n",
       "      <td>31.00</td>\n",
       "      <td>0.0</td>\n",
       "      <td>10.0</td>\n",
       "      <td>6.0</td>\n",
       "      <td>269.7000</td>\n",
       "      <td>2</td>\n",
       "      <td>20</td>\n",
       "      <td>4</td>\n",
       "      <td>3</td>\n",
       "    </tr>\n",
       "    <tr>\n",
       "      <td>32.00</td>\n",
       "      <td>0.0</td>\n",
       "      <td>15.0</td>\n",
       "      <td>12.0</td>\n",
       "      <td>333.0291</td>\n",
       "      <td>0</td>\n",
       "      <td>40</td>\n",
       "      <td>4</td>\n",
       "      <td>7</td>\n",
       "    </tr>\n",
       "    <tr>\n",
       "      <td>32.50</td>\n",
       "      <td>0.0</td>\n",
       "      <td>1.0</td>\n",
       "      <td>0.0</td>\n",
       "      <td>30.0708</td>\n",
       "      <td>0</td>\n",
       "      <td>2</td>\n",
       "      <td>1</td>\n",
       "      <td>0</td>\n",
       "    </tr>\n",
       "    <tr>\n",
       "      <td>33.00</td>\n",
       "      <td>0.0</td>\n",
       "      <td>9.0</td>\n",
       "      <td>8.0</td>\n",
       "      <td>88.1833</td>\n",
       "      <td>1</td>\n",
       "      <td>24</td>\n",
       "      <td>1</td>\n",
       "      <td>0</td>\n",
       "    </tr>\n",
       "    <tr>\n",
       "      <td>34.00</td>\n",
       "      <td>0.0</td>\n",
       "      <td>11.0</td>\n",
       "      <td>7.0</td>\n",
       "      <td>170.5458</td>\n",
       "      <td>1</td>\n",
       "      <td>25</td>\n",
       "      <td>4</td>\n",
       "      <td>2</td>\n",
       "    </tr>\n",
       "    <tr>\n",
       "      <td>34.50</td>\n",
       "      <td>0.0</td>\n",
       "      <td>1.0</td>\n",
       "      <td>1.0</td>\n",
       "      <td>6.4375</td>\n",
       "      <td>0</td>\n",
       "      <td>3</td>\n",
       "      <td>0</td>\n",
       "      <td>0</td>\n",
       "    </tr>\n",
       "    <tr>\n",
       "      <td>35.00</td>\n",
       "      <td>0.0</td>\n",
       "      <td>10.0</td>\n",
       "      <td>10.0</td>\n",
       "      <td>639.8375</td>\n",
       "      <td>0</td>\n",
       "      <td>22</td>\n",
       "      <td>0</td>\n",
       "      <td>3</td>\n",
       "    </tr>\n",
       "    <tr>\n",
       "      <td>36.00</td>\n",
       "      <td>0.0</td>\n",
       "      <td>15.0</td>\n",
       "      <td>9.0</td>\n",
       "      <td>923.1958</td>\n",
       "      <td>6</td>\n",
       "      <td>29</td>\n",
       "      <td>5</td>\n",
       "      <td>4</td>\n",
       "    </tr>\n",
       "    <tr>\n",
       "      <td>36.50</td>\n",
       "      <td>0.0</td>\n",
       "      <td>1.0</td>\n",
       "      <td>0.0</td>\n",
       "      <td>26.0000</td>\n",
       "      <td>2</td>\n",
       "      <td>2</td>\n",
       "      <td>0</td>\n",
       "      <td>0</td>\n",
       "    </tr>\n",
       "    <tr>\n",
       "      <td>37.00</td>\n",
       "      <td>0.0</td>\n",
       "      <td>5.0</td>\n",
       "      <td>0.0</td>\n",
       "      <td>169.2792</td>\n",
       "      <td>2</td>\n",
       "      <td>8</td>\n",
       "      <td>5</td>\n",
       "      <td>1</td>\n",
       "    </tr>\n",
       "    <tr>\n",
       "      <td>38.00</td>\n",
       "      <td>0.0</td>\n",
       "      <td>6.0</td>\n",
       "      <td>4.0</td>\n",
       "      <td>267.0708</td>\n",
       "      <td>1</td>\n",
       "      <td>12</td>\n",
       "      <td>1</td>\n",
       "      <td>1</td>\n",
       "    </tr>\n",
       "    <tr>\n",
       "      <td>39.00</td>\n",
       "      <td>0.0</td>\n",
       "      <td>8.0</td>\n",
       "      <td>7.0</td>\n",
       "      <td>123.2750</td>\n",
       "      <td>5</td>\n",
       "      <td>19</td>\n",
       "      <td>1</td>\n",
       "      <td>1</td>\n",
       "    </tr>\n",
       "    <tr>\n",
       "      <td>40.00</td>\n",
       "      <td>0.0</td>\n",
       "      <td>7.0</td>\n",
       "      <td>5.0</td>\n",
       "      <td>117.2416</td>\n",
       "      <td>5</td>\n",
       "      <td>15</td>\n",
       "      <td>2</td>\n",
       "      <td>1</td>\n",
       "    </tr>\n",
       "    <tr>\n",
       "      <td>40.50</td>\n",
       "      <td>0.0</td>\n",
       "      <td>2.0</td>\n",
       "      <td>1.0</td>\n",
       "      <td>22.2500</td>\n",
       "      <td>2</td>\n",
       "      <td>6</td>\n",
       "      <td>0</td>\n",
       "      <td>0</td>\n",
       "    </tr>\n",
       "    <tr>\n",
       "      <td>41.00</td>\n",
       "      <td>0.0</td>\n",
       "      <td>2.0</td>\n",
       "      <td>1.0</td>\n",
       "      <td>21.2333</td>\n",
       "      <td>0</td>\n",
       "      <td>6</td>\n",
       "      <td>2</td>\n",
       "      <td>0</td>\n",
       "    </tr>\n",
       "    <tr>\n",
       "      <td>42.00</td>\n",
       "      <td>0.0</td>\n",
       "      <td>10.0</td>\n",
       "      <td>6.0</td>\n",
       "      <td>216.1084</td>\n",
       "      <td>1</td>\n",
       "      <td>21</td>\n",
       "      <td>3</td>\n",
       "      <td>3</td>\n",
       "    </tr>\n",
       "    <tr>\n",
       "      <td>43.00</td>\n",
       "      <td>0.0</td>\n",
       "      <td>3.0</td>\n",
       "      <td>2.0</td>\n",
       "      <td>40.7500</td>\n",
       "      <td>1</td>\n",
       "      <td>8</td>\n",
       "      <td>1</td>\n",
       "      <td>0</td>\n",
       "    </tr>\n",
       "    <tr>\n",
       "      <td>44.00</td>\n",
       "      <td>0.0</td>\n",
       "      <td>6.0</td>\n",
       "      <td>3.0</td>\n",
       "      <td>156.1250</td>\n",
       "      <td>1</td>\n",
       "      <td>15</td>\n",
       "      <td>3</td>\n",
       "      <td>1</td>\n",
       "    </tr>\n",
       "    <tr>\n",
       "      <td>45.00</td>\n",
       "      <td>0.0</td>\n",
       "      <td>6.0</td>\n",
       "      <td>5.0</td>\n",
       "      <td>187.1000</td>\n",
       "      <td>0</td>\n",
       "      <td>10</td>\n",
       "      <td>1</td>\n",
       "      <td>2</td>\n",
       "    </tr>\n",
       "    <tr>\n",
       "      <td>45.50</td>\n",
       "      <td>0.0</td>\n",
       "      <td>2.0</td>\n",
       "      <td>2.0</td>\n",
       "      <td>35.7250</td>\n",
       "      <td>0</td>\n",
       "      <td>4</td>\n",
       "      <td>0</td>\n",
       "      <td>0</td>\n",
       "    </tr>\n",
       "    <tr>\n",
       "      <td>46.00</td>\n",
       "      <td>0.0</td>\n",
       "      <td>3.0</td>\n",
       "      <td>2.0</td>\n",
       "      <td>166.3750</td>\n",
       "      <td>0</td>\n",
       "      <td>4</td>\n",
       "      <td>1</td>\n",
       "      <td>0</td>\n",
       "    </tr>\n",
       "    <tr>\n",
       "      <td>47.00</td>\n",
       "      <td>0.0</td>\n",
       "      <td>7.0</td>\n",
       "      <td>7.0</td>\n",
       "      <td>181.3583</td>\n",
       "      <td>0</td>\n",
       "      <td>12</td>\n",
       "      <td>0</td>\n",
       "      <td>0</td>\n",
       "    </tr>\n",
       "    <tr>\n",
       "      <td>48.00</td>\n",
       "      <td>0.0</td>\n",
       "      <td>5.0</td>\n",
       "      <td>3.0</td>\n",
       "      <td>176.1334</td>\n",
       "      <td>0</td>\n",
       "      <td>8</td>\n",
       "      <td>2</td>\n",
       "      <td>3</td>\n",
       "    </tr>\n",
       "    <tr>\n",
       "      <td>49.00</td>\n",
       "      <td>0.0</td>\n",
       "      <td>4.0</td>\n",
       "      <td>1.0</td>\n",
       "      <td>256.9167</td>\n",
       "      <td>1</td>\n",
       "      <td>6</td>\n",
       "      <td>3</td>\n",
       "      <td>2</td>\n",
       "    </tr>\n",
       "    <tr>\n",
       "      <td>50.00</td>\n",
       "      <td>0.0</td>\n",
       "      <td>5.0</td>\n",
       "      <td>2.0</td>\n",
       "      <td>317.0250</td>\n",
       "      <td>0</td>\n",
       "      <td>8</td>\n",
       "      <td>4</td>\n",
       "      <td>1</td>\n",
       "    </tr>\n",
       "    <tr>\n",
       "      <td>51.00</td>\n",
       "      <td>0.0</td>\n",
       "      <td>6.0</td>\n",
       "      <td>5.0</td>\n",
       "      <td>123.3084</td>\n",
       "      <td>1</td>\n",
       "      <td>13</td>\n",
       "      <td>0</td>\n",
       "      <td>1</td>\n",
       "    </tr>\n",
       "    <tr>\n",
       "      <td>52.00</td>\n",
       "      <td>0.0</td>\n",
       "      <td>4.0</td>\n",
       "      <td>3.0</td>\n",
       "      <td>136.6500</td>\n",
       "      <td>1</td>\n",
       "      <td>6</td>\n",
       "      <td>1</td>\n",
       "      <td>1</td>\n",
       "    </tr>\n",
       "    <tr>\n",
       "      <td>54.00</td>\n",
       "      <td>0.0</td>\n",
       "      <td>5.0</td>\n",
       "      <td>3.0</td>\n",
       "      <td>195.1500</td>\n",
       "      <td>1</td>\n",
       "      <td>8</td>\n",
       "      <td>1</td>\n",
       "      <td>0</td>\n",
       "    </tr>\n",
       "    <tr>\n",
       "      <td>55.00</td>\n",
       "      <td>0.0</td>\n",
       "      <td>1.0</td>\n",
       "      <td>1.0</td>\n",
       "      <td>30.5000</td>\n",
       "      <td>0</td>\n",
       "      <td>1</td>\n",
       "      <td>0</td>\n",
       "      <td>0</td>\n",
       "    </tr>\n",
       "    <tr>\n",
       "      <td>55.50</td>\n",
       "      <td>0.0</td>\n",
       "      <td>1.0</td>\n",
       "      <td>1.0</td>\n",
       "      <td>8.0500</td>\n",
       "      <td>0</td>\n",
       "      <td>3</td>\n",
       "      <td>0</td>\n",
       "      <td>0</td>\n",
       "    </tr>\n",
       "    <tr>\n",
       "      <td>56.00</td>\n",
       "      <td>0.0</td>\n",
       "      <td>3.0</td>\n",
       "      <td>3.0</td>\n",
       "      <td>92.7458</td>\n",
       "      <td>0</td>\n",
       "      <td>3</td>\n",
       "      <td>0</td>\n",
       "      <td>1</td>\n",
       "    </tr>\n",
       "    <tr>\n",
       "      <td>57.00</td>\n",
       "      <td>0.0</td>\n",
       "      <td>1.0</td>\n",
       "      <td>1.0</td>\n",
       "      <td>12.3500</td>\n",
       "      <td>0</td>\n",
       "      <td>2</td>\n",
       "      <td>0</td>\n",
       "      <td>0</td>\n",
       "    </tr>\n",
       "    <tr>\n",
       "      <td>58.00</td>\n",
       "      <td>0.0</td>\n",
       "      <td>2.0</td>\n",
       "      <td>1.0</td>\n",
       "      <td>142.9750</td>\n",
       "      <td>2</td>\n",
       "      <td>2</td>\n",
       "      <td>0</td>\n",
       "      <td>0</td>\n",
       "    </tr>\n",
       "    <tr>\n",
       "      <td>59.00</td>\n",
       "      <td>0.0</td>\n",
       "      <td>2.0</td>\n",
       "      <td>2.0</td>\n",
       "      <td>20.7500</td>\n",
       "      <td>0</td>\n",
       "      <td>5</td>\n",
       "      <td>0</td>\n",
       "      <td>0</td>\n",
       "    </tr>\n",
       "    <tr>\n",
       "      <td>60.00</td>\n",
       "      <td>0.0</td>\n",
       "      <td>3.0</td>\n",
       "      <td>1.0</td>\n",
       "      <td>144.7500</td>\n",
       "      <td>2</td>\n",
       "      <td>4</td>\n",
       "      <td>2</td>\n",
       "      <td>1</td>\n",
       "    </tr>\n",
       "    <tr>\n",
       "      <td>61.00</td>\n",
       "      <td>0.0</td>\n",
       "      <td>3.0</td>\n",
       "      <td>3.0</td>\n",
       "      <td>72.0583</td>\n",
       "      <td>0</td>\n",
       "      <td>5</td>\n",
       "      <td>0</td>\n",
       "      <td>0</td>\n",
       "    </tr>\n",
       "    <tr>\n",
       "      <td>62.00</td>\n",
       "      <td>0.0</td>\n",
       "      <td>3.0</td>\n",
       "      <td>3.0</td>\n",
       "      <td>63.6000</td>\n",
       "      <td>0</td>\n",
       "      <td>4</td>\n",
       "      <td>0</td>\n",
       "      <td>1</td>\n",
       "    </tr>\n",
       "    <tr>\n",
       "      <td>64.00</td>\n",
       "      <td>0.0</td>\n",
       "      <td>2.0</td>\n",
       "      <td>1.0</td>\n",
       "      <td>289.0000</td>\n",
       "      <td>4</td>\n",
       "      <td>2</td>\n",
       "      <td>1</td>\n",
       "      <td>0</td>\n",
       "    </tr>\n",
       "    <tr>\n",
       "      <td>65.00</td>\n",
       "      <td>0.0</td>\n",
       "      <td>3.0</td>\n",
       "      <td>2.0</td>\n",
       "      <td>96.2792</td>\n",
       "      <td>1</td>\n",
       "      <td>5</td>\n",
       "      <td>0</td>\n",
       "      <td>0</td>\n",
       "    </tr>\n",
       "    <tr>\n",
       "      <td>66.00</td>\n",
       "      <td>0.0</td>\n",
       "      <td>1.0</td>\n",
       "      <td>1.0</td>\n",
       "      <td>10.5000</td>\n",
       "      <td>0</td>\n",
       "      <td>2</td>\n",
       "      <td>0</td>\n",
       "      <td>0</td>\n",
       "    </tr>\n",
       "    <tr>\n",
       "      <td>70.00</td>\n",
       "      <td>0.0</td>\n",
       "      <td>2.0</td>\n",
       "      <td>1.0</td>\n",
       "      <td>81.5000</td>\n",
       "      <td>1</td>\n",
       "      <td>3</td>\n",
       "      <td>1</td>\n",
       "      <td>0</td>\n",
       "    </tr>\n",
       "    <tr>\n",
       "      <td>70.50</td>\n",
       "      <td>0.0</td>\n",
       "      <td>1.0</td>\n",
       "      <td>1.0</td>\n",
       "      <td>7.7500</td>\n",
       "      <td>0</td>\n",
       "      <td>3</td>\n",
       "      <td>0</td>\n",
       "      <td>0</td>\n",
       "    </tr>\n",
       "    <tr>\n",
       "      <td>71.00</td>\n",
       "      <td>0.0</td>\n",
       "      <td>2.0</td>\n",
       "      <td>2.0</td>\n",
       "      <td>84.1584</td>\n",
       "      <td>0</td>\n",
       "      <td>2</td>\n",
       "      <td>0</td>\n",
       "      <td>0</td>\n",
       "    </tr>\n",
       "    <tr>\n",
       "      <td>74.00</td>\n",
       "      <td>0.0</td>\n",
       "      <td>1.0</td>\n",
       "      <td>1.0</td>\n",
       "      <td>7.7750</td>\n",
       "      <td>0</td>\n",
       "      <td>3</td>\n",
       "      <td>0</td>\n",
       "      <td>0</td>\n",
       "    </tr>\n",
       "    <tr>\n",
       "      <td>80.00</td>\n",
       "      <td>0.0</td>\n",
       "      <td>1.0</td>\n",
       "      <td>1.0</td>\n",
       "      <td>30.0000</td>\n",
       "      <td>0</td>\n",
       "      <td>1</td>\n",
       "      <td>0</td>\n",
       "      <td>1</td>\n",
       "    </tr>\n",
       "  </tbody>\n",
       "</table>\n",
       "</div>"
      ],
      "text/plain": [
       "              Unnamed: 15  adult_male  alone      fare  parch  pclass  sibsp  survived\n",
       "sex    age                                                                            \n",
       "female 0.75           0.0         0.0    0.0   38.5166      2       6      4         2\n",
       "       1.00           0.0         0.0    0.0   26.8750      3       6      1         2\n",
       "       2.00           0.0         0.0    0.0  259.4750      9      15      9         2\n",
       "       3.00           0.0         0.0    0.0   62.6542      3       5      4         1\n",
       "       4.00           0.0         0.0    0.0  114.1417      6      13      4         5\n",
       "       5.00           0.0         0.0    1.0   90.8708      5      11      7         4\n",
       "       6.00           0.0         0.0    0.0   64.2750      3       5      4         1\n",
       "       7.00           0.0         0.0    0.0   26.2500      2       2      0         1\n",
       "       8.00           0.0         0.0    0.0   47.3250      3       5      3         1\n",
       "       9.00           0.0         0.0    0.0  108.7958      7      12     10         0\n",
       "       10.00          0.0         0.0    0.0   24.1500      2       3      0         0\n",
       "       11.00          0.0         0.0    0.0   31.2750      2       3      4         0\n",
       "       13.00          0.0         0.0    1.0   26.7292      1       5      0         2\n",
       "       14.00          0.0         0.0    1.0  169.1667      2       9      3         3\n",
       "       14.50          0.0         0.0    0.0   14.4542      0       3      1         0\n",
       "       15.00          0.0         0.0    2.0  241.0459      1      10      1         4\n",
       "       16.00          0.0         0.0    3.0  246.2625      4      12      5         5\n",
       "       17.00          0.0         0.0    3.0  210.7833      2      12      6         5\n",
       "       18.00          0.0         0.0    4.0  697.0167      9      31      6         8\n",
       "       19.00          0.0         0.0    3.0  215.0959      2      13      3         7\n",
       "       20.00          0.0         0.0    1.0   18.4875      0       6      1         0\n",
       "       21.00          0.0         0.0    4.0  410.4333      4      16      5         4\n",
       "       22.00          0.0         0.0    7.0  444.1084      6      26      3        10\n",
       "       23.00          0.0         0.0    3.0  405.5417      2      10      4         4\n",
       "       24.00          0.0         0.0    7.0  772.1708     15      31     10        14\n",
       "       25.00          0.0         0.0    1.0  223.2500      4      11      3         2\n",
       "       26.00          0.0         0.0    3.0  136.7292      1      12      2         3\n",
       "       27.00          0.0         0.0    2.0   76.8916      3      15      2         5\n",
       "       28.00          0.0         0.0    4.0  110.9458      1      16      3         5\n",
       "       29.00          0.0         0.0    2.0  320.6208      7      16      3         5\n",
       "       30.00          0.0         0.0    9.0  465.9917      1      20      4         9\n",
       "       30.50          0.0         0.0    1.0    7.7500      0       3      0         0\n",
       "       31.00          0.0         0.0    2.0  359.4542      4      16      4         5\n",
       "       32.00          0.0         0.0    2.0  104.7917      1       6      1         2\n",
       "       32.50          0.0         0.0    1.0   13.0000      0       2      0         1\n",
       "       33.00          0.0         0.0    1.0  299.2000      4      10      6         6\n",
       "       34.00          0.0         0.0    2.0   79.0000      2       8      1         4\n",
       "       35.00          0.0         0.0    3.0  967.7875      1      11      5         8\n",
       "       36.00          0.0         0.0    3.0  396.0333      4      12      3         7\n",
       "       37.00          0.0         0.0    1.0    9.5875      0       3      0         0\n",
       "       38.00          0.0         0.0    3.0  423.1958      5       8      2         4\n",
       "       39.00          0.0         0.0    0.0  389.9916     13      10      5         4\n",
       "       40.00          0.0         0.0    3.0  365.1875      2      11      3         5\n",
       "       41.00          0.0         0.0    1.0  213.9000      8       9      0         2\n",
       "       42.00          0.0         0.0    2.0  266.5250      0       5      1         3\n",
       "       43.00          0.0         0.0    0.0  258.2375      7       4      1         1\n",
       "       44.00          0.0         0.0    1.0  111.7000      1       4      1         2\n",
       "       45.00          0.0         0.0    2.0  254.7209      7      14      3         3\n",
       "       47.00          0.0         0.0    0.0   67.0542      1       4      2         1\n",
       "       48.00          0.0         0.0    1.0  164.9042      5       7      3         3\n",
       "       49.00          0.0         0.0    1.0  102.6584      0       2      1         2\n",
       "       50.00          0.0         0.0    3.0  323.2333      2       8      0         4\n",
       "       51.00          0.0         0.0    0.0   77.9583      0       1      1         1\n",
       "       52.00          0.0         0.0    0.0  171.7667      1       2      2         2\n",
       "       53.00          0.0         0.0    0.0   51.4792      0       1      2         1\n",
       "       54.00          0.0         0.0    0.0  160.6667      3       4      3         3\n",
       "       55.00          0.0         0.0    1.0   16.0000      0       2      0         1\n",
       "       56.00          0.0         0.0    0.0   83.1583      1       1      0         1\n",
       "       57.00          0.0         0.0    1.0   10.5000      0       2      0         0\n",
       "       58.00          0.0         0.0    2.0  326.5333      1       3      0         3\n",
       "       60.00          0.0         0.0    0.0   75.2500      0       1      1         1\n",
       "       62.00          0.0         0.0    1.0   80.0000      0       1      0         1\n",
       "       63.00          0.0         0.0    1.0   87.5458      0       4      1         2\n",
       "male   0.42           0.0         0.0    0.0    8.5167      1       3      0         1\n",
       "       0.67           0.0         0.0    0.0   14.5000      1       2      1         1\n",
       "       0.83           0.0         0.0    0.0   47.7500      3       4      1         2\n",
       "       0.92           0.0         0.0    0.0  151.5500      2       1      1         1\n",
       "       1.00           0.0         0.0    0.0  183.1667      8      13     12         3\n",
       "       2.00           0.0         0.0    0.0  115.8875      4      11     12         1\n",
       "       3.00           0.0         0.0    0.0   92.0375      5      10      7         4\n",
       "       4.00           0.0         0.0    0.0  181.2916      8      13     12         2\n",
       "       6.00           0.0         0.0    0.0   12.4750      1       3      0         1\n",
       "       7.00           0.0         0.0    0.0   68.8125      2       6      8         0\n",
       "       8.00           0.0         0.0    0.0   65.8750      2       5      5         1\n",
       "       9.00           0.0         0.0    0.0  114.7125      7      12     10         2\n",
       "       10.00          0.0         0.0    0.0   27.9000      2       3      3         0\n",
       "       11.00          0.0         0.0    1.0  185.6875      4       7      6         1\n",
       "       12.00          0.0         0.0    0.0   11.2417      0       3      1         1\n",
       "       14.00          0.0         0.0    0.0   86.5875      3       6      9         0\n",
       "       15.00          0.0         0.0    0.0    7.2292      1       3      1         0\n",
       "       16.00          0.0        11.0    7.0  191.4042      5      31      8         1\n",
       "       17.00          0.0         7.0    4.0  158.2792      3      19      2         1\n",
       "       18.00          0.0        13.0    9.0  292.6333      2      33      4         1\n",
       "       19.00          0.0        18.0   15.0  481.6415      3      46      5         2\n",
       "       20.00          0.0        13.0   11.0  110.8751      1      39      2         3\n",
       "       20.50          0.0         1.0    1.0    7.2500      0       3      0         0\n",
       "       21.00          0.0        17.0   14.0  347.1416      1      46      3         1\n",
       "       22.00          0.0        15.0   14.0  244.5207      0      43      1         1\n",
       "       23.00          0.0        10.0    8.0  164.3791      2      22      2         1\n",
       "       23.50          0.0         1.0    1.0    7.2292      0       3      0         0\n",
       "       24.00          0.0        14.0   10.0  518.8999      1      35      5         1\n",
       "       24.50          0.0         1.0    1.0    8.0500      0       3      0         0\n",
       "       25.00          0.0        18.0   11.0  338.3126      2      45      7         4\n",
       "       26.00          0.0        13.0    9.0  206.8333      2      36      5         3\n",
       "       27.00          0.0        12.0    9.0  469.6125      2      25      2         6\n",
       "       28.00          0.0        18.0   14.0  414.5582      1      42      4         2\n",
       "       28.50          0.0         2.0    2.0   23.3292      0       6      0         0\n",
       "       29.00          0.0        13.0    9.0  221.1957      0      32      4         3\n",
       "       30.00          0.0        14.0   12.0  172.5500      0      35      2         1\n",
       "       30.50          0.0         1.0    1.0    8.0500      0       3      0         0\n",
       "       31.00          0.0        10.0    6.0  269.7000      2      20      4         3\n",
       "       32.00          0.0        15.0   12.0  333.0291      0      40      4         7\n",
       "       32.50          0.0         1.0    0.0   30.0708      0       2      1         0\n",
       "       33.00          0.0         9.0    8.0   88.1833      1      24      1         0\n",
       "       34.00          0.0        11.0    7.0  170.5458      1      25      4         2\n",
       "       34.50          0.0         1.0    1.0    6.4375      0       3      0         0\n",
       "       35.00          0.0        10.0   10.0  639.8375      0      22      0         3\n",
       "       36.00          0.0        15.0    9.0  923.1958      6      29      5         4\n",
       "       36.50          0.0         1.0    0.0   26.0000      2       2      0         0\n",
       "       37.00          0.0         5.0    0.0  169.2792      2       8      5         1\n",
       "       38.00          0.0         6.0    4.0  267.0708      1      12      1         1\n",
       "       39.00          0.0         8.0    7.0  123.2750      5      19      1         1\n",
       "       40.00          0.0         7.0    5.0  117.2416      5      15      2         1\n",
       "       40.50          0.0         2.0    1.0   22.2500      2       6      0         0\n",
       "       41.00          0.0         2.0    1.0   21.2333      0       6      2         0\n",
       "       42.00          0.0        10.0    6.0  216.1084      1      21      3         3\n",
       "       43.00          0.0         3.0    2.0   40.7500      1       8      1         0\n",
       "       44.00          0.0         6.0    3.0  156.1250      1      15      3         1\n",
       "       45.00          0.0         6.0    5.0  187.1000      0      10      1         2\n",
       "       45.50          0.0         2.0    2.0   35.7250      0       4      0         0\n",
       "       46.00          0.0         3.0    2.0  166.3750      0       4      1         0\n",
       "       47.00          0.0         7.0    7.0  181.3583      0      12      0         0\n",
       "       48.00          0.0         5.0    3.0  176.1334      0       8      2         3\n",
       "       49.00          0.0         4.0    1.0  256.9167      1       6      3         2\n",
       "       50.00          0.0         5.0    2.0  317.0250      0       8      4         1\n",
       "       51.00          0.0         6.0    5.0  123.3084      1      13      0         1\n",
       "       52.00          0.0         4.0    3.0  136.6500      1       6      1         1\n",
       "       54.00          0.0         5.0    3.0  195.1500      1       8      1         0\n",
       "       55.00          0.0         1.0    1.0   30.5000      0       1      0         0\n",
       "       55.50          0.0         1.0    1.0    8.0500      0       3      0         0\n",
       "       56.00          0.0         3.0    3.0   92.7458      0       3      0         1\n",
       "       57.00          0.0         1.0    1.0   12.3500      0       2      0         0\n",
       "       58.00          0.0         2.0    1.0  142.9750      2       2      0         0\n",
       "       59.00          0.0         2.0    2.0   20.7500      0       5      0         0\n",
       "       60.00          0.0         3.0    1.0  144.7500      2       4      2         1\n",
       "       61.00          0.0         3.0    3.0   72.0583      0       5      0         0\n",
       "       62.00          0.0         3.0    3.0   63.6000      0       4      0         1\n",
       "       64.00          0.0         2.0    1.0  289.0000      4       2      1         0\n",
       "       65.00          0.0         3.0    2.0   96.2792      1       5      0         0\n",
       "       66.00          0.0         1.0    1.0   10.5000      0       2      0         0\n",
       "       70.00          0.0         2.0    1.0   81.5000      1       3      1         0\n",
       "       70.50          0.0         1.0    1.0    7.7500      0       3      0         0\n",
       "       71.00          0.0         2.0    2.0   84.1584      0       2      0         0\n",
       "       74.00          0.0         1.0    1.0    7.7750      0       3      0         0\n",
       "       80.00          0.0         1.0    1.0   30.0000      0       1      0         1"
      ]
     },
     "execution_count": 82,
     "metadata": {},
     "output_type": "execute_result"
    }
   ],
   "source": [
    "import numpy as np\n",
    "df=pd.read_csv('titanic.csv')\n",
    "result=pd.pivot_table(df, index = [\"sex\",\"age\"], aggfunc=np.sum)\n",
    "result"
   ]
  },
  {
   "cell_type": "markdown",
   "metadata": {},
   "source": [
    "Q124. Write a Pandas program to create the Pivot table and find survival\n",
    "rate by gender?"
   ]
  },
  {
   "cell_type": "code",
   "execution_count": 83,
   "metadata": {},
   "outputs": [
    {
     "name": "stdout",
     "output_type": "stream",
     "text": [
      "class      First    Second     Third\n",
      "sex                                 \n",
      "female  0.968085  0.921053  0.500000\n",
      "male    0.368852  0.157407  0.135447\n"
     ]
    }
   ],
   "source": [
    "import pandas as pd\n",
    "import numpy as np\n",
    "df=pd.read_csv('titanic.csv')\n",
    "result = df.pivot_table('survived', index=['sex'], columns='class')\n",
    "print(result)"
   ]
  },
  {
   "cell_type": "markdown",
   "metadata": {},
   "source": [
    "Q125. Write a pandas program to make partition each of the passengers\n",
    "into 4 categories based on their age."
   ]
  },
  {
   "cell_type": "code",
   "execution_count": 84,
   "metadata": {},
   "outputs": [
    {
     "name": "stdout",
     "output_type": "stream",
     "text": [
      "0      (10.0, 30.0]\n",
      "1      (30.0, 60.0]\n",
      "2      (10.0, 30.0]\n",
      "3      (30.0, 60.0]\n",
      "4      (30.0, 60.0]\n",
      "           ...     \n",
      "886    (10.0, 30.0]\n",
      "887    (10.0, 30.0]\n",
      "888             NaN\n",
      "889    (10.0, 30.0]\n",
      "890    (30.0, 60.0]\n",
      "Name: age, Length: 891, dtype: category\n",
      "Categories (4, interval[int64]): [(0, 10] < (10, 30] < (30, 60] < (60, 80]]\n"
     ]
    }
   ],
   "source": [
    "import pandas as pd\n",
    "import numpy as np\n",
    "df=pd.read_csv('titanic.csv')\n",
    "age = pd.cut(df['age'], [0, 10, 30, 60, 80])\n",
    "print(age)"
   ]
  },
  {
   "cell_type": "markdown",
   "metadata": {},
   "source": [
    "Q126. Write a pandas program to create the Pivot table and find survival\n",
    "rate by the gender, age of the different categories of various\n",
    "classes."
   ]
  },
  {
   "cell_type": "code",
   "execution_count": 85,
   "metadata": {},
   "outputs": [
    {
     "name": "stdout",
     "output_type": "stream",
     "text": [
      "class               First    Second     Third\n",
      "sex    age                                   \n",
      "female (0, 10]   0.000000  1.000000  0.500000\n",
      "       (10, 30]  0.970588  0.916667  0.508772\n",
      "       (30, 60]  0.979167  0.900000  0.272727\n",
      "       (60, 80]  1.000000       NaN  1.000000\n",
      "male   (0, 10]   1.000000  1.000000  0.363636\n",
      "       (10, 30]  0.458333  0.023256  0.139073\n",
      "       (30, 60]  0.412698  0.090909  0.118421\n",
      "       (60, 80]  0.083333  0.333333  0.000000\n"
     ]
    }
   ],
   "source": [
    "import pandas as pd\n",
    "import numpy as np\n",
    "df=pd.read_csv('titanic.csv')\n",
    "age = pd.cut(df['age'], [0, 10, 30, 60, 80])\n",
    "result=pd.pivot_table(df,'survived', index=['sex',age],columns=['class'])\n",
    "print(result)"
   ]
  },
  {
   "cell_type": "markdown",
   "metadata": {},
   "source": [
    "Q127. Write a pandas program to create the Pivot table and calculate\n",
    "number of women and men were in a particular cabin class"
   ]
  },
  {
   "cell_type": "code",
   "execution_count": 86,
   "metadata": {},
   "outputs": [
    {
     "data": {
      "text/html": [
       "<div>\n",
       "<style scoped>\n",
       "    .dataframe tbody tr th:only-of-type {\n",
       "        vertical-align: middle;\n",
       "    }\n",
       "\n",
       "    .dataframe tbody tr th {\n",
       "        vertical-align: top;\n",
       "    }\n",
       "\n",
       "    .dataframe thead tr th {\n",
       "        text-align: left;\n",
       "    }\n",
       "\n",
       "    .dataframe thead tr:last-of-type th {\n",
       "        text-align: right;\n",
       "    }\n",
       "</style>\n",
       "<table border=\"1\" class=\"dataframe\">\n",
       "  <thead>\n",
       "    <tr>\n",
       "      <th></th>\n",
       "      <th colspan=\"3\" halign=\"left\">Unnamed: 15</th>\n",
       "      <th colspan=\"3\" halign=\"left\">adult_male</th>\n",
       "      <th colspan=\"3\" halign=\"left\">age</th>\n",
       "      <th colspan=\"3\" halign=\"left\">alone</th>\n",
       "      <th colspan=\"3\" halign=\"left\">fare</th>\n",
       "      <th colspan=\"3\" halign=\"left\">parch</th>\n",
       "      <th colspan=\"3\" halign=\"left\">sibsp</th>\n",
       "      <th colspan=\"3\" halign=\"left\">survived</th>\n",
       "    </tr>\n",
       "    <tr>\n",
       "      <th>pclass</th>\n",
       "      <th>1</th>\n",
       "      <th>2</th>\n",
       "      <th>3</th>\n",
       "      <th>1</th>\n",
       "      <th>2</th>\n",
       "      <th>3</th>\n",
       "      <th>1</th>\n",
       "      <th>2</th>\n",
       "      <th>3</th>\n",
       "      <th>1</th>\n",
       "      <th>2</th>\n",
       "      <th>3</th>\n",
       "      <th>1</th>\n",
       "      <th>2</th>\n",
       "      <th>3</th>\n",
       "      <th>1</th>\n",
       "      <th>2</th>\n",
       "      <th>3</th>\n",
       "      <th>1</th>\n",
       "      <th>2</th>\n",
       "      <th>3</th>\n",
       "      <th>1</th>\n",
       "      <th>2</th>\n",
       "      <th>3</th>\n",
       "    </tr>\n",
       "    <tr>\n",
       "      <th>sex</th>\n",
       "      <th></th>\n",
       "      <th></th>\n",
       "      <th></th>\n",
       "      <th></th>\n",
       "      <th></th>\n",
       "      <th></th>\n",
       "      <th></th>\n",
       "      <th></th>\n",
       "      <th></th>\n",
       "      <th></th>\n",
       "      <th></th>\n",
       "      <th></th>\n",
       "      <th></th>\n",
       "      <th></th>\n",
       "      <th></th>\n",
       "      <th></th>\n",
       "      <th></th>\n",
       "      <th></th>\n",
       "      <th></th>\n",
       "      <th></th>\n",
       "      <th></th>\n",
       "      <th></th>\n",
       "      <th></th>\n",
       "      <th></th>\n",
       "    </tr>\n",
       "  </thead>\n",
       "  <tbody>\n",
       "    <tr>\n",
       "      <td>female</td>\n",
       "      <td>0.0</td>\n",
       "      <td>0.0</td>\n",
       "      <td>0.0</td>\n",
       "      <td>0.0</td>\n",
       "      <td>0.0</td>\n",
       "      <td>0.0</td>\n",
       "      <td>2942.00</td>\n",
       "      <td>2125.50</td>\n",
       "      <td>2218.50</td>\n",
       "      <td>34.0</td>\n",
       "      <td>32.0</td>\n",
       "      <td>60.0</td>\n",
       "      <td>9975.8250</td>\n",
       "      <td>1669.7292</td>\n",
       "      <td>2321.1086</td>\n",
       "      <td>43</td>\n",
       "      <td>46</td>\n",
       "      <td>115</td>\n",
       "      <td>52</td>\n",
       "      <td>37</td>\n",
       "      <td>129</td>\n",
       "      <td>91</td>\n",
       "      <td>70</td>\n",
       "      <td>72</td>\n",
       "    </tr>\n",
       "    <tr>\n",
       "      <td>male</td>\n",
       "      <td>0.0</td>\n",
       "      <td>0.0</td>\n",
       "      <td>0.0</td>\n",
       "      <td>119.0</td>\n",
       "      <td>99.0</td>\n",
       "      <td>319.0</td>\n",
       "      <td>4169.42</td>\n",
       "      <td>3043.33</td>\n",
       "      <td>6706.42</td>\n",
       "      <td>75.0</td>\n",
       "      <td>72.0</td>\n",
       "      <td>264.0</td>\n",
       "      <td>8201.5875</td>\n",
       "      <td>2132.1125</td>\n",
       "      <td>4393.5865</td>\n",
       "      <td>34</td>\n",
       "      <td>24</td>\n",
       "      <td>78</td>\n",
       "      <td>38</td>\n",
       "      <td>37</td>\n",
       "      <td>173</td>\n",
       "      <td>45</td>\n",
       "      <td>17</td>\n",
       "      <td>47</td>\n",
       "    </tr>\n",
       "  </tbody>\n",
       "</table>\n",
       "</div>"
      ],
      "text/plain": [
       "       Unnamed: 15           adult_male                   age                   alone                    fare                       parch          sibsp          survived        \n",
       "pclass           1    2    3          1     2      3        1        2        3     1     2      3          1          2          3     1   2    3     1   2    3        1   2   3\n",
       "sex                                                                                                                                                                               \n",
       "female         0.0  0.0  0.0        0.0   0.0    0.0  2942.00  2125.50  2218.50  34.0  32.0   60.0  9975.8250  1669.7292  2321.1086    43  46  115    52  37  129       91  70  72\n",
       "male           0.0  0.0  0.0      119.0  99.0  319.0  4169.42  3043.33  6706.42  75.0  72.0  264.0  8201.5875  2132.1125  4393.5865    34  24   78    38  37  173       45  17  47"
      ]
     },
     "execution_count": 86,
     "metadata": {},
     "output_type": "execute_result"
    }
   ],
   "source": [
    "import pandas as pd\n",
    "import numpy as np\n",
    "df=pd.read_csv('titanic.csv')\n",
    "result=pd.pivot_table(df,index=['sex'],columns=['pclass'],aggfunc=np.sum)\n",
    "result"
   ]
  },
  {
   "cell_type": "markdown",
   "metadata": {},
   "source": [
    "Q128. Write a pandas program to create the Pivot table and separate\n",
    "the gender according to whether they travelled alone or not to get\n",
    "the probability of survival"
   ]
  },
  {
   "cell_type": "code",
   "execution_count": 87,
   "metadata": {},
   "outputs": [
    {
     "name": "stdout",
     "output_type": "stream",
     "text": [
      "class            First    Second     Third\n",
      "sex    alone                              \n",
      "female False  0.966667  0.931818  0.416667\n",
      "       True   0.970588  0.906250  0.616667\n",
      "male   False  0.425532  0.277778  0.180723\n",
      "       True   0.333333  0.097222  0.121212\n"
     ]
    }
   ],
   "source": [
    "import pandas as pd\n",
    "import numpy as np\n",
    "df = pd.read_csv('titanic.csv')\n",
    "result = df.pivot_table( 'survived' , [ 'sex' , 'alone' ] , 'class' )\n",
    "print(result)"
   ]
  },
  {
   "cell_type": "markdown",
   "metadata": {},
   "source": [
    "Q129. Write a pandas program to create the Pivot table and find the\n",
    "probability of survival by class, gender, solo boarding, and the port\n",
    "of embarkation."
   ]
  },
  {
   "cell_type": "code",
   "execution_count": 88,
   "metadata": {},
   "outputs": [
    {
     "name": "stdout",
     "output_type": "stream",
     "text": [
      "class            First                   Second                    Third                    \n",
      "embarked             C    Q         S         C    Q         S         C         Q         S\n",
      "sex    alone                                                                                \n",
      "female False  1.000000  1.0  0.941176  1.000000  NaN  0.923077  0.611111  0.625000  0.327586\n",
      "       True   0.944444  NaN  1.000000  1.000000  1.0  0.892857  0.800000  0.760000  0.466667\n",
      "male   False  0.473684  0.0  0.407407  0.166667  NaN  0.300000  0.500000  0.100000  0.142857\n",
      "       True   0.347826  NaN  0.326923  0.250000  0.0  0.089552  0.151515  0.068966  0.123762\n"
     ]
    }
   ],
   "source": [
    "import pandas as pd\n",
    "import numpy as np\n",
    "df = pd.read_csv('titanic.csv')\n",
    "df.drop(['Unnamed: 15'],axis=1,inplace=True)\n",
    "result = df.pivot_table( 'survived' ,['sex','alone'], [ 'class','embarked' ]  )\n",
    "print(result)"
   ]
  },
  {
   "cell_type": "markdown",
   "metadata": {},
   "source": [
    "Q130. Write a pandas program to get current date, oldest date and\n",
    "number of days between Current date and the oldest date of Ufo\n",
    "dataset."
   ]
  },
  {
   "cell_type": "code",
   "execution_count": 90,
   "metadata": {},
   "outputs": [
    {
     "name": "stdout",
     "output_type": "stream",
     "text": [
      "Original Dataframe:\n",
      "            Date_time                  city state/province country UFO_shape  length_of_encounter_seconds described_duration_of_encounter                                        description date_documented   latitude   longitude\n",
      "0 1910-06-01 15:00:00           wills point             tx      us     cigar                          120                       2 minutes       Cigar shaped object moving from West to East      04/16/2005  32.709167  -96.008056\n",
      "1 1920-06-11 21:00:00                cicero             in      us   unknown                           60                        1 minute  ((NUFORC Note:  Probable hoax.  Note date.  PD...      05/12/2009  40.123889  -86.013333\n",
      "2 1929-07-05 14:00:00  buchanan  (or burns)             or      us      disk                           60                            1min  we were traveling east of burns&#44clmbing up ...      08/16/2002  43.642500 -118.627500\n",
      "3 1931-06-01 13:00:00               abilene             ks      us      disk                         1800                 30 min. approx.  This is a what my mother related to me regardi...      02/14/2006  38.917222  -97.213611\n",
      "4 1939-06-01 20:00:00              waterloo             al      us  fireball                          300                       5 minutes  4 high school students see bright&#44 ground-l...      02/21/2014  34.918056  -88.064167\n",
      "\n",
      "Current date of Ufo dataset:\n",
      "2004-12-08 05:30:00\n",
      "\n",
      "Oldest date of Ufo dataset:\n",
      "1910-06-01 15:00:00\n",
      "\n",
      "Number of days between Current date and oldest date of Ufo dataset:\n",
      "34523\n"
     ]
    }
   ],
   "source": [
    "import pandas as pd\n",
    "df = pd.read_csv(r'ufo.csv')\n",
    "df['Date_time'] = df['Date_time'].astype('datetime64[ns]')\n",
    "print(\"Original Dataframe:\")\n",
    "print(df.head())\n",
    "print(\"\\nCurrent date of Ufo dataset:\")\n",
    "print(df.Date_time.max())\n",
    "print(\"\\nOldest date of Ufo dataset:\")\n",
    "print(df.Date_time.min())\n",
    "print(\"\\nNumber of days between Current date and oldest date of Ufo dataset:\")\n",
    "print((df.Date_time.max() - df.Date_time.min()).days)"
   ]
  },
  {
   "cell_type": "markdown",
   "metadata": {},
   "source": [
    "Q131. Write a pandas program to get all sighting days of the\n",
    "unidentified flying object (ufo) between 1950-10-10 and 1960-10-\n",
    "10."
   ]
  },
  {
   "cell_type": "code",
   "execution_count": 91,
   "metadata": {},
   "outputs": [
    {
     "name": "stdout",
     "output_type": "stream",
     "text": [
      "Original Dataframe:\n",
      "          Date_time                  city state/province country UFO_shape  length_of_encounter_seconds described_duration_of_encounter                                        description date_documented   latitude   longitude\n",
      "0  06-01-1910 15:00           wills point             tx      us     cigar                          120                       2 minutes       Cigar shaped object moving from West to East      04/16/2005  32.709167  -96.008056\n",
      "1  06-11-1920 21:00                cicero             in      us   unknown                           60                        1 minute  ((NUFORC Note:  Probable hoax.  Note date.  PD...      05/12/2009  40.123889  -86.013333\n",
      "2  07-05-1929 14:00  buchanan  (or burns)             or      us      disk                           60                            1min  we were traveling east of burns&#44clmbing up ...      08/16/2002  43.642500 -118.627500\n",
      "3  06-01-1931 13:00               abilene             ks      us      disk                         1800                 30 min. approx.  This is a what my mother related to me regardi...      02/14/2006  38.917222  -97.213611\n",
      "4  06-01-1939 20:00              waterloo             al      us  fireball                          300                       5 minutes  4 high school students see bright&#44 ground-l...      02/21/2014  34.918056  -88.064167\n",
      "Dataframe with all sighting days of the unidentified flying object (ufo) between 1950-10-10 and 1960-10-10\n",
      "Empty DataFrame\n",
      "Columns: [Date_time, city, state/province, country, UFO_shape, length_of_encounter_seconds, described_duration_of_encounter, description, date_documented, latitude, longitude]\n",
      "Index: []\n"
     ]
    }
   ],
   "source": [
    "import pandas as pd\n",
    "df = pd.read_csv('ufo.csv')\n",
    "print(\"Original Dataframe:\")\n",
    "print(df.head())\n",
    "print('Dataframe with all sighting days of the unidentified flying object (ufo) between 1950-10-10 and 1960-10-10')\n",
    "print(df[(df['Date_time']>'10/10/1950 00:00:00') & (df['Date_time']<'10/10/1960 23:59:59')])"
   ]
  },
  {
   "cell_type": "markdown",
   "metadata": {},
   "source": [
    "Q132. Write a Pandas program to extract the year, month, day, hour,\n",
    "minute, second, and weekday from unidentified flying object (UFO)\n",
    "reporting date."
   ]
  },
  {
   "cell_type": "code",
   "execution_count": 92,
   "metadata": {},
   "outputs": [
    {
     "name": "stdout",
     "output_type": "stream",
     "text": [
      "Choose first record\n",
      "1910-06-01 15:00:00\n",
      "1910\n",
      "6\n",
      "1\n",
      "15\n",
      "0\n",
      "0\n",
      "2\n"
     ]
    }
   ],
   "source": [
    "import pandas as pd\n",
    "df = pd.read_csv('ufo.csv')\n",
    "df['Date_time'] = df['Date_time'].astype('datetime64[ns]')\n",
    "print('Choose first record')\n",
    "print(df['Date_time'][0])\n",
    "print(df.Date_time.dt.year[0])\n",
    "print(df.Date_time.dt.month[0])\n",
    "print(df.Date_time.dt.day[0])\n",
    "print(df.Date_time.dt.hour[0])\n",
    "print(df.Date_time.dt.minute[0])\n",
    "print(df.Date_time.dt.second[0])\n",
    "print(df.Date_time.dt.weekday[0])"
   ]
  },
  {
   "cell_type": "markdown",
   "metadata": {},
   "source": [
    "Q133. Write a pandas program to count year-country wise frequency of\n",
    "reporting dates of the unidentified flying object(UFO)."
   ]
  },
  {
   "cell_type": "code",
   "execution_count": 93,
   "metadata": {},
   "outputs": [
    {
     "data": {
      "text/plain": [
       "Year  country\n",
       "1910  us          1\n",
       "1920  us          1\n",
       "1929  us          1\n",
       "1931  us          1\n",
       "1939  us          2\n",
       "1941  us          1\n",
       "1942  us          1\n",
       "1944  us          3\n",
       "1945  us          4\n",
       "1946  us          3\n",
       "1947  us          4\n",
       "1948  us          3\n",
       "1949  us          4\n",
       "1950  us          4\n",
       "1951  ca          1\n",
       "      us          3\n",
       "1952  us          4\n",
       "1953  us          4\n",
       "1954  us          4\n",
       "1955  us          4\n",
       "1956  us          4\n",
       "1957  us          4\n",
       "1958  us          4\n",
       "1959  us          4\n",
       "1960  us          4\n",
       "1961  us          4\n",
       "1962  us          4\n",
       "1963  us          4\n",
       "1964  us          4\n",
       "1965  us          4\n",
       "1966  us          4\n",
       "1967  us          4\n",
       "1968  us          4\n",
       "1969  us          4\n",
       "1970  us          4\n",
       "1971  ca          1\n",
       "      us          3\n",
       "1972  us          4\n",
       "1973  us          4\n",
       "1974  us          4\n",
       "1975  us          4\n",
       "1976  us          4\n",
       "1977  us          4\n",
       "1978  us          4\n",
       "1979  us          4\n",
       "1980  us          4\n",
       "1981  us          4\n",
       "1982  us          4\n",
       "1983  us          4\n",
       "1984  us          4\n",
       "1985  us          4\n",
       "1986  us          4\n",
       "1987  us          4\n",
       "1988  us          4\n",
       "1989  ca          1\n",
       "      us          3\n",
       "1990  us          4\n",
       "1991  us          4\n",
       "1992  us          8\n",
       "1993  ca          1\n",
       "      us         11\n",
       "1994  ca          1\n",
       "      us         10\n",
       "1995  ca          1\n",
       "      us         11\n",
       "1996  us         12\n",
       "1997  ca          1\n",
       "      us         13\n",
       "1998  us         13\n",
       "1999  us         11\n",
       "2000  ca          1\n",
       "      us         11\n",
       "2001  ca          1\n",
       "      us         14\n",
       "2002  ca          1\n",
       "      us         13\n",
       "2003  us          9\n",
       "2004  ca          1\n",
       "      us          6\n",
       "dtype: int64"
      ]
     },
     "execution_count": 93,
     "metadata": {},
     "output_type": "execute_result"
    }
   ],
   "source": [
    "import pandas as pd\n",
    "df = pd.read_csv('ufo.csv')\n",
    "df['Date_time'] = df['Date_time'].astype('datetime64[ns]')\n",
    "df['Year']=df.Date_time.dt.year\n",
    "df.groupby(['Year', 'country']).size()"
   ]
  },
  {
   "cell_type": "markdown",
   "metadata": {},
   "source": [
    "Q134. Write a pandas program to get the difference (in days) between\n",
    "documented date and reporting date of unidentified flying object\n",
    "(UFO)."
   ]
  },
  {
   "cell_type": "code",
   "execution_count": 94,
   "metadata": {},
   "outputs": [
    {
     "name": "stdout",
     "output_type": "stream",
     "text": [
      "difference (in days) between documented date and reporting date of unidentified flying object (UFO)\n",
      "0      15\n",
      "1       1\n",
      "2      11\n",
      "3      13\n",
      "4      20\n",
      "5      -5\n",
      "6       6\n",
      "7       6\n",
      "8      24\n",
      "9      11\n",
      "10     14\n",
      "11     20\n",
      "12     -5\n",
      "13      9\n",
      "14     16\n",
      "15     10\n",
      "16     11\n",
      "17     -4\n",
      "18     27\n",
      "19     29\n",
      "20     15\n",
      "21     15\n",
      "22     14\n",
      "23      6\n",
      "24      7\n",
      "25     18\n",
      "26     22\n",
      "27     23\n",
      "28     17\n",
      "29     11\n",
      "30     13\n",
      "31     18\n",
      "32     15\n",
      "33     17\n",
      "34     22\n",
      "35     22\n",
      "36     17\n",
      "37     11\n",
      "38     30\n",
      "39      1\n",
      "40     30\n",
      "41      1\n",
      "42     13\n",
      "43     24\n",
      "44     21\n",
      "45      9\n",
      "46     11\n",
      "47      4\n",
      "48      1\n",
      "49     15\n",
      "50     23\n",
      "51     17\n",
      "52     15\n",
      "53      6\n",
      "54     27\n",
      "55     14\n",
      "56     27\n",
      "57     23\n",
      "58     26\n",
      "59     25\n",
      "60      1\n",
      "61     11\n",
      "62     10\n",
      "63     30\n",
      "64     15\n",
      "65     13\n",
      "66     21\n",
      "67     18\n",
      "68     26\n",
      "69     15\n",
      "70     15\n",
      "71     18\n",
      "72      1\n",
      "73     16\n",
      "74      7\n",
      "75     15\n",
      "76     19\n",
      "77      6\n",
      "78     27\n",
      "79      3\n",
      "80     27\n",
      "81      9\n",
      "82      9\n",
      "83     13\n",
      "84      6\n",
      "85     17\n",
      "86      0\n",
      "87     11\n",
      "88     27\n",
      "89     20\n",
      "90      1\n",
      "91      0\n",
      "92     27\n",
      "93      2\n",
      "94     11\n",
      "95      1\n",
      "96      0\n",
      "97     15\n",
      "98     30\n",
      "99     15\n",
      "100    19\n",
      "101    18\n",
      "102    11\n",
      "103     4\n",
      "104    10\n",
      "105     4\n",
      "106    11\n",
      "107    18\n",
      "108    19\n",
      "109     5\n",
      "110    10\n",
      "111    16\n",
      "112    16\n",
      "113     1\n",
      "114    17\n",
      "115     1\n",
      "116    21\n",
      "117     1\n",
      "118    15\n",
      "119     1\n",
      "120     1\n",
      "121    15\n",
      "122    30\n",
      "123    26\n",
      "124    11\n",
      "125    27\n",
      "126    18\n",
      "127    17\n",
      "128     4\n",
      "129     6\n",
      "130    18\n",
      "131    25\n",
      "132    22\n",
      "133     4\n",
      "134    17\n",
      "135    27\n",
      "136    29\n",
      "137     0\n",
      "138     1\n",
      "139    27\n",
      "140    13\n",
      "141    13\n",
      "142     7\n",
      "143     8\n",
      "144    27\n",
      "145    14\n",
      "146    22\n",
      "147    15\n",
      "148    25\n",
      "149    11\n",
      "150    15\n",
      "151    24\n",
      "152     6\n",
      "153    21\n",
      "154    10\n",
      "155    19\n",
      "156    10\n",
      "157    22\n",
      "158     7\n",
      "159    14\n",
      "160    29\n",
      "161    27\n",
      "162    30\n",
      "163    11\n",
      "164    18\n",
      "165    25\n",
      "166     6\n",
      "167    10\n",
      "168     8\n",
      "169    10\n",
      "170    10\n",
      "171     4\n",
      "172    22\n",
      "173    26\n",
      "174     0\n",
      "175    10\n",
      "176    18\n",
      "177     2\n",
      "178     1\n",
      "179     5\n",
      "180    28\n",
      "181    29\n",
      "182     6\n",
      "183     9\n",
      "184     0\n",
      "185     6\n",
      "186    29\n",
      "187    -2\n",
      "188    25\n",
      "189    10\n",
      "190    26\n",
      "191    24\n",
      "192    19\n",
      "193     5\n",
      "194     8\n",
      "195    23\n",
      "196     8\n",
      "197     1\n",
      "198    26\n",
      "199     5\n",
      "200    23\n",
      "201    16\n",
      "202     1\n",
      "203    11\n",
      "204    18\n",
      "205     6\n",
      "206     7\n",
      "207    13\n",
      "208    20\n",
      "209    19\n",
      "210     3\n",
      "211    10\n",
      "212     8\n",
      "213    21\n",
      "214     0\n",
      "215    -6\n",
      "216   -10\n",
      "217    15\n",
      "218     0\n",
      "219     2\n",
      "220    18\n",
      "221    23\n",
      "222    22\n",
      "223     5\n",
      "224    18\n",
      "225     5\n",
      "226    11\n",
      "227    -8\n",
      "228     3\n",
      "229     9\n",
      "230    25\n",
      "231    27\n",
      "232    16\n",
      "233    10\n",
      "234    -5\n",
      "235     7\n",
      "236    21\n",
      "237    -6\n",
      "238    13\n",
      "239    16\n",
      "240    19\n",
      "241    25\n",
      "242    -1\n",
      "243     8\n",
      "244     0\n",
      "245    19\n",
      "246    16\n",
      "247    22\n",
      "248    10\n",
      "249    14\n",
      "250    10\n",
      "251     2\n",
      "252     0\n",
      "253     4\n",
      "254    21\n",
      "255    26\n",
      "256    25\n",
      "257     1\n",
      "258     6\n",
      "259    22\n",
      "260    24\n",
      "261    -6\n",
      "262    -2\n",
      "263    10\n",
      "264    -1\n",
      "265    15\n",
      "266    13\n",
      "267    14\n",
      "268     1\n",
      "269    20\n",
      "270     6\n",
      "271    22\n",
      "272    17\n",
      "273     8\n",
      "274    20\n",
      "275    19\n",
      "276    19\n",
      "277    18\n",
      "278    10\n",
      "279     3\n",
      "280    -1\n",
      "281    11\n",
      "282     7\n",
      "283     3\n",
      "284    12\n",
      "285     6\n",
      "286    14\n",
      "287     2\n",
      "288     1\n",
      "289    12\n",
      "290    30\n",
      "291     5\n",
      "292     8\n",
      "293    12\n",
      "294     6\n",
      "295     1\n",
      "296    11\n",
      "297    17\n",
      "298    11\n",
      "299    14\n",
      "300    12\n",
      "301    11\n",
      "302    30\n",
      "303    24\n",
      "304    13\n",
      "305     8\n",
      "306     0\n",
      "307    15\n",
      "308    22\n",
      "309    11\n",
      "310     8\n",
      "311    -5\n",
      "312    -5\n",
      "313     7\n",
      "314     0\n",
      "315     4\n",
      "316     0\n",
      "317    18\n",
      "318    15\n",
      "319     9\n",
      "320    13\n",
      "321    22\n",
      "322    22\n",
      "323    10\n",
      "324     8\n",
      "325     4\n",
      "326     5\n",
      "327     5\n",
      "328    13\n",
      "329    18\n",
      "330    10\n",
      "331     2\n",
      "332     5\n",
      "333     4\n",
      "334     5\n",
      "335     2\n",
      "336     8\n",
      "337    13\n",
      "338    11\n",
      "339    13\n",
      "340    11\n",
      "341    25\n",
      "342     4\n",
      "343    21\n",
      "344     2\n",
      "345    -1\n",
      "346     2\n",
      "dtype: int64\n"
     ]
    }
   ],
   "source": [
    "import pandas as pd\n",
    "df = pd.read_csv(r'ufo.csv')\n",
    "df['Date_time'] = df['Date_time'].astype('datetime64[ns]')\n",
    "df['date_documented'] = df['date_documented'].astype('datetime64[ns]')\n",
    "print('difference (in days) between documented date and reporting date of unidentified flying object (UFO)')\n",
    "print(df.date_documented.dt.day-df.Date_time.dt.day)"
   ]
  },
  {
   "cell_type": "markdown",
   "metadata": {},
   "source": [
    "Q135. Write a pandas program to generate sequences of fixedfrequency dates and time spans."
   ]
  },
  {
   "cell_type": "code",
   "execution_count": 95,
   "metadata": {},
   "outputs": [
    {
     "name": "stdout",
     "output_type": "stream",
     "text": [
      "Hourly frequency:\n",
      "DatetimeIndex(['2020-01-01 00:00:00', '2020-01-01 01:00:00', '2020-01-01 02:00:00', '2020-01-01 03:00:00', '2020-01-01 04:00:00', '2020-01-01 05:00:00', '2020-01-01 06:00:00', '2020-01-01 07:00:00', '2020-01-01 08:00:00', '2020-01-01 09:00:00', '2020-01-01 10:00:00', '2020-01-01 11:00:00'], dtype='datetime64[ns]', freq='H')\n",
      "\n",
      "Minutely frequency:\n",
      "DatetimeIndex(['2020-01-01 00:00:00', '2020-01-01 00:01:00', '2020-01-01 00:02:00', '2020-01-01 00:03:00', '2020-01-01 00:04:00', '2020-01-01 00:05:00', '2020-01-01 00:06:00', '2020-01-01 00:07:00', '2020-01-01 00:08:00', '2020-01-01 00:09:00', '2020-01-01 00:10:00', '2020-01-01 00:11:00'], dtype='datetime64[ns]', freq='T')\n",
      "\n",
      "Secondly frequency:\n",
      "DatetimeIndex(['2020-01-01 00:00:00', '2020-01-01 00:00:01', '2020-01-01 00:00:02', '2020-01-01 00:00:03', '2020-01-01 00:00:04', '2020-01-01 00:00:05', '2020-01-01 00:00:06', '2020-01-01 00:00:07', '2020-01-01 00:00:08', '2020-01-01 00:00:09', '2020-01-01 00:00:10', '2020-01-01 00:00:11'], dtype='datetime64[ns]', freq='S')\n",
      "nMultiple Hourly frequency:\n",
      "DatetimeIndex(['2020-01-01 00:00:00', '2020-01-01 02:00:00', '2020-01-01 04:00:00', '2020-01-01 06:00:00', '2020-01-01 08:00:00', '2020-01-01 10:00:00', '2020-01-01 12:00:00', '2020-01-01 14:00:00', '2020-01-01 16:00:00', '2020-01-01 18:00:00', '2020-01-01 20:00:00', '2020-01-01 22:00:00'], dtype='datetime64[ns]', freq='2H')\n",
      "\n",
      "Multiple Minutely frequency:\n",
      "DatetimeIndex(['2020-01-01 00:00:00', '2020-01-01 00:05:00', '2020-01-01 00:10:00', '2020-01-01 00:15:00', '2020-01-01 00:20:00', '2020-01-01 00:25:00', '2020-01-01 00:30:00', '2020-01-01 00:35:00', '2020-01-01 00:40:00', '2020-01-01 00:45:00', '2020-01-01 00:50:00', '2020-01-01 00:55:00'], dtype='datetime64[ns]', freq='5T')\n",
      "\n",
      "Multiple Secondly frequency:\n",
      "DatetimeIndex(['2020-03-31', '2020-06-30', '2020-09-30', '2020-12-31', '2021-03-31', '2021-06-30', '2021-09-30', '2021-12-31', '2022-03-31', '2022-06-30', '2022-09-30', '2022-12-30'], dtype='datetime64[ns]', freq='BQ-DEC')\n",
      "\n",
      "Weekly frequency:\n",
      "DatetimeIndex(['2020-01-05', '2020-01-12', '2020-01-19', '2020-01-26', '2020-02-02', '2020-02-09', '2020-02-16', '2020-02-23', '2020-03-01', '2020-03-08', '2020-03-15', '2020-03-22'], dtype='datetime64[ns]', freq='W-SUN')\n",
      "\n",
      "Combine together day and intraday offsets-1:\n",
      "DatetimeIndex(['2020-01-01 00:00:00', '2020-01-01 02:20:00', '2020-01-01 04:40:00', '2020-01-01 07:00:00', '2020-01-01 09:20:00', '2020-01-01 11:40:00', '2020-01-01 14:00:00', '2020-01-01 16:20:00', '2020-01-01 18:40:00', '2020-01-01 21:00:00', '2020-01-01 23:20:00', '2020-01-02 01:40:00'], dtype='datetime64[ns]', freq='140T')\n",
      "\n",
      "Combine together day and intraday offsets-2:\n",
      "DatetimeIndex(['2020-01-01 00:00:00', '2020-01-02 00:00:00.000010', '2020-01-03 00:00:00.000020', '2020-01-04 00:00:00.000030', '2020-01-05 00:00:00.000040', '2020-01-06 00:00:00.000050', '2020-01-07 00:00:00.000060', '2020-01-08 00:00:00.000070', '2020-01-09 00:00:00.000080', '2020-01-10 00:00:00.000090', '2020-01-11 00:00:00.000100', '2020-01-12 00:00:00.000110'], dtype='datetime64[ns]', freq='86400000010U')\n"
     ]
    }
   ],
   "source": [
    "import pandas as pd\n",
    "dtr = pd.date_range('2020-01-01', periods=12, freq='H')\n",
    "print(\"Hourly frequency:\")\n",
    "print(dtr)\n",
    "dtr = pd.date_range('2020-01-01', periods=12, freq='min')\n",
    "print(\"\\nMinutely frequency:\")\n",
    "print(dtr)\n",
    "dtr = pd.date_range('2020-01-01', periods=12, freq='S')\n",
    "print(\"\\nSecondly frequency:\")\n",
    "print(dtr)\n",
    "dtr = pd.date_range('2020-01-01', periods=12, freq='2H')\n",
    "print(\"nMultiple Hourly frequency:\")\n",
    "print(dtr)\n",
    "dtr = pd.date_range('2020-01-01', periods=12, freq='5min')\n",
    "print(\"\\nMultiple Minutely frequency:\")\n",
    "print(dtr)\n",
    "dtr = pd.date_range('2020-01-01', periods=12, freq='BQ')\n",
    "print(\"\\nMultiple Secondly frequency:\")\n",
    "print(dtr)\n",
    "dtr = pd.date_range('2020-01-01', periods=12, freq='w')\n",
    "print(\"\\nWeekly frequency:\")\n",
    "print(dtr)\n",
    "dtr = pd.date_range('2020-01-01', periods=12, freq='2h20min')\n",
    "print(\"\\nCombine together day and intraday offsets-1:\")\n",
    "print(dtr)\n",
    "dtr = pd.date_range('2020-01-01', periods=12, freq='1D10U')\n",
    "print(\"\\nCombine together day and intraday offsets-2:\")\n",
    "print(dtr)"
   ]
  },
  {
   "cell_type": "markdown",
   "metadata": {},
   "source": [
    "Q136. Write a pandas program to manipulate and convert date times\n",
    "with timezone information."
   ]
  },
  {
   "cell_type": "code",
   "execution_count": 96,
   "metadata": {},
   "outputs": [
    {
     "name": "stdout",
     "output_type": "stream",
     "text": [
      "DatetimeIndex(['2020-01-01 00:00:00-05:00', '2020-01-01 01:00:00-05:00', '2020-01-01 02:00:00-05:00'], dtype='datetime64[ns, US/Eastern]', freq='H')\n",
      "\n",
      "From US/Eastern to Europe/Warsaw:\n",
      "DatetimeIndex(['2020-01-01 06:00:00+01:00', '2020-01-01 07:00:00+01:00', '2020-01-01 08:00:00+01:00'], dtype='datetime64[ns, Europe/Warsaw]', freq='H')\n"
     ]
    }
   ],
   "source": [
    "import pandas as pd\n",
    "dtt = pd.date_range('2020-01-01', periods=3, freq='H')\n",
    "dtt=dtt.tz_localize('US/Eastern')\n",
    "print(dtt)\n",
    "print(\"\\nFrom US/Eastern to Europe/Warsaw:\")\n",
    "dtt = dtt.tz_convert('Europe/Warsaw')\n",
    "print(dtt)"
   ]
  },
  {
   "cell_type": "markdown",
   "metadata": {},
   "source": [
    "Q137. Write a pandas program to create the graphical analysis of UFO\n",
    "(unidentified flying object) Sightings year."
   ]
  },
  {
   "cell_type": "code",
   "execution_count": 97,
   "metadata": {},
   "outputs": [
    {
     "data": {
      "text/plain": [
       "<matplotlib.axes._subplots.AxesSubplot at 0x1a40f788>"
      ]
     },
     "execution_count": 97,
     "metadata": {},
     "output_type": "execute_result"
    },
    {
     "data": {
      "image/png": "[encoded data removed]",
      "text/plain": [
       "<Figure size 720x720 with 1 Axes>"
      ]
     },
     "metadata": {
      "needs_background": "light"
     },
     "output_type": "display_data"
    }
   ],
   "source": [
    "import pandas as pd\n",
    "import matplotlib.pyplot as plt\n",
    "%matplotlib inline\n",
    "df = pd.read_csv('ufo.csv')\n",
    "df['Date_time'] = df['Date_time'].astype('datetime64[ns]')\n",
    "df['Year'] =df.Date_time.dt.year\n",
    "plt.figure(figsize=(10,10))\n",
    "plt.title('UFO Sightings by Year')\n",
    "plt.xlabel(\"Year\")\n",
    "plt.ylabel(\"Number of reports\")\n",
    "df.Year.value_counts().plot(kind='bar',color='red')"
   ]
  },
  {
   "cell_type": "markdown",
   "metadata": {},
   "source": [
    "Q138. Write a pandas program to create a comparison of the top 10\n",
    "years in which the (UFO) was sighted VS each Month."
   ]
  },
  {
   "cell_type": "code",
   "execution_count": 98,
   "metadata": {},
   "outputs": [
    {
     "name": "stdout",
     "output_type": "stream",
     "text": [
      "\n",
      "Comparison of the top 10 years in which the UFO was sighted vs each month:\n",
      "Date_time   1    2    3    4    5    6    7    8    9    10   11   12\n",
      "Date_time                                                            \n",
      "1993       NaN  NaN  1.0  1.0  NaN  1.0  3.0  2.0  3.0  NaN  1.0  NaN\n",
      "1994       2.0  NaN  3.0  2.0  2.0  NaN  NaN  1.0  NaN  NaN  NaN  1.0\n",
      "1995       2.0  1.0  NaN  1.0  1.0  1.0  3.0  NaN  1.0  NaN  2.0  NaN\n",
      "1996       NaN  1.0  NaN  1.0  1.0  1.0  3.0  3.0  1.0  NaN  1.0  NaN\n",
      "1997       NaN  2.0  1.0  NaN  2.0  1.0  3.0  1.0  1.0  1.0  1.0  1.0\n",
      "1998       1.0  2.0  1.0  3.0  NaN  2.0  1.0  NaN  NaN  1.0  NaN  2.0\n",
      "1999       NaN  NaN  2.0  NaN  1.0  2.0  4.0  NaN  NaN  1.0  NaN  1.0\n",
      "2000       NaN  3.0  2.0  NaN  2.0  1.0  1.0  NaN  NaN  NaN  1.0  2.0\n",
      "2001       2.0  1.0  2.0  2.0  1.0  2.0  NaN  1.0  2.0  NaN  1.0  1.0\n",
      "2002       3.0  1.0  1.0  NaN  3.0  NaN  2.0  1.0  2.0  1.0  NaN  NaN\n"
     ]
    }
   ],
   "source": [
    "import pandas as pd\n",
    "df = pd.read_csv(r'ufo.csv') \n",
    "df['Date_time'] = df['Date_time'].astype('datetime64[ns]') \n",
    "most_sightings_years = df['Date_time'].dt.year.value_counts().head(10) \n",
    "def is_top_years(year): \n",
    "    if year in most_sightings_years.index: \n",
    "        return year \n",
    "month_vs_year = df.pivot_table(columns=df['Date_time'].dt.month,index=df['Date_time'].dt.year.apply(is_top_years),aggfunc='count',values='city') \n",
    "month_vs_year.index = month_vs_year.index.astype(int) \n",
    "month_vs_year.columns = month_vs_year.columns.astype(int)\n",
    "print(\"\\nComparison of the top 10 years in which the UFO was sighted vs each month:\") \n",
    "print(month_vs_year.head(10))"
   ]
  },
  {
   "cell_type": "markdown",
   "metadata": {},
   "source": [
    "Q139. Write a pandas program to create a heatmap (rectangular data as\n",
    "a colour-encoded matrix) for comparison of top 10 years in\n",
    "which (UFO ) was sighted VS each Month."
   ]
  },
  {
   "cell_type": "code",
   "execution_count": 99,
   "metadata": {},
   "outputs": [
    {
     "name": "stdout",
     "output_type": "stream",
     "text": [
      "\n",
      "Heatmap for comparison of the top 10 years in which the UFO was sighted vs each month:\n"
     ]
    },
    {
     "data": {
      "image/png": "[encoded data removed]",
      "text/plain": [
       "<Figure size 720x576 with 2 Axes>"
      ]
     },
     "metadata": {
      "needs_background": "light"
     },
     "output_type": "display_data"
    }
   ],
   "source": [
    "import pandas as pd\n",
    "import matplotlib.pyplot as plt\n",
    "import seaborn as sns\n",
    "df = pd.read_csv('ufo.csv')\n",
    "df['Date_time'] = df['Date_time'].astype('datetime64[ns]')\n",
    "most_sightings_years = df['Date_time'].dt.year.value_counts().head(10)\n",
    "def is_top_years(year):\n",
    "    if year in most_sightings_years.index:\n",
    "        return year\n",
    "month_vs_year = df.pivot_table(columns=df['Date_time'].dt.month,index=df['Date_time'].dt.year.apply(is_top_years),aggfunc='count',values='city')\n",
    "month_vs_year.columns = month_vs_year.columns.astype(int)\n",
    "print(\"\\nHeatmap for comparison of the top 10 years in which the UFO was sighted vs each month:\")\n",
    "plt.figure(figsize=(10,8))\n",
    "ax = sns.heatmap(month_vs_year, vmin=0, vmax=4)\n",
    "ax.set_xlabel('Month').set_size(20)\n",
    "ax.set_ylabel('Year').set_size(20)"
   ]
  },
  {
   "cell_type": "markdown",
   "metadata": {},
   "source": [
    "Q140. Write a pandas program to create a Timewheel of Hour VS Year\n",
    "comparison of the top 10 years in which the (UFO) was sighted."
   ]
  },
  {
   "cell_type": "code",
   "execution_count": 100,
   "metadata": {},
   "outputs": [
    {
     "name": "stdout",
     "output_type": "stream",
     "text": [
      "\n",
      "Comparison of the top 10 years in which the UFO was sighted vs each month:\n"
     ]
    },
    {
     "name": "stderr",
     "output_type": "stream",
     "text": [
      "C:\\Users\\Nandu\\Anaconda3\\lib\\site-packages\\matplotlib\\colors.py:527: RuntimeWarning: invalid value encountered in less\n",
      "  xa[xa < 0] = -1\n"
     ]
    },
    {
     "data": {
      "image/png": "[encoded data removed]",
      "text/plain": [
       "<Figure size 576x576 with 1 Axes>"
      ]
     },
     "metadata": {},
     "output_type": "display_data"
    }
   ],
   "source": [
    "import matplotlib.pyplot as plt\n",
    "import matplotlib as mpl\n",
    "import matplotlib.cm as cm\n",
    "df = pd.read_csv('ufo.csv')\n",
    "df['Date_time'] = df['Date_time'].astype('datetime64[ns]')\n",
    "most_sightings_years = df['Date_time'].dt.year.value_counts().head(10)\n",
    "def is_top_years(year):\n",
    "    if year in most_sightings_years.index:\n",
    "        return year\n",
    "month_vs_year = df.pivot_table(columns=df['Date_time'].dt.month,index=df['Date_time'].dt.year.apply(is_top_years),aggfunc='count',values='city')\n",
    "month_vs_year.index = month_vs_year.index.astype(int)\n",
    "month_vs_year.columns = month_vs_year.columns.astype(int)\n",
    "print(\"\\nComparison of the top 10 years in which the UFO was sighted vs each month:\")\n",
    "def pie_heatmap(table, cmap='coolwarm_r', vmin=None, vmax=None,inner_r=0.25, pie_args={}):\n",
    "    n, m = table.shape\n",
    "    vmin= table.min().min() if vmin is None else vmin\n",
    "    vmax= table.max().max() if vmax is None else vmax\n",
    "\n",
    "    centre_circle = plt.Circle((0,0),inner_r,edgecolor='black',facecolor='white',fill=True,linewidth=0.25)\n",
    "    plt.gcf().gca().add_artist(centre_circle)\n",
    "    norm = mpl.colors.Normalize(vmin=vmin, vmax=vmax)\n",
    "    cmapper = cm.ScalarMappable(norm=norm, cmap=cmap)\n",
    "\n",
    "    for i, (row_name, row) in enumerate(table.iterrows()):\n",
    "        labels = None if i > 0 else table.columns\n",
    "        wedges = plt.pie([1] * m,radius=inner_r+float(n-i)/n, colors=[cmapper.to_rgba(x) for x in row.values],\n",
    "           labels=labels, startangle=90, counterclock=False, wedgeprops={'linewidth':-1}, **pie_args)\n",
    "        plt.setp(wedges[0], edgecolor='grey',linewidth=1.5)\n",
    "        wedges = plt.pie([1], radius=inner_r+float(n-i-1)/n, colors=['w'], labels=[row_name], startangle=-90, wedgeprops={'linewidth':0})\n",
    "        plt.setp(wedges[0], edgecolor='grey',linewidth=1.5)\n",
    "plt.figure(figsize=(8,8))\n",
    "plt.title(\"Timewheel of Hour Vs Year\",y=1.08,fontsize=30)\n",
    "pie_heatmap(month_vs_year, vmin=-20,vmax=80,inner_r=0.2)"
   ]
  },
  {
   "cell_type": "markdown",
   "metadata": {},
   "source": [
    "Q141. Write a python program to draw the line using given axis values\n",
    "with the suitable label in the x-axis, y-axis, and a title."
   ]
  },
  {
   "cell_type": "code",
   "execution_count": 101,
   "metadata": {},
   "outputs": [
    {
     "data": {
      "image/png": "[encoded data removed]",
      "text/plain": [
       "<Figure size 432x288 with 1 Axes>"
      ]
     },
     "metadata": {
      "needs_background": "light"
     },
     "output_type": "display_data"
    }
   ],
   "source": [
    "import matplotlib.pyplot as plt\n",
    "x = [1,2,3]\n",
    "y = [2,4,1]\n",
    "plt.plot(x, y)\n",
    "plt.xlabel('x - axis')\n",
    "plt.ylabel('y - axis')\n",
    "plt.title('Sample graph!')\n",
    "plt.show()"
   ]
  },
  {
   "cell_type": "markdown",
   "metadata": {},
   "source": [
    "Q142. Write a python program to draw the line charts of the financial\n",
    "data of the Alphabet Inc., between October.\n",
    "3, 2016 to October 7 2016.\n",
    "Sample Financial data (fdata.csv)-\n",
    "Date,Open,High,Low,Close\n",
    "10-03-16,774.25,776.065002,769.5,772.559998\n",
    "10-04-16 , 776.030029, 778.710022,772.890015,776.429993\n",
    "10-05-16 , 779.309998, 782.070007,775.650024,776.469971\n",
    "10-06-16 , 779 , 780.47998,775.539978,776.859985\n",
    "10-07-16,779.659973, 779.659973 , 770.75 , 775.080017\n",
    "The code snippet gives the output shown in the screenshot:"
   ]
  },
  {
   "cell_type": "code",
   "execution_count": 103,
   "metadata": {},
   "outputs": [
    {
     "data": {
      "image/png": "[encoded data removed]",
      "text/plain": [
       "<Figure size 432x288 with 1 Axes>"
      ]
     },
     "metadata": {
      "needs_background": "light"
     },
     "output_type": "display_data"
    }
   ],
   "source": [
    "import matplotlib.pyplot as plt\n",
    "import pandas as pd\n",
    "df = pd.read_csv('fdata.csv', sep=',', parse_dates=True, index_col=0)\n",
    "df.plot()\n",
    "plt.show()"
   ]
  },
  {
   "cell_type": "markdown",
   "metadata": {},
   "source": [
    "Q143. Write a Python program to plot two or more lines on same plot\n",
    "with the suitable legends of each line."
   ]
  },
  {
   "cell_type": "code",
   "execution_count": 104,
   "metadata": {},
   "outputs": [
    {
     "data": {
      "image/png": "[encoded data removed]",
      "text/plain": [
       "<Figure size 432x288 with 1 Axes>"
      ]
     },
     "metadata": {
      "needs_background": "light"
     },
     "output_type": "display_data"
    }
   ],
   "source": [
    "import matplotlib.pyplot as plt\n",
    "x1 = [10,20,30]\n",
    "y1 = [20,40,10]\n",
    "plt.plot(x1, y1, label = \"line 1\")\n",
    "x2 = [10,20,30]\n",
    "y2 = [40,10,30]\n",
    "plt.plot(x2, y2, label = \"line 2\")\n",
    "plt.xlabel('x - axis')\n",
    "plt.ylabel('y - axis')\n",
    "plt.title('Two or more lines on same plot with suitable legends ')\n",
    "plt.legend()\n",
    "plt.show()"
   ]
  },
  {
   "cell_type": "markdown",
   "metadata": {},
   "source": [
    "Q144. Write a python programming to display a bar chart of the\n",
    "popularity of programming languages.\n",
    "Sample data:\n",
    "programming languages- Java, Python, PHP, JavaScript, C#, C++\n",
    "Popularity- 22.2, 17.6, 8.8, 8, 7.7 , 6.7\n",
    "The code snippet gives the output shown in the screenshot:"
   ]
  },
  {
   "cell_type": "code",
   "execution_count": 105,
   "metadata": {},
   "outputs": [
    {
     "data": {
      "image/png": "[encoded data removed]",
      "text/plain": [
       "<Figure size 432x288 with 1 Axes>"
      ]
     },
     "metadata": {
      "needs_background": "light"
     },
     "output_type": "display_data"
    }
   ],
   "source": [
    "import matplotlib.pyplot as plt\n",
    "import pandas as pd\n",
    "x = ['Java', 'Python', 'PHP', 'JavaScript', 'C#', 'C++']\n",
    "popularity = [22.2, 17.6, 8.8, 8, 7.7, 6.7]\n",
    "df=pd.DataFrame(data=popularity ,index=x,columns=['Popularity'])\n",
    "df.plot(kind='bar',color='blue',legend=False)\n",
    "plt.xlabel(\"Languages\")\n",
    "plt.ylabel(\"Popularity\")\n",
    "plt.title(\"PopularitY of Programming Language\\n\" + \"Worldwide, Oct 2017 compared to a year ago\")\n",
    "plt.grid(which='major', linestyle='-', linewidth='0.5', color='red')\n",
    "plt.grid(which='minor', linestyle=':', linewidth='0.5', color='black')\n",
    "plt.minorticks_on()"
   ]
  },
  {
   "cell_type": "markdown",
   "metadata": {},
   "source": [
    "Q145. Write a python programming to display a horizontal bar chart of\n",
    "the popularity of programming languages.\n",
    "Sample data:\n",
    "programming languages- Java, Python, PHP, JavaScript, C#, C++\n",
    "Popularity- 22.2, 17.6, 8.8, 8, 7.7 , 6.7"
   ]
  },
  {
   "cell_type": "code",
   "execution_count": 106,
   "metadata": {},
   "outputs": [
    {
     "data": {
      "image/png": "[encoded data removed]",
      "text/plain": [
       "<Figure size 432x288 with 1 Axes>"
      ]
     },
     "metadata": {
      "needs_background": "light"
     },
     "output_type": "display_data"
    }
   ],
   "source": [
    "import matplotlib.pyplot as plt\n",
    "import pandas as pd\n",
    "x = ['Java', 'Python', 'PHP', 'JavaScript', 'C#', 'C++']\n",
    "popularity = [22.2, 17.6, 8.8, 8, 7.7, 6.7]\n",
    "df=pd.DataFrame(data=popularity ,index=x,columns=['Popularity'])\n",
    "df.plot(kind='barh',legend=False,color='Green')\n",
    "plt.xlabel(\"Languages\")\n",
    "plt.ylabel(\"Popularity\")\n",
    "plt.title(\"PopularitY of Programming Language\\n\" + \"Worldwide, Oct 2017 compared to a year ago\")\n",
    "plt.grid(which='major', linestyle='-', linewidth='0.5', color='red')\n",
    "plt.grid(which='minor', linestyle=':', linewidth='0.5', color='black')\n",
    "plt.minorticks_on()"
   ]
  },
  {
   "cell_type": "markdown",
   "metadata": {},
   "source": [
    "Q146. Write a python programming to display a bar chart of the\n",
    "Popularity of programming languages. Increase bottom margin\n",
    "Sample data:\n",
    "programming languages: Java, Python, PHP, JavaScript, C#, C++\n",
    "Popularity: 22.2, 17.6, 8.8, 8, 7.7 , 6.7\n",
    "The code snippet gives the output shown in the screenshot:"
   ]
  },
  {
   "cell_type": "code",
   "execution_count": 107,
   "metadata": {},
   "outputs": [
    {
     "data": {
      "image/png": "[encoded data removed]",
      "text/plain": [
       "<Figure size 432x288 with 1 Axes>"
      ]
     },
     "metadata": {
      "needs_background": "light"
     },
     "output_type": "display_data"
    }
   ],
   "source": [
    "import matplotlib.pyplot as plt\n",
    "import pandas as pd\n",
    "x = ['Java', 'Python', 'PHP', 'JavaScript', 'C#', 'C++']\n",
    "popularity = [22.2, 17.6, 8.8, 8, 7.7, 6.7]\n",
    "df=pd.DataFrame(data=popularity ,index=x,columns=['Popularity'])\n",
    "df.plot(kind='bar')\n",
    "plt.xlabel(\"Languages\")\n",
    "plt.ylabel(\"Popularity\")\n",
    "plt.title(\"PopularitY of Programming Language\\n\" + \"Worldwide, Oct 2017 compared to a year ago\")\n",
    "plt.grid(which='major', linestyle='-', linewidth='0.5', color='red')\n",
    "plt.grid(which='minor', linestyle=':', linewidth='0.5', color='black')\n",
    "plt.minorticks_on()"
   ]
  },
  {
   "cell_type": "markdown",
   "metadata": {},
   "source": [
    "Q147. Write a python program to create the bar plot from a DataFrame.\n",
    "a b c d e\n",
    "2 4,8,5,7,6\n",
    "4 2,3,4,2,6\n",
    "6 4,7,4,7, 8\n",
    "8 2,6,4,8, 6\n",
    "10 2,4,3,3, 2"
   ]
  },
  {
   "cell_type": "code",
   "execution_count": 108,
   "metadata": {},
   "outputs": [
    {
     "data": {
      "image/png": "[encoded data removed]",
      "text/plain": [
       "<Figure size 432x288 with 1 Axes>"
      ]
     },
     "metadata": {
      "needs_background": "light"
     },
     "output_type": "display_data"
    }
   ],
   "source": [
    "from pandas import DataFrame\n",
    "import matplotlib.pyplot as plt\n",
    "import numpy as np\n",
    "a=np.array([[4,8,5,7,6],[2,3,4,2,6],[4,7,4,7,8],[2,6,4,8,6],[2,4,3,3,2]])\n",
    "df=DataFrame(a, columns=['a','b','c','d','e'], index=[2,4,6,8,10])\n",
    "df.plot(kind='bar')\n",
    "plt.grid(which='major', linestyle='-', linewidth='0.5', color='red')\n",
    "plt.grid(which='minor', linestyle=':', linewidth='0.5', color='red')\n",
    "plt.minorticks_on()"
   ]
  },
  {
   "cell_type": "markdown",
   "metadata": {},
   "source": [
    "Q148. Write a python program to draw the scatter plot comparing two\n",
    "subject marks of Mathematics and Science. Use marks of 10 students.\n",
    "Sample data:\n",
    "Test Datamath_marks = [88, 92 , 80, 89, 100, 80, 60, 100, 80, 34]\n",
    "science_marks = [35, 79, 79 , 48, 100, 88, 32, 45, 20, 30]\n",
    "marks_range = [10, 20, 30, 40, 50, 60, 70, 80, 90, 100]"
   ]
  },
  {
   "cell_type": "code",
   "execution_count": 109,
   "metadata": {},
   "outputs": [
    {
     "data": {
      "image/png": "[encoded data removed]",
      "text/plain": [
       "<Figure size 432x288 with 1 Axes>"
      ]
     },
     "metadata": {
      "needs_background": "light"
     },
     "output_type": "display_data"
    }
   ],
   "source": [
    "import matplotlib.pyplot as plt\n",
    "%matplotlib inline\n",
    "math_marks = [88, 92 , 80, 89, 100, 80, 60, 100, 80, 34] \n",
    "science_marks = [35, 79, 79 , 48, 100, 88, 32, 45, 20, 30] \n",
    "marks_range = [10, 20, 30, 40, 50, 60, 70, 80, 90, 100]\n",
    "plt.scatter(marks_range,math_marks,label='Math marks',color='r')\n",
    "plt.scatter(marks_range,science_marks,label='Science marks',color='g')\n",
    "plt.title('Scatter Plot')\n",
    "plt.ylabel('Marks Scored')\n",
    "plt.xlabel('Marks Range')\n",
    "plt.legend()\n",
    "plt.show()"
   ]
  },
  {
   "cell_type": "markdown",
   "metadata": {},
   "source": [
    "Q149. Write a python program to draw the scatter plot for three different\n",
    "groups comparing weights and heights.\n",
    "The output shown in the screenshot:"
   ]
  },
  {
   "cell_type": "code",
   "execution_count": 110,
   "metadata": {},
   "outputs": [
    {
     "data": {
      "text/plain": [
       "Text(0.5, 1.0, 'Group wise Weight vs Height scatter plot')"
      ]
     },
     "execution_count": 110,
     "metadata": {},
     "output_type": "execute_result"
    },
    {
     "data": {
      "image/png": "[encoded data removed]",
      "text/plain": [
       "<Figure size 432x288 with 1 Axes>"
      ]
     },
     "metadata": {
      "needs_background": "light"
     },
     "output_type": "display_data"
    }
   ],
   "source": [
    "import matplotlib.pyplot as plt\n",
    "import numpy as np \n",
    "weight1=[67,57.2,59.6,59.64,55.8,61.2,60.45,61,56.23,56]\n",
    "height1=[101.7,197.6,98.3,125.1,113.7,157.7,136,148.9,125.3,114.9] \n",
    "weight2=[61.9,64,62.1,64.2,62.3,65.4,62.4,61.4,62.5,63.6]\n",
    "height2=[152.8,155.3,135.1,125.2,151.3,135,182.2,195.9,165.1,125.1] \n",
    "weight3=[68.2,67.2,68.4,68.7,71,71.3,70.8,70,71.1,71.7]\n",
    "height3=[165.8,170.9,192.8,135.4,161.4,136.1,167.1,235.1,181.1,177.3]\n",
    "plt.scatter(weight1,height1,marker='*',color='red')\n",
    "plt.scatter(weight2,height2,marker='*',color='green')\n",
    "plt.scatter(weight3,height3,marker='*',color='blue')\n",
    "plt.xlabel('weight', fontsize=16)\n",
    "plt.ylabel('height', fontsize=16)\n",
    "plt.title('Group wise Weight vs Height scatter plot',fontsize=20)"
   ]
  },
  {
   "cell_type": "markdown",
   "metadata": {},
   "source": [
    "Q150. Write a python program to draw a scatter plot to find sea-level\n",
    "rise in past 100 years."
   ]
  },
  {
   "cell_type": "code",
   "execution_count": 115,
   "metadata": {},
   "outputs": [
    {
     "data": {
      "image/png": "[encoded data removed]",
      "text/plain": [
       "<Figure size 432x288 with 1 Axes>"
      ]
     },
     "metadata": {
      "needs_background": "light"
     },
     "output_type": "display_data"
    }
   ],
   "source": [
    "import matplotlib.pyplot as plt\n",
    "import pandas as pd\n",
    "data = pd.read_csv('data.csv')\n",
    "year = data['year']\n",
    "sea_levels = data['CSIRO_sea_level']\n",
    "plt.scatter(year, sea_levels, edgecolors='g')\n",
    "plt.xlabel('Year')\n",
    "plt.ylabel('Sea Level (inches)')\n",
    "plt.title('Rise in Sealevel')\n",
    "plt.show()"
   ]
  }
 ],
 "metadata": {
  "kernelspec": {
   "display_name": "Python 3",
   "language": "python",
   "name": "python3"
  },
  "language_info": {
   "codemirror_mode": {
    "name": "ipython",
    "version": 3
   },
   "file_extension": ".py",
   "mimetype": "text/x-python",
   "name": "python",
   "nbconvert_exporter": "python",
   "pygments_lexer": "ipython3",
   "version": "3.7.4"
  }
 },
 "nbformat": 4,
 "nbformat_minor": 2
}
